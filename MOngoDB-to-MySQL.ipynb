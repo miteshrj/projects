{
 "cells": [
  {
   "cell_type": "markdown",
   "metadata": {},
   "source": [
    "### Importing libraries"
   ]
  },
  {
   "cell_type": "code",
   "execution_count": 1,
   "metadata": {},
   "outputs": [],
   "source": [
    "import pymongo\n",
    "from pymongo import MongoClient\n",
    "import json\n",
    "import requests\n",
    "from bson.code import Code\n",
    "from sqlalchemy import create_engine\n",
    "import pymysql\n",
    "import warnings\n",
    "import mysql.connector\n",
    "import re\n",
    "import pandas as pd\n",
    "import numpy as np\n",
    "import collections as cl\n",
    "from pandas.io.json import json_normalize"
   ]
  },
  {
   "cell_type": "markdown",
   "metadata": {},
   "source": [
    "#### Establishing connetion with mongoDB"
   ]
  },
  {
   "cell_type": "code",
   "execution_count": 2,
   "metadata": {},
   "outputs": [],
   "source": [
    "client = MongoClient(\"mongodb://localhost:27017/\")"
   ]
  },
  {
   "cell_type": "markdown",
   "metadata": {},
   "source": [
    "# Reads \"reviews_electronics.16.json\" and uploads each review as a separate document to the collection \"reviews\" in the database \"amazon\"."
   ]
  },
  {
   "cell_type": "markdown",
   "metadata": {},
   "source": [
    "#### Creating a database called 'amazon'"
   ]
  },
  {
   "cell_type": "code",
   "execution_count": 3,
   "metadata": {},
   "outputs": [],
   "source": [
    "amazon_db = client[\"amazon\"]"
   ]
  },
  {
   "cell_type": "markdown",
   "metadata": {},
   "source": [
    "#### Creating a collection called \"electronics\""
   ]
  },
  {
   "cell_type": "code",
   "execution_count": 7,
   "metadata": {},
   "outputs": [],
   "source": [
    "electronics_collection = amazon_db[\"electronics\"]"
   ]
  },
  {
   "cell_type": "markdown",
   "metadata": {},
   "source": [
    "#### Loading the data into a list of dictionaries"
   ]
  },
  {
   "cell_type": "code",
   "execution_count": 8,
   "metadata": {
    "scrolled": true
   },
   "outputs": [],
   "source": [
    "electronics_list = []\n",
    "for line in open('reviews_electronics.16.json', 'r'):\n",
    "    electronics_list.append(json.loads(line))"
   ]
  },
  {
   "cell_type": "code",
   "execution_count": 9,
   "metadata": {},
   "outputs": [
    {
     "data": {
      "text/plain": [
       "list"
      ]
     },
     "execution_count": 9,
     "metadata": {},
     "output_type": "execute_result"
    }
   ],
   "source": [
    "type(electronics_list)"
   ]
  },
  {
   "cell_type": "markdown",
   "metadata": {},
   "source": [
    "#### Saving the data into mongoDB amazon database reviews collection"
   ]
  },
  {
   "cell_type": "code",
   "execution_count": 10,
   "metadata": {},
   "outputs": [
    {
     "data": {
      "text/plain": [
       "<pymongo.results.InsertManyResult at 0x1a51cfaad48>"
      ]
     },
     "execution_count": 10,
     "metadata": {},
     "output_type": "execute_result"
    }
   ],
   "source": [
    "electronics_collection.insert_many(electronics_list)"
   ]
  },
  {
   "cell_type": "markdown",
   "metadata": {},
   "source": [
    "#### Saving all the data from \"electronics\" collection in \"amazon\" databse of MongoDB into \"electronics_stored\".\n",
    "\n",
    "\"electronics_from_mongoDB\" is a cursor and not where the data is being stored"
   ]
  },
  {
   "cell_type": "code",
   "execution_count": 11,
   "metadata": {},
   "outputs": [],
   "source": [
    "electronics_from_mongoDB = amazon_db.electronics.find({})"
   ]
  },
  {
   "cell_type": "code",
   "execution_count": 14,
   "metadata": {},
   "outputs": [
    {
     "data": {
      "text/plain": [
       "{'_id': ObjectId('5e5da775da1120978e1f8213'),\n",
       " 'reviewerID': 'A2X8VX4DPMQFQQ',\n",
       " 'asin': 'B00E4KP4W6',\n",
       " 'reviewerName': 'lily68',\n",
       " 'helpful': [1, 1],\n",
       " 'reviewText': \"I can't believe I waited to long to switch to a glass screen protector.  I love this.  It feels and looks like there is no protector on.  It does show fingerprints, which I think is inevitable unless you use a matte finish screen protector, but they wipe right away. I would definitely recommend this! Easier to apply than the films too!\",\n",
       " 'overall': 5.0,\n",
       " 'summary': 'LOVE this screen protector!!',\n",
       " 'unixReviewTime': 1393459200,\n",
       " 'reviewTime': '02 27, 2014'}"
      ]
     },
     "execution_count": 14,
     "metadata": {},
     "output_type": "execute_result"
    }
   ],
   "source": [
    "electronics_from_mongoDB[1]"
   ]
  },
  {
   "cell_type": "markdown",
   "metadata": {},
   "source": [
    "#### Creating an empty list"
   ]
  },
  {
   "cell_type": "code",
   "execution_count": 13,
   "metadata": {},
   "outputs": [],
   "source": [
    "electronics_stored = []"
   ]
  },
  {
   "cell_type": "code",
   "execution_count": 15,
   "metadata": {},
   "outputs": [],
   "source": [
    "for x in electronics_from_mongoDB:\n",
    "    electronics_stored.append(x)"
   ]
  },
  {
   "cell_type": "markdown",
   "metadata": {},
   "source": [
    "#### Printing only the first 25 documents from the \"electronics\" collection"
   ]
  },
  {
   "cell_type": "code",
   "execution_count": 25,
   "metadata": {},
   "outputs": [
    {
     "name": "stdout",
     "output_type": "stream",
     "text": [
      "{'_id': ObjectId('5e5da775da1120978e1f8212'), 'reviewerID': 'AKM1MP6P0OYPR', 'asin': '0132793040', 'reviewerName': 'Vicki Gibson \"momo4\"', 'helpful': [1, 1], 'reviewText': 'Corey Barker does a great job of explaining Blend Modes in this DVD. All of the Kelby training videos are great but pricey to buy individually. If you really want bang for your buck just subscribe to Kelby Training online.', 'overall': 5.0, 'summary': 'Very thorough', 'unixReviewTime': 1365811200, 'reviewTime': '04 13, 2013'}\n",
      "\n",
      "\n",
      "{'_id': ObjectId('5e5da775da1120978e1f8213'), 'reviewerID': 'A2X8VX4DPMQFQQ', 'asin': 'B00E4KP4W6', 'reviewerName': 'lily68', 'helpful': [1, 1], 'reviewText': \"I can't believe I waited to long to switch to a glass screen protector.  I love this.  It feels and looks like there is no protector on.  It does show fingerprints, which I think is inevitable unless you use a matte finish screen protector, but they wipe right away. I would definitely recommend this! Easier to apply than the films too!\", 'overall': 5.0, 'summary': 'LOVE this screen protector!!', 'unixReviewTime': 1393459200, 'reviewTime': '02 27, 2014'}\n",
      "\n",
      "\n",
      "{'_id': ObjectId('5e5da775da1120978e1f8214'), 'reviewerID': 'A1JEKX4D58576X', 'asin': 'B00E4KP4W6', 'reviewerName': 'Mara Milagros', 'helpful': [2, 2], 'reviewText': 'presentation of product is beautiful, everything is perfect! And my iPad screen seems to be really protected. I recommend it.', 'overall': 5.0, 'summary': 'excellent', 'unixReviewTime': 1394496000, 'reviewTime': '03 11, 2014'}\n",
      "\n",
      "\n",
      "{'_id': ObjectId('5e5da775da1120978e1f8215'), 'reviewerID': 'ATM6RRB90D8DV', 'asin': 'B00E4KP4W6', 'reviewerName': 'Matthew D. Irmen \"Jazz Fan\"', 'helpful': [1, 2], 'reviewText': \"I bought this screen protector because I was unimpressed with the Otterbox Defender attached screen protector. If I have a retina display iPad, I want it to look like it has retina display, not a hazy iPad 2. So... I started researching and came across this tempered glass screen protector with promises of easy installation and beautiful retina quality display. I have to admit that I am very impressed with the picture quality and the ease of installation. Best of all, I was able to tear out the plastic screen protector from my Otterbox defender case and use the case without issue. So why did I give it 4 stars? Because of the home button sticker! The sticker is a lame plastic blob that sits on the home button and looks ugly. I thought little of it because I would bury it under the frame of the Otterbox case. Unfortunately it causes slight problems with the use of the home button. If I press for slightly too long (a second) it activates siri. Believe me it's not the end of the world and I love how the screen looks it's just a minor issue that justifies 4 stars.\", 'overall': 4.0, 'summary': 'Nice looking, easy to install glass screen protector that works beautifully with the Otterbox Defender.', 'unixReviewTime': 1393891200, 'reviewTime': '03 4, 2014'}\n",
      "\n",
      "\n",
      "{'_id': ObjectId('5e5da775da1120978e1f8216'), 'reviewerID': 'A3QOYJ97A6OMX7', 'asin': 'B00E4KP4W6', 'reviewerName': 'pharmdaddyd', 'helpful': [1, 1], 'reviewText': 'this is a great screen protector for the price, not as expensive as others and just as good as name brands', 'overall': 5.0, 'summary': 'great for the price', 'unixReviewTime': 1388361600, 'reviewTime': '12 30, 2013'}\n",
      "\n",
      "\n",
      "{'_id': ObjectId('5e5da775da1120978e1f8217'), 'reviewerID': 'AWO84NZ6VDYR2', 'asin': 'B00E4KP4W6', 'reviewerName': 'shalane rogillio', 'helpful': [0, 0], 'reviewText': 'I ordered two of these &#34;shatter proof&#34; protector for iPad s.  One arrived broken. Amazon refunded and ordered another one just like it.  Using the flat plastic tool to push bubbles out, the edge of this chipped.  This is definitely not up breakable and when it does break it is in big shards.  So from the 3 I have touched, only one is perfect.', 'overall': 1.0, 'summary': 'Not happy with this, would not recommend', 'unixReviewTime': 1404777600, 'reviewTime': '07 8, 2014'}\n",
      "\n",
      "\n",
      "{'_id': ObjectId('5e5da775da1120978e1f8218'), 'reviewerID': 'A15ZEBTKX72NPB', 'asin': 'B00E4KP4W6', 'reviewerName': 'S. Marcus \"pdtpoet\"', 'helpful': [1, 2], 'reviewText': \"For some reasons, the clear film screens that other people like have short lives on my devices...they begin to curl or bubble or peel within a week or 2 of application, and look terrible.  The only film screen that stayed on my ipad blurred my view of the screen a little bit, which was a constant annoyance.  Putting a tempered glass screen on my iphone 5 solved all those problems so well that I replaced the plastic screen on my iPad 2 with this WOPUTUO tempered glass screen protector.  Application was easy and there were no bubbles in the viewing area at all!  The screen is wonderfully clear so I can finally see the full resolution of the iPad screen.  I'm only sorry I did not use the tempered glass screen when I first bought my iPad!\", 'overall': 5.0, 'summary': 'Far better than film screens for iPhone or iPad!', 'unixReviewTime': 1392249600, 'reviewTime': '02 13, 2014'}\n",
      "\n",
      "\n",
      "{'_id': ObjectId('5e5da775da1120978e1f8219'), 'reviewerID': 'A2ZI014DO0LWEW', 'asin': 'B00E4KP4W6', 'reviewerName': 'SueinCa', 'helpful': [0, 0], 'reviewText': 'This was just what the doctor ordered for my broken screen and i could not afford replacement and this is next best thing and perfect.', 'overall': 5.0, 'summary': 'Right On', 'unixReviewTime': 1397174400, 'reviewTime': '04 11, 2014'}\n",
      "\n",
      "\n",
      "{'_id': ObjectId('5e5da775da1120978e1f821a'), 'reviewerID': 'A3IN9CE5GG8VKR', 'asin': 'B00E4KP4W6', 'reviewerName': 'Tess Brown', 'helpful': [0, 0], 'reviewText': 'This is the best screen protector.  Very smooth feel! Looks incredible. Takes a little skill to put on but no air bubbles at all!', 'overall': 5.0, 'summary': 'Tempered Glass Screen Protector', 'unixReviewTime': 1399593600, 'reviewTime': '05 9, 2014'}\n",
      "\n",
      "\n",
      "{'_id': ObjectId('5e5da775da1120978e1f821b'), 'reviewerID': 'A1U9ZR7HQ5EZ6L', 'asin': 'B00E4KP4W6', 'reviewerName': 'Thinker623', 'helpful': [1, 1], 'reviewText': 'Great glass cover for IPad.  I had been using ones that are top screen protector made of plastic.  I dropped my IpadAnd had a dent in protector.  I heard about these tempered glass protectors from my son.  They priced at $60.  This one was much cheaper and works great.  Cannot believe the quality difference between glass and the plastic.', 'overall': 5.0, 'summary': 'Great glass cover for IPad.', 'unixReviewTime': 1391126400, 'reviewTime': '01 31, 2014'}\n",
      "\n",
      "\n",
      "{'_id': ObjectId('5e5da775da1120978e1f821c'), 'reviewerID': 'A2DFGG75NH91H2', 'asin': 'B00E4KP4W6', 'reviewerName': 'Thuddds', 'helpful': [0, 0], 'reviewText': 'Glass screen protectors are a drastic improvement over plastic film protectors.  The glass fits perfectly without any bubbles.  This kit came with wipes and a cleaning cloth.  It helps to dab the ipad with a piece of masking tape to pick up any remaining dust before the glass goes on.', 'overall': 5.0, 'summary': 'Excellent', 'unixReviewTime': 1399420800, 'reviewTime': '05 7, 2014'}\n",
      "\n",
      "\n",
      "{'_id': ObjectId('5e5da775da1120978e1f821d'), 'reviewerID': 'ADTAGIHSU42HH', 'asin': 'B00E4KP4W6', 'reviewerName': 'Wvmtnivy', 'helpful': [1, 1], 'reviewText': 'Easy application and clear as glass, one step. Received product very promptly with no complications. Very please with my purchase', 'overall': 5.0, 'summary': 'Nice screen protector', 'unixReviewTime': 1385251200, 'reviewTime': '11 24, 2013'}\n",
      "\n",
      "\n",
      "{'_id': ObjectId('5e5da775da1120978e1f821e'), 'reviewerID': 'A2QXOUHUL5CDT5', 'asin': 'B00E4KP8VI', 'reviewerName': 'Cassi Olsen', 'helpful': [0, 0], 'reviewText': \"Bought these even though I was skeptical. They ended up being very awesome. They're somewhat large, so they'll fit big heads or over glasses well. They sound clear, the mic works well and that it's short is a plus. They feel cheap/flimsy at first, but have been holding up well. Definitely would buy again!\", 'overall': 5.0, 'summary': 'Great headset for cheap.', 'unixReviewTime': 1379030400, 'reviewTime': '09 13, 2013'}\n",
      "\n",
      "\n",
      "{'_id': ObjectId('5e5da775da1120978e1f821f'), 'reviewerID': 'A1YQI2Y7DRYFZL', 'asin': 'B00E4KPMC8', 'reviewerName': 'HBP', 'helpful': [1, 1], 'reviewText': \"Despite what the specifications say this camera will only tilt about 75 degrees which means it will not look horizontal.  If you have in mind looking out across an open area outdoors be prepared to mount it sky high because it will always look downward.  The camera appears to be a Foscam fi8919w clone.  It looks like and responds to all the same command syntax.The camera works well electronically.  I had no problem using the ActiveX mode in Windows 7 and Internet Explorer 11.  The software that comes with this camera was written for Windows XP and requires some compatibility tinkering to run in Win7.  It wasn't stellar when it was written and now it is years out of date.  On the plus side, the built in wifi works very well as mine is a long way from the AP and works without issue.Like a lot of these cameras it was not focused well from the factory which required me to disassemble the lens cover and twist the focus ring.  In so doing I observed there are no rubber seals or very much weatherproofing at all.  The bracket is nice metal and the electronics seem fine but I suspect I will have water and fogging problems with my outside installation.As the old saying goes, you get what you pay for.  This camera might be a good choice to mount under a porch and watch your front door but in general is not what I would call high quality.\", 'overall': 2.0, 'summary': 'Will not tilt horizontal', 'unixReviewTime': 1393459200, 'reviewTime': '02 27, 2014'}\n",
      "\n",
      "\n",
      "{'_id': ObjectId('5e5da775da1120978e1f8220'), 'reviewerID': 'AWFP70TL8BF43', 'asin': 'B00E4KPMC8', 'reviewerName': 'PJ \"Peter\"', 'helpful': [1, 1], 'reviewText': 'During the day this cam had a decent picture. The wireless seems to work a little better than on other models. My problem was the range of the LED lighting at night. I have a 50 foot driveway and unfortunately this had a ranges of about a third of the distance. This would be a good cam for on a porch to see who is at your door and do well at night.', 'overall': 3.0, 'summary': 'Not what I needed', 'unixReviewTime': 1393027200, 'reviewTime': '02 22, 2014'}\n",
      "\n",
      "\n",
      "{'_id': ObjectId('5e5da775da1120978e1f8221'), 'reviewerID': 'A1T7SJ8JMCIIZ8', 'asin': 'B00E4KPMC8', 'reviewerName': 'Tracey Wesolowski', 'helpful': [1, 1], 'reviewText': 'The EasyN F-series Camera does not support Windows 7 or Windows 8 OS.  Limited to no customer service for support or return purposes.  Unless you speak and/or understand Mandarin or Cantanese, purchase another system.', 'overall': 1.0, 'summary': 'DO NOT PURCHASE!', 'unixReviewTime': 1392595200, 'reviewTime': '02 17, 2014'}\n",
      "\n",
      "\n",
      "{'_id': ObjectId('5e5da775da1120978e1f8222'), 'reviewerID': 'A2QO3GRUYBVDX5', 'asin': 'B00E4KQ5C4', 'reviewerName': 'Alexander Cornwell', 'helpful': [1, 1], 'reviewText': \"These may seem like they're gonna be crap for the low price but just hear me out! These sound amazing, the mic records in HD quality for recording, the earphones... are actually noise cancelling! The price is amazing! The fact that it's so low astonishes me! All around, your not making a mistake for buying these!\", 'overall': 5.0, 'summary': 'How?', 'unixReviewTime': 1388707200, 'reviewTime': '01 3, 2014'}\n",
      "\n",
      "\n",
      "{'_id': ObjectId('5e5da775da1120978e1f8223'), 'reviewerID': 'AQ1VEA1RAXMJM', 'asin': 'B00E4KQ9GG', 'reviewerName': 'Amazon Customer \"Annette\"', 'helpful': [1, 1], 'reviewText': 'I wasnt sure at first if I liked it, but after I figured out how to use the stand, I really like it.Pros: a tight fit without those corner elastic bands. Nice and snugHas a nice stand, so you can use it in an upright positionHas protective inside so when you close your case, it doesnt scratch the screencon:  Only one. When you slide the tab into one of the grooves so you can use it in an upright position, it slides out veryEasily. I am hoping that they make that groove a little deeper the next time', 'overall': 4.0, 'summary': 'nice fitting case for the samsung galaxy tab 3', 'unixReviewTime': 1390953600, 'reviewTime': '01 29, 2014'}\n",
      "\n",
      "\n",
      "{'_id': ObjectId('5e5da775da1120978e1f8224'), 'reviewerID': 'A28YUFBI33QZ28', 'asin': 'B00E4KQ9GG', 'reviewerName': 'Amazon Customer', 'helpful': [4, 4], 'reviewText': 'This is a great case. It has a smooth luxurious feel. My 8 inch Samsung tablet fits snugly in the hardshell back. I especially like the clip that locks it closed. Very sturdily built and worth the money. I have always had good service from Speck cases and it looks like this one will be no exception. I would reccomend', 'overall': 5.0, 'summary': 'Top notch case !', 'unixReviewTime': 1385164800, 'reviewTime': '11 23, 2013'}\n",
      "\n",
      "\n",
      "{'_id': ObjectId('5e5da775da1120978e1f8225'), 'reviewerID': 'A1EN2PR6V7F87Z', 'asin': 'B00E4KQ9GG', 'reviewerName': 'Anne', 'helpful': [1, 1], 'reviewText': 'Lightweight and thin.  But the tablet does not fit the best at the corners.  If you consistently remove the tablet from its case, corner fit helps in that.  However, the side to side fit is completely secure. When need a replacement,  will likely get this product again.', 'overall': 3.0, 'summary': 'thin but not the best fit', 'unixReviewTime': 1400371200, 'reviewTime': '05 18, 2014'}\n",
      "\n",
      "\n",
      "{'_id': ObjectId('5e5da775da1120978e1f8226'), 'reviewerID': 'A1Y109DY2NSQYP', 'asin': 'B00E4KQ9GG', 'reviewerName': 'Barry Palacios', 'helpful': [0, 1], 'reviewText': \"Ordered this thining it would be a perfect fit being this is speck and all.  Unfortunately it didnt live up to my expectations.  The fit was unacceptable,  there were gaps all over.  Also my other cheap $15 case has the screen sleep and wake up function which the speck doesn't have.  I would have expected more ay this price range.\", 'overall': 2.0, 'summary': 'not worth the money!', 'unixReviewTime': 1389571200, 'reviewTime': '01 13, 2014'}\n",
      "\n",
      "\n",
      "{'_id': ObjectId('5e5da775da1120978e1f8227'), 'reviewerID': 'A1W8TUEAXHF1H9', 'asin': 'B00E4KQ9GG', 'reviewerName': 'Carlos Seer', 'helpful': [1, 1], 'reviewText': 'Recieved exact product as specified, no defects, product recieved within a week. The case is very durable, hold tablet in various positions.  Elegant design with the leather exterior. Top product', 'overall': 5.0, 'summary': 'excelent case', 'unixReviewTime': 1395100800, 'reviewTime': '03 18, 2014'}\n",
      "\n",
      "\n",
      "{'_id': ObjectId('5e5da775da1120978e1f8228'), 'reviewerID': 'A2U0VQAQHEFB1Y', 'asin': 'B00E4KQ9GG', 'reviewerName': 'DaddyO', 'helpful': [1, 1], 'reviewText': \"i chose to buy this case because it cost more and I knew the reputation of Speck as being TOPs, however, the one I bought did not fit properly, perhaps because the Tab3 8&#34; is new they have not perfected its fit.  My tabled kept snapping off.  It felt as if it didn't fit properly. I had to return it.\", 'overall': 3.0, 'summary': 'Beautiful design, good quality...but', 'unixReviewTime': 1389139200, 'reviewTime': '01 8, 2014'}\n",
      "\n",
      "\n",
      "{'_id': ObjectId('5e5da775da1120978e1f8229'), 'reviewerID': 'A17970XJG2BYIA', 'asin': 'B00E4KQ9GG', 'reviewerName': 'Linzee1998', 'helpful': [1, 2], 'reviewText': 'I was so excited to get this case...too bad it doesnt fit. The top and bottom both have a significant gap between the tab and the case. It ruined my screen protector and is really hard to get in and out.I will be sending it back.', 'overall': 1.0, 'summary': 'Doesnt fit!', 'unixReviewTime': 1387929600, 'reviewTime': '12 25, 2013'}\n",
      "\n",
      "\n",
      "{'_id': ObjectId('5e5da775da1120978e1f822a'), 'reviewerID': 'A6EAQI9PSIFP5', 'asin': 'B00E4KQ9K2', 'reviewerName': 'Amazon Customer', 'helpful': [0, 0], 'reviewText': 'Very satisfied with it, blue is bright but not over, perfect fit and easy to use..my samsung s4 is much safer now..', 'overall': 5.0, 'summary': 'great', 'unixReviewTime': 1395619200, 'reviewTime': '03 24, 2014'}\n",
      "\n",
      "\n"
     ]
    }
   ],
   "source": [
    "for index in range(0,25):\n",
    "    print(electronics_stored[index])\n",
    "    print('\\n')"
   ]
  },
  {
   "cell_type": "code",
   "execution_count": 43,
   "metadata": {},
   "outputs": [
    {
     "data": {
      "text/plain": [
       "'5e5da775da1120978e1f8212'"
      ]
     },
     "execution_count": 43,
     "metadata": {},
     "output_type": "execute_result"
    }
   ],
   "source": [
    "str(electronics_stored[0][\"_id\"])"
   ]
  },
  {
   "cell_type": "markdown",
   "metadata": {},
   "source": [
    "#### Converting the list of dictionaries into a dataframe"
   ]
  },
  {
   "cell_type": "code",
   "execution_count": 29,
   "metadata": {},
   "outputs": [],
   "source": [
    "electronics_df = json_normalize(electronics_stored)"
   ]
  },
  {
   "cell_type": "code",
   "execution_count": 30,
   "metadata": {},
   "outputs": [
    {
     "data": {
      "text/plain": [
       "pandas.core.frame.DataFrame"
      ]
     },
     "execution_count": 30,
     "metadata": {},
     "output_type": "execute_result"
    }
   ],
   "source": [
    "type(electronics_df)"
   ]
  },
  {
   "cell_type": "markdown",
   "metadata": {},
   "source": [
    "#### Converting columns to String type"
   ]
  },
  {
   "cell_type": "code",
   "execution_count": 70,
   "metadata": {},
   "outputs": [],
   "source": [
    "electronics_df[\"_id\"] = electronics_df._id.astype(str)"
   ]
  },
  {
   "cell_type": "code",
   "execution_count": 87,
   "metadata": {},
   "outputs": [],
   "source": [
    "electronics_df[\"helpful\"] = electronics_df.helpful.astype(str)"
   ]
  },
  {
   "cell_type": "code",
   "execution_count": 88,
   "metadata": {},
   "outputs": [
    {
     "data": {
      "text/html": [
       "<div>\n",
       "<style scoped>\n",
       "    .dataframe tbody tr th:only-of-type {\n",
       "        vertical-align: middle;\n",
       "    }\n",
       "\n",
       "    .dataframe tbody tr th {\n",
       "        vertical-align: top;\n",
       "    }\n",
       "\n",
       "    .dataframe thead th {\n",
       "        text-align: right;\n",
       "    }\n",
       "</style>\n",
       "<table border=\"1\" class=\"dataframe\">\n",
       "  <thead>\n",
       "    <tr style=\"text-align: right;\">\n",
       "      <th></th>\n",
       "      <th>_id</th>\n",
       "      <th>reviewerID</th>\n",
       "      <th>asin</th>\n",
       "      <th>reviewerName</th>\n",
       "      <th>helpful</th>\n",
       "      <th>reviewText</th>\n",
       "      <th>overall</th>\n",
       "      <th>summary</th>\n",
       "      <th>unixReviewTime</th>\n",
       "      <th>reviewTime</th>\n",
       "    </tr>\n",
       "  </thead>\n",
       "  <tbody>\n",
       "    <tr>\n",
       "      <td>0</td>\n",
       "      <td>5e5da775da1120978e1f8212</td>\n",
       "      <td>AKM1MP6P0OYPR</td>\n",
       "      <td>0132793040</td>\n",
       "      <td>Vicki Gibson \"momo4\"</td>\n",
       "      <td>[1, 1]</td>\n",
       "      <td>Corey Barker does a great job of explaining Bl...</td>\n",
       "      <td>5.0</td>\n",
       "      <td>Very thorough</td>\n",
       "      <td>1365811200</td>\n",
       "      <td>04 13, 2013</td>\n",
       "    </tr>\n",
       "    <tr>\n",
       "      <td>1</td>\n",
       "      <td>5e5da775da1120978e1f8213</td>\n",
       "      <td>A2X8VX4DPMQFQQ</td>\n",
       "      <td>B00E4KP4W6</td>\n",
       "      <td>lily68</td>\n",
       "      <td>[1, 1]</td>\n",
       "      <td>I can't believe I waited to long to switch to ...</td>\n",
       "      <td>5.0</td>\n",
       "      <td>LOVE this screen protector!!</td>\n",
       "      <td>1393459200</td>\n",
       "      <td>02 27, 2014</td>\n",
       "    </tr>\n",
       "    <tr>\n",
       "      <td>2</td>\n",
       "      <td>5e5da775da1120978e1f8214</td>\n",
       "      <td>A1JEKX4D58576X</td>\n",
       "      <td>B00E4KP4W6</td>\n",
       "      <td>Mara Milagros</td>\n",
       "      <td>[2, 2]</td>\n",
       "      <td>presentation of product is beautiful, everythi...</td>\n",
       "      <td>5.0</td>\n",
       "      <td>excellent</td>\n",
       "      <td>1394496000</td>\n",
       "      <td>03 11, 2014</td>\n",
       "    </tr>\n",
       "    <tr>\n",
       "      <td>3</td>\n",
       "      <td>5e5da775da1120978e1f8215</td>\n",
       "      <td>ATM6RRB90D8DV</td>\n",
       "      <td>B00E4KP4W6</td>\n",
       "      <td>Matthew D. Irmen \"Jazz Fan\"</td>\n",
       "      <td>[1, 2]</td>\n",
       "      <td>I bought this screen protector because I was u...</td>\n",
       "      <td>4.0</td>\n",
       "      <td>Nice looking, easy to install glass screen pro...</td>\n",
       "      <td>1393891200</td>\n",
       "      <td>03 4, 2014</td>\n",
       "    </tr>\n",
       "    <tr>\n",
       "      <td>4</td>\n",
       "      <td>5e5da775da1120978e1f8216</td>\n",
       "      <td>A3QOYJ97A6OMX7</td>\n",
       "      <td>B00E4KP4W6</td>\n",
       "      <td>pharmdaddyd</td>\n",
       "      <td>[1, 1]</td>\n",
       "      <td>this is a great screen protector for the price...</td>\n",
       "      <td>5.0</td>\n",
       "      <td>great for the price</td>\n",
       "      <td>1388361600</td>\n",
       "      <td>12 30, 2013</td>\n",
       "    </tr>\n",
       "  </tbody>\n",
       "</table>\n",
       "</div>"
      ],
      "text/plain": [
       "                        _id      reviewerID        asin  \\\n",
       "0  5e5da775da1120978e1f8212   AKM1MP6P0OYPR  0132793040   \n",
       "1  5e5da775da1120978e1f8213  A2X8VX4DPMQFQQ  B00E4KP4W6   \n",
       "2  5e5da775da1120978e1f8214  A1JEKX4D58576X  B00E4KP4W6   \n",
       "3  5e5da775da1120978e1f8215   ATM6RRB90D8DV  B00E4KP4W6   \n",
       "4  5e5da775da1120978e1f8216  A3QOYJ97A6OMX7  B00E4KP4W6   \n",
       "\n",
       "                  reviewerName helpful  \\\n",
       "0         Vicki Gibson \"momo4\"  [1, 1]   \n",
       "1                       lily68  [1, 1]   \n",
       "2                Mara Milagros  [2, 2]   \n",
       "3  Matthew D. Irmen \"Jazz Fan\"  [1, 2]   \n",
       "4                  pharmdaddyd  [1, 1]   \n",
       "\n",
       "                                          reviewText  overall  \\\n",
       "0  Corey Barker does a great job of explaining Bl...      5.0   \n",
       "1  I can't believe I waited to long to switch to ...      5.0   \n",
       "2  presentation of product is beautiful, everythi...      5.0   \n",
       "3  I bought this screen protector because I was u...      4.0   \n",
       "4  this is a great screen protector for the price...      5.0   \n",
       "\n",
       "                                             summary  unixReviewTime  \\\n",
       "0                                      Very thorough      1365811200   \n",
       "1                       LOVE this screen protector!!      1393459200   \n",
       "2                                          excellent      1394496000   \n",
       "3  Nice looking, easy to install glass screen pro...      1393891200   \n",
       "4                                great for the price      1388361600   \n",
       "\n",
       "    reviewTime  \n",
       "0  04 13, 2013  \n",
       "1  02 27, 2014  \n",
       "2  03 11, 2014  \n",
       "3   03 4, 2014  \n",
       "4  12 30, 2013  "
      ]
     },
     "execution_count": 88,
     "metadata": {},
     "output_type": "execute_result"
    }
   ],
   "source": [
    "electronics_df.head()"
   ]
  },
  {
   "cell_type": "markdown",
   "metadata": {},
   "source": [
    "### Creating a connection to MySQL and creating a database called \"amazon_SQL\""
   ]
  },
  {
   "cell_type": "code",
   "execution_count": 73,
   "metadata": {},
   "outputs": [
    {
     "data": {
      "text/plain": [
       "<bound method MySQLConnection.close of <mysql.connector.connection.MySQLConnection object at 0x000001A561F80FC8>>"
      ]
     },
     "execution_count": 73,
     "metadata": {},
     "output_type": "execute_result"
    }
   ],
   "source": [
    "mydb = mysql.connector.connect(\n",
    "    host=\"localhost\",\n",
    "    user=\"root\",\n",
    "    passwd=\"\"\n",
    ")\n",
    "\n",
    "mycursor = mydb.cursor()\n",
    "\n",
    "mycursor.execute(\"CREATE DATABASE IF NOT EXISTS amazon_SQL\")\n",
    "\n",
    "mycursor.close()\n",
    "\n",
    "mydb.close"
   ]
  },
  {
   "cell_type": "markdown",
   "metadata": {},
   "source": [
    "### Creating a connection to MySQL and creating a table called \"electronics_SQL\""
   ]
  },
  {
   "cell_type": "code",
   "execution_count": 75,
   "metadata": {},
   "outputs": [
    {
     "data": {
      "text/plain": [
       "<bound method MySQLConnection.close of <mysql.connector.connection.MySQLConnection object at 0x000001A5628829C8>>"
      ]
     },
     "execution_count": 75,
     "metadata": {},
     "output_type": "execute_result"
    }
   ],
   "source": [
    "mydb = mysql.connector.connect(\n",
    "    host=\"localhost\",\n",
    "    user=\"root\",\n",
    "    passwd=\"\",\n",
    "    database=\"amazon_SQL\"\n",
    ")\n",
    "\n",
    "mycursor = mydb.cursor()\n",
    "\n",
    "mycursor.execute(\"CREATE TABLE IF NOT EXISTS electronics_SQL (ID VARCHAR(50) PRIMARY KEY NOT NULL , reviewerID VARCHAR(50), asin VARCHAR(50), reviewerName VARCHAR(100), helpful VARCHAR(10), reviewText VARCHAR(2000), overall DOUBLE, summary VARCHAR(500), unixReviewTime BIGINT, reviewTime VARCHAR(30));\")\n",
    "\n",
    "mycursor.close()\n",
    "\n",
    "mydb.close"
   ]
  },
  {
   "cell_type": "code",
   "execution_count": 82,
   "metadata": {},
   "outputs": [],
   "source": [
    "engine = create_engine('mysql+pymysql://root:@localhost/amazon_SQL')"
   ]
  },
  {
   "cell_type": "code",
   "execution_count": 83,
   "metadata": {},
   "outputs": [],
   "source": [
    "dbConnection = engine.connect()"
   ]
  },
  {
   "cell_type": "code",
   "execution_count": 89,
   "metadata": {},
   "outputs": [],
   "source": [
    "electronics_df.to_sql('electronics_sql', dbConnection, index = False, if_exists='replace')"
   ]
  },
  {
   "cell_type": "code",
   "execution_count": 98,
   "metadata": {},
   "outputs": [],
   "source": [
    "results = pd.read_sql(\"select * from electronics_sql\", dbConnection);"
   ]
  },
  {
   "cell_type": "code",
   "execution_count": 99,
   "metadata": {},
   "outputs": [],
   "source": [
    "pd.set_option('display.expand_frame_repr', False)\n",
    "dbConnection.close()"
   ]
  },
  {
   "cell_type": "markdown",
   "metadata": {},
   "source": [
    "### Printing the first 25 results"
   ]
  },
  {
   "cell_type": "code",
   "execution_count": 100,
   "metadata": {},
   "outputs": [
    {
     "data": {
      "text/html": [
       "<div>\n",
       "<style scoped>\n",
       "    .dataframe tbody tr th:only-of-type {\n",
       "        vertical-align: middle;\n",
       "    }\n",
       "\n",
       "    .dataframe tbody tr th {\n",
       "        vertical-align: top;\n",
       "    }\n",
       "\n",
       "    .dataframe thead th {\n",
       "        text-align: right;\n",
       "    }\n",
       "</style>\n",
       "<table border=\"1\" class=\"dataframe\">\n",
       "  <thead>\n",
       "    <tr style=\"text-align: right;\">\n",
       "      <th></th>\n",
       "      <th>_id</th>\n",
       "      <th>reviewerID</th>\n",
       "      <th>asin</th>\n",
       "      <th>reviewerName</th>\n",
       "      <th>helpful</th>\n",
       "      <th>reviewText</th>\n",
       "      <th>overall</th>\n",
       "      <th>summary</th>\n",
       "      <th>unixReviewTime</th>\n",
       "      <th>reviewTime</th>\n",
       "    </tr>\n",
       "  </thead>\n",
       "  <tbody>\n",
       "    <tr>\n",
       "      <td>0</td>\n",
       "      <td>5e5da775da1120978e1f8212</td>\n",
       "      <td>AKM1MP6P0OYPR</td>\n",
       "      <td>0132793040</td>\n",
       "      <td>Vicki Gibson \"momo4\"</td>\n",
       "      <td>[1, 1]</td>\n",
       "      <td>Corey Barker does a great job of explaining Bl...</td>\n",
       "      <td>5.0</td>\n",
       "      <td>Very thorough</td>\n",
       "      <td>1365811200</td>\n",
       "      <td>04 13, 2013</td>\n",
       "    </tr>\n",
       "    <tr>\n",
       "      <td>1</td>\n",
       "      <td>5e5da775da1120978e1f8213</td>\n",
       "      <td>A2X8VX4DPMQFQQ</td>\n",
       "      <td>B00E4KP4W6</td>\n",
       "      <td>lily68</td>\n",
       "      <td>[1, 1]</td>\n",
       "      <td>I can't believe I waited to long to switch to ...</td>\n",
       "      <td>5.0</td>\n",
       "      <td>LOVE this screen protector!!</td>\n",
       "      <td>1393459200</td>\n",
       "      <td>02 27, 2014</td>\n",
       "    </tr>\n",
       "    <tr>\n",
       "      <td>2</td>\n",
       "      <td>5e5da775da1120978e1f8214</td>\n",
       "      <td>A1JEKX4D58576X</td>\n",
       "      <td>B00E4KP4W6</td>\n",
       "      <td>Mara Milagros</td>\n",
       "      <td>[2, 2]</td>\n",
       "      <td>presentation of product is beautiful, everythi...</td>\n",
       "      <td>5.0</td>\n",
       "      <td>excellent</td>\n",
       "      <td>1394496000</td>\n",
       "      <td>03 11, 2014</td>\n",
       "    </tr>\n",
       "    <tr>\n",
       "      <td>3</td>\n",
       "      <td>5e5da775da1120978e1f8215</td>\n",
       "      <td>ATM6RRB90D8DV</td>\n",
       "      <td>B00E4KP4W6</td>\n",
       "      <td>Matthew D. Irmen \"Jazz Fan\"</td>\n",
       "      <td>[1, 2]</td>\n",
       "      <td>I bought this screen protector because I was u...</td>\n",
       "      <td>4.0</td>\n",
       "      <td>Nice looking, easy to install glass screen pro...</td>\n",
       "      <td>1393891200</td>\n",
       "      <td>03 4, 2014</td>\n",
       "    </tr>\n",
       "    <tr>\n",
       "      <td>4</td>\n",
       "      <td>5e5da775da1120978e1f8216</td>\n",
       "      <td>A3QOYJ97A6OMX7</td>\n",
       "      <td>B00E4KP4W6</td>\n",
       "      <td>pharmdaddyd</td>\n",
       "      <td>[1, 1]</td>\n",
       "      <td>this is a great screen protector for the price...</td>\n",
       "      <td>5.0</td>\n",
       "      <td>great for the price</td>\n",
       "      <td>1388361600</td>\n",
       "      <td>12 30, 2013</td>\n",
       "    </tr>\n",
       "    <tr>\n",
       "      <td>5</td>\n",
       "      <td>5e5da775da1120978e1f8217</td>\n",
       "      <td>AWO84NZ6VDYR2</td>\n",
       "      <td>B00E4KP4W6</td>\n",
       "      <td>shalane rogillio</td>\n",
       "      <td>[0, 0]</td>\n",
       "      <td>I ordered two of these &amp;#34;shatter proof&amp;#34;...</td>\n",
       "      <td>1.0</td>\n",
       "      <td>Not happy with this, would not recommend</td>\n",
       "      <td>1404777600</td>\n",
       "      <td>07 8, 2014</td>\n",
       "    </tr>\n",
       "    <tr>\n",
       "      <td>6</td>\n",
       "      <td>5e5da775da1120978e1f8218</td>\n",
       "      <td>A15ZEBTKX72NPB</td>\n",
       "      <td>B00E4KP4W6</td>\n",
       "      <td>S. Marcus \"pdtpoet\"</td>\n",
       "      <td>[1, 2]</td>\n",
       "      <td>For some reasons, the clear film screens that ...</td>\n",
       "      <td>5.0</td>\n",
       "      <td>Far better than film screens for iPhone or iPad!</td>\n",
       "      <td>1392249600</td>\n",
       "      <td>02 13, 2014</td>\n",
       "    </tr>\n",
       "    <tr>\n",
       "      <td>7</td>\n",
       "      <td>5e5da775da1120978e1f8219</td>\n",
       "      <td>A2ZI014DO0LWEW</td>\n",
       "      <td>B00E4KP4W6</td>\n",
       "      <td>SueinCa</td>\n",
       "      <td>[0, 0]</td>\n",
       "      <td>This was just what the doctor ordered for my b...</td>\n",
       "      <td>5.0</td>\n",
       "      <td>Right On</td>\n",
       "      <td>1397174400</td>\n",
       "      <td>04 11, 2014</td>\n",
       "    </tr>\n",
       "    <tr>\n",
       "      <td>8</td>\n",
       "      <td>5e5da775da1120978e1f821a</td>\n",
       "      <td>A3IN9CE5GG8VKR</td>\n",
       "      <td>B00E4KP4W6</td>\n",
       "      <td>Tess Brown</td>\n",
       "      <td>[0, 0]</td>\n",
       "      <td>This is the best screen protector.  Very smoot...</td>\n",
       "      <td>5.0</td>\n",
       "      <td>Tempered Glass Screen Protector</td>\n",
       "      <td>1399593600</td>\n",
       "      <td>05 9, 2014</td>\n",
       "    </tr>\n",
       "    <tr>\n",
       "      <td>9</td>\n",
       "      <td>5e5da775da1120978e1f821b</td>\n",
       "      <td>A1U9ZR7HQ5EZ6L</td>\n",
       "      <td>B00E4KP4W6</td>\n",
       "      <td>Thinker623</td>\n",
       "      <td>[1, 1]</td>\n",
       "      <td>Great glass cover for IPad.  I had been using ...</td>\n",
       "      <td>5.0</td>\n",
       "      <td>Great glass cover for IPad.</td>\n",
       "      <td>1391126400</td>\n",
       "      <td>01 31, 2014</td>\n",
       "    </tr>\n",
       "    <tr>\n",
       "      <td>10</td>\n",
       "      <td>5e5da775da1120978e1f821c</td>\n",
       "      <td>A2DFGG75NH91H2</td>\n",
       "      <td>B00E4KP4W6</td>\n",
       "      <td>Thuddds</td>\n",
       "      <td>[0, 0]</td>\n",
       "      <td>Glass screen protectors are a drastic improvem...</td>\n",
       "      <td>5.0</td>\n",
       "      <td>Excellent</td>\n",
       "      <td>1399420800</td>\n",
       "      <td>05 7, 2014</td>\n",
       "    </tr>\n",
       "    <tr>\n",
       "      <td>11</td>\n",
       "      <td>5e5da775da1120978e1f821d</td>\n",
       "      <td>ADTAGIHSU42HH</td>\n",
       "      <td>B00E4KP4W6</td>\n",
       "      <td>Wvmtnivy</td>\n",
       "      <td>[1, 1]</td>\n",
       "      <td>Easy application and clear as glass, one step....</td>\n",
       "      <td>5.0</td>\n",
       "      <td>Nice screen protector</td>\n",
       "      <td>1385251200</td>\n",
       "      <td>11 24, 2013</td>\n",
       "    </tr>\n",
       "    <tr>\n",
       "      <td>12</td>\n",
       "      <td>5e5da775da1120978e1f821e</td>\n",
       "      <td>A2QXOUHUL5CDT5</td>\n",
       "      <td>B00E4KP8VI</td>\n",
       "      <td>Cassi Olsen</td>\n",
       "      <td>[0, 0]</td>\n",
       "      <td>Bought these even though I was skeptical. They...</td>\n",
       "      <td>5.0</td>\n",
       "      <td>Great headset for cheap.</td>\n",
       "      <td>1379030400</td>\n",
       "      <td>09 13, 2013</td>\n",
       "    </tr>\n",
       "    <tr>\n",
       "      <td>13</td>\n",
       "      <td>5e5da775da1120978e1f821f</td>\n",
       "      <td>A1YQI2Y7DRYFZL</td>\n",
       "      <td>B00E4KPMC8</td>\n",
       "      <td>HBP</td>\n",
       "      <td>[1, 1]</td>\n",
       "      <td>Despite what the specifications say this camer...</td>\n",
       "      <td>2.0</td>\n",
       "      <td>Will not tilt horizontal</td>\n",
       "      <td>1393459200</td>\n",
       "      <td>02 27, 2014</td>\n",
       "    </tr>\n",
       "    <tr>\n",
       "      <td>14</td>\n",
       "      <td>5e5da775da1120978e1f8220</td>\n",
       "      <td>AWFP70TL8BF43</td>\n",
       "      <td>B00E4KPMC8</td>\n",
       "      <td>PJ \"Peter\"</td>\n",
       "      <td>[1, 1]</td>\n",
       "      <td>During the day this cam had a decent picture. ...</td>\n",
       "      <td>3.0</td>\n",
       "      <td>Not what I needed</td>\n",
       "      <td>1393027200</td>\n",
       "      <td>02 22, 2014</td>\n",
       "    </tr>\n",
       "    <tr>\n",
       "      <td>15</td>\n",
       "      <td>5e5da775da1120978e1f8221</td>\n",
       "      <td>A1T7SJ8JMCIIZ8</td>\n",
       "      <td>B00E4KPMC8</td>\n",
       "      <td>Tracey Wesolowski</td>\n",
       "      <td>[1, 1]</td>\n",
       "      <td>The EasyN F-series Camera does not support Win...</td>\n",
       "      <td>1.0</td>\n",
       "      <td>DO NOT PURCHASE!</td>\n",
       "      <td>1392595200</td>\n",
       "      <td>02 17, 2014</td>\n",
       "    </tr>\n",
       "    <tr>\n",
       "      <td>16</td>\n",
       "      <td>5e5da775da1120978e1f8222</td>\n",
       "      <td>A2QO3GRUYBVDX5</td>\n",
       "      <td>B00E4KQ5C4</td>\n",
       "      <td>Alexander Cornwell</td>\n",
       "      <td>[1, 1]</td>\n",
       "      <td>These may seem like they're gonna be crap for ...</td>\n",
       "      <td>5.0</td>\n",
       "      <td>How?</td>\n",
       "      <td>1388707200</td>\n",
       "      <td>01 3, 2014</td>\n",
       "    </tr>\n",
       "    <tr>\n",
       "      <td>17</td>\n",
       "      <td>5e5da775da1120978e1f8223</td>\n",
       "      <td>AQ1VEA1RAXMJM</td>\n",
       "      <td>B00E4KQ9GG</td>\n",
       "      <td>Amazon Customer \"Annette\"</td>\n",
       "      <td>[1, 1]</td>\n",
       "      <td>I wasnt sure at first if I liked it, but after...</td>\n",
       "      <td>4.0</td>\n",
       "      <td>nice fitting case for the samsung galaxy tab 3</td>\n",
       "      <td>1390953600</td>\n",
       "      <td>01 29, 2014</td>\n",
       "    </tr>\n",
       "    <tr>\n",
       "      <td>18</td>\n",
       "      <td>5e5da775da1120978e1f8224</td>\n",
       "      <td>A28YUFBI33QZ28</td>\n",
       "      <td>B00E4KQ9GG</td>\n",
       "      <td>Amazon Customer</td>\n",
       "      <td>[4, 4]</td>\n",
       "      <td>This is a great case. It has a smooth luxuriou...</td>\n",
       "      <td>5.0</td>\n",
       "      <td>Top notch case !</td>\n",
       "      <td>1385164800</td>\n",
       "      <td>11 23, 2013</td>\n",
       "    </tr>\n",
       "    <tr>\n",
       "      <td>19</td>\n",
       "      <td>5e5da775da1120978e1f8225</td>\n",
       "      <td>A1EN2PR6V7F87Z</td>\n",
       "      <td>B00E4KQ9GG</td>\n",
       "      <td>Anne</td>\n",
       "      <td>[1, 1]</td>\n",
       "      <td>Lightweight and thin.  But the tablet does not...</td>\n",
       "      <td>3.0</td>\n",
       "      <td>thin but not the best fit</td>\n",
       "      <td>1400371200</td>\n",
       "      <td>05 18, 2014</td>\n",
       "    </tr>\n",
       "    <tr>\n",
       "      <td>20</td>\n",
       "      <td>5e5da775da1120978e1f8226</td>\n",
       "      <td>A1Y109DY2NSQYP</td>\n",
       "      <td>B00E4KQ9GG</td>\n",
       "      <td>Barry Palacios</td>\n",
       "      <td>[0, 1]</td>\n",
       "      <td>Ordered this thining it would be a perfect fit...</td>\n",
       "      <td>2.0</td>\n",
       "      <td>not worth the money!</td>\n",
       "      <td>1389571200</td>\n",
       "      <td>01 13, 2014</td>\n",
       "    </tr>\n",
       "    <tr>\n",
       "      <td>21</td>\n",
       "      <td>5e5da775da1120978e1f8227</td>\n",
       "      <td>A1W8TUEAXHF1H9</td>\n",
       "      <td>B00E4KQ9GG</td>\n",
       "      <td>Carlos Seer</td>\n",
       "      <td>[1, 1]</td>\n",
       "      <td>Recieved exact product as specified, no defect...</td>\n",
       "      <td>5.0</td>\n",
       "      <td>excelent case</td>\n",
       "      <td>1395100800</td>\n",
       "      <td>03 18, 2014</td>\n",
       "    </tr>\n",
       "    <tr>\n",
       "      <td>22</td>\n",
       "      <td>5e5da775da1120978e1f8228</td>\n",
       "      <td>A2U0VQAQHEFB1Y</td>\n",
       "      <td>B00E4KQ9GG</td>\n",
       "      <td>DaddyO</td>\n",
       "      <td>[1, 1]</td>\n",
       "      <td>i chose to buy this case because it cost more ...</td>\n",
       "      <td>3.0</td>\n",
       "      <td>Beautiful design, good quality...but</td>\n",
       "      <td>1389139200</td>\n",
       "      <td>01 8, 2014</td>\n",
       "    </tr>\n",
       "    <tr>\n",
       "      <td>23</td>\n",
       "      <td>5e5da775da1120978e1f8229</td>\n",
       "      <td>A17970XJG2BYIA</td>\n",
       "      <td>B00E4KQ9GG</td>\n",
       "      <td>Linzee1998</td>\n",
       "      <td>[1, 2]</td>\n",
       "      <td>I was so excited to get this case...too bad it...</td>\n",
       "      <td>1.0</td>\n",
       "      <td>Doesnt fit!</td>\n",
       "      <td>1387929600</td>\n",
       "      <td>12 25, 2013</td>\n",
       "    </tr>\n",
       "    <tr>\n",
       "      <td>24</td>\n",
       "      <td>5e5da775da1120978e1f822a</td>\n",
       "      <td>A6EAQI9PSIFP5</td>\n",
       "      <td>B00E4KQ9K2</td>\n",
       "      <td>Amazon Customer</td>\n",
       "      <td>[0, 0]</td>\n",
       "      <td>Very satisfied with it, blue is bright but not...</td>\n",
       "      <td>5.0</td>\n",
       "      <td>great</td>\n",
       "      <td>1395619200</td>\n",
       "      <td>03 24, 2014</td>\n",
       "    </tr>\n",
       "  </tbody>\n",
       "</table>\n",
       "</div>"
      ],
      "text/plain": [
       "                         _id      reviewerID        asin                 reviewerName helpful                                         reviewText  overall                                            summary  unixReviewTime   reviewTime\n",
       "0   5e5da775da1120978e1f8212   AKM1MP6P0OYPR  0132793040         Vicki Gibson \"momo4\"  [1, 1]  Corey Barker does a great job of explaining Bl...      5.0                                      Very thorough      1365811200  04 13, 2013\n",
       "1   5e5da775da1120978e1f8213  A2X8VX4DPMQFQQ  B00E4KP4W6                       lily68  [1, 1]  I can't believe I waited to long to switch to ...      5.0                       LOVE this screen protector!!      1393459200  02 27, 2014\n",
       "2   5e5da775da1120978e1f8214  A1JEKX4D58576X  B00E4KP4W6                Mara Milagros  [2, 2]  presentation of product is beautiful, everythi...      5.0                                          excellent      1394496000  03 11, 2014\n",
       "3   5e5da775da1120978e1f8215   ATM6RRB90D8DV  B00E4KP4W6  Matthew D. Irmen \"Jazz Fan\"  [1, 2]  I bought this screen protector because I was u...      4.0  Nice looking, easy to install glass screen pro...      1393891200   03 4, 2014\n",
       "4   5e5da775da1120978e1f8216  A3QOYJ97A6OMX7  B00E4KP4W6                  pharmdaddyd  [1, 1]  this is a great screen protector for the price...      5.0                                great for the price      1388361600  12 30, 2013\n",
       "5   5e5da775da1120978e1f8217   AWO84NZ6VDYR2  B00E4KP4W6             shalane rogillio  [0, 0]  I ordered two of these &#34;shatter proof&#34;...      1.0           Not happy with this, would not recommend      1404777600   07 8, 2014\n",
       "6   5e5da775da1120978e1f8218  A15ZEBTKX72NPB  B00E4KP4W6          S. Marcus \"pdtpoet\"  [1, 2]  For some reasons, the clear film screens that ...      5.0   Far better than film screens for iPhone or iPad!      1392249600  02 13, 2014\n",
       "7   5e5da775da1120978e1f8219  A2ZI014DO0LWEW  B00E4KP4W6                      SueinCa  [0, 0]  This was just what the doctor ordered for my b...      5.0                                           Right On      1397174400  04 11, 2014\n",
       "8   5e5da775da1120978e1f821a  A3IN9CE5GG8VKR  B00E4KP4W6                   Tess Brown  [0, 0]  This is the best screen protector.  Very smoot...      5.0                    Tempered Glass Screen Protector      1399593600   05 9, 2014\n",
       "9   5e5da775da1120978e1f821b  A1U9ZR7HQ5EZ6L  B00E4KP4W6                   Thinker623  [1, 1]  Great glass cover for IPad.  I had been using ...      5.0                        Great glass cover for IPad.      1391126400  01 31, 2014\n",
       "10  5e5da775da1120978e1f821c  A2DFGG75NH91H2  B00E4KP4W6                      Thuddds  [0, 0]  Glass screen protectors are a drastic improvem...      5.0                                          Excellent      1399420800   05 7, 2014\n",
       "11  5e5da775da1120978e1f821d   ADTAGIHSU42HH  B00E4KP4W6                     Wvmtnivy  [1, 1]  Easy application and clear as glass, one step....      5.0                              Nice screen protector      1385251200  11 24, 2013\n",
       "12  5e5da775da1120978e1f821e  A2QXOUHUL5CDT5  B00E4KP8VI                  Cassi Olsen  [0, 0]  Bought these even though I was skeptical. They...      5.0                           Great headset for cheap.      1379030400  09 13, 2013\n",
       "13  5e5da775da1120978e1f821f  A1YQI2Y7DRYFZL  B00E4KPMC8                          HBP  [1, 1]  Despite what the specifications say this camer...      2.0                           Will not tilt horizontal      1393459200  02 27, 2014\n",
       "14  5e5da775da1120978e1f8220   AWFP70TL8BF43  B00E4KPMC8                   PJ \"Peter\"  [1, 1]  During the day this cam had a decent picture. ...      3.0                                  Not what I needed      1393027200  02 22, 2014\n",
       "15  5e5da775da1120978e1f8221  A1T7SJ8JMCIIZ8  B00E4KPMC8            Tracey Wesolowski  [1, 1]  The EasyN F-series Camera does not support Win...      1.0                                   DO NOT PURCHASE!      1392595200  02 17, 2014\n",
       "16  5e5da775da1120978e1f8222  A2QO3GRUYBVDX5  B00E4KQ5C4           Alexander Cornwell  [1, 1]  These may seem like they're gonna be crap for ...      5.0                                               How?      1388707200   01 3, 2014\n",
       "17  5e5da775da1120978e1f8223   AQ1VEA1RAXMJM  B00E4KQ9GG    Amazon Customer \"Annette\"  [1, 1]  I wasnt sure at first if I liked it, but after...      4.0     nice fitting case for the samsung galaxy tab 3      1390953600  01 29, 2014\n",
       "18  5e5da775da1120978e1f8224  A28YUFBI33QZ28  B00E4KQ9GG              Amazon Customer  [4, 4]  This is a great case. It has a smooth luxuriou...      5.0                                   Top notch case !      1385164800  11 23, 2013\n",
       "19  5e5da775da1120978e1f8225  A1EN2PR6V7F87Z  B00E4KQ9GG                         Anne  [1, 1]  Lightweight and thin.  But the tablet does not...      3.0                          thin but not the best fit      1400371200  05 18, 2014\n",
       "20  5e5da775da1120978e1f8226  A1Y109DY2NSQYP  B00E4KQ9GG               Barry Palacios  [0, 1]  Ordered this thining it would be a perfect fit...      2.0                               not worth the money!      1389571200  01 13, 2014\n",
       "21  5e5da775da1120978e1f8227  A1W8TUEAXHF1H9  B00E4KQ9GG                  Carlos Seer  [1, 1]  Recieved exact product as specified, no defect...      5.0                                      excelent case      1395100800  03 18, 2014\n",
       "22  5e5da775da1120978e1f8228  A2U0VQAQHEFB1Y  B00E4KQ9GG                       DaddyO  [1, 1]  i chose to buy this case because it cost more ...      3.0               Beautiful design, good quality...but      1389139200   01 8, 2014\n",
       "23  5e5da775da1120978e1f8229  A17970XJG2BYIA  B00E4KQ9GG                   Linzee1998  [1, 2]  I was so excited to get this case...too bad it...      1.0                                        Doesnt fit!      1387929600  12 25, 2013\n",
       "24  5e5da775da1120978e1f822a   A6EAQI9PSIFP5  B00E4KQ9K2              Amazon Customer  [0, 0]  Very satisfied with it, blue is bright but not...      5.0                                              great      1395619200  03 24, 2014"
      ]
     },
     "execution_count": 100,
     "metadata": {},
     "output_type": "execute_result"
    }
   ],
   "source": [
    "results.head(25)"
   ]
  }
 ],
 "metadata": {
  "kernelspec": {
   "display_name": "Python 3",
   "language": "python",
   "name": "python3"
  },
  "language_info": {
   "codemirror_mode": {
    "name": "ipython",
    "version": 3
   },
   "file_extension": ".py",
   "mimetype": "text/x-python",
   "name": "python",
   "nbconvert_exporter": "python",
   "pygments_lexer": "ipython3",
   "version": "3.7.4"
  }
 },
 "nbformat": 4,
 "nbformat_minor": 2
}
