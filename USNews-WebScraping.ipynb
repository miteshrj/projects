{
 "cells": [
  {
   "cell_type": "markdown",
   "metadata": {},
   "source": [
    "# US News Scraping and printing first 3 sentences from the second \"Top Story\"\n",
    "***"
   ]
  },
  {
   "cell_type": "markdown",
   "metadata": {},
   "source": [
    "##### All results as of 3/25/2020 5:33 PM"
   ]
  },
  {
   "cell_type": "markdown",
   "metadata": {},
   "source": [
    "## Importing required libraries"
   ]
  },
  {
   "cell_type": "code",
   "execution_count": 1,
   "metadata": {},
   "outputs": [],
   "source": [
    "import requests \n",
    "from bs4 import BeautifulSoup "
   ]
  },
  {
   "cell_type": "markdown",
   "metadata": {},
   "source": [
    "### URL of site to be scraped"
   ]
  },
  {
   "cell_type": "code",
   "execution_count": 2,
   "metadata": {},
   "outputs": [],
   "source": [
    "URL = \"http://www.usnews.com/\""
   ]
  },
  {
   "cell_type": "code",
   "execution_count": 3,
   "metadata": {},
   "outputs": [],
   "source": [
    "source_url = requests.get(URL, headers = {'user-agent':'Mozilla/5.0'})"
   ]
  },
  {
   "cell_type": "code",
   "execution_count": 4,
   "metadata": {},
   "outputs": [
    {
     "name": "stdout",
     "output_type": "stream",
     "text": [
      "\n",
      "\n",
      "\n",
      "\n",
      "\n",
      "\n",
      "\n",
      "\n",
      "\n",
      "\n",
      "    \n",
      "    \n",
      "        <!doctype html>\n",
      "<html lang=\"en\"  style=\"scroll-behavior:smooth\"><head>\n",
      "                <script type=\"text/javascript\">\n",
      "                (function(){\n",
      "                    // check for IE\n",
      "                    if (navigator.userAgent.indexOf(\"Trident\") !== -1) {\n",
      "                        var k=document.createElement('script');k.type='text/javascript';\n",
      "                        k.src=(location.protocol==='https:'?'https:':'http:')+'//cdnjs.cloudflare.com/ajax/libs/babel-polyfill/7.6.0/polyfill.min.js';\n",
      "                        var s=document.getElementsByTagName('script')[0];s.parentNode.insertBefore(k,s);\n",
      "                    }\n",
      "                }());\n",
      "                </script>\n",
      "                <title data-rh=\"true\">U.S. News &amp; World Report: News, Rankings and Analysis on Politics, Education, Healthcare and More</title><meta data-rh=\"true\" charset=\"utf-8\"/><meta data-rh=\"true\" name=\"viewport\" content=\"width=device-width, initial-scale=1.0, maximum-scale=1.0, user-scalab\n"
     ]
    }
   ],
   "source": [
    "print(source_url.text[:1000])"
   ]
  },
  {
   "cell_type": "markdown",
   "metadata": {},
   "source": [
    "### Creating a Beautiful Soup object"
   ]
  },
  {
   "cell_type": "code",
   "execution_count": 5,
   "metadata": {},
   "outputs": [],
   "source": [
    "soup = BeautifulSoup(source_url.content)"
   ]
  },
  {
   "cell_type": "markdown",
   "metadata": {},
   "source": [
    "### Finding the container that contains the Top Stories"
   ]
  },
  {
   "cell_type": "code",
   "execution_count": 26,
   "metadata": {},
   "outputs": [],
   "source": [
    "top_stories = soup.find('div', attrs = {'class':'ArmRestTopStories__Part-s13c9i18-1 joBuNB Box-s1krs5yn-0 bFmVmh'})"
   ]
  },
  {
   "cell_type": "code",
   "execution_count": 27,
   "metadata": {},
   "outputs": [
    {
     "data": {
      "text/plain": [
       "bs4.element.Tag"
      ]
     },
     "execution_count": 27,
     "metadata": {},
     "output_type": "execute_result"
    }
   ],
   "source": [
    "type(top_stories)"
   ]
  },
  {
   "cell_type": "markdown",
   "metadata": {},
   "source": [
    "### A list to store the headlines"
   ]
  },
  {
   "cell_type": "code",
   "execution_count": 28,
   "metadata": {},
   "outputs": [],
   "source": [
    "headlines = []"
   ]
  },
  {
   "cell_type": "markdown",
   "metadata": {},
   "source": [
    "### Storing the headlines and links"
   ]
  },
  {
   "cell_type": "code",
   "execution_count": 29,
   "metadata": {},
   "outputs": [],
   "source": [
    "for row in top_stories.findAll('div', attrs = {'class':'ArmRestTopStories__CollapseBorderContentBox-s13c9i18-2 kJvxoj ContentBox__Container-s48yiwo-0 jMPvVR Box-s1krs5yn-0 catoqT'}):\n",
    "    headline = {}\n",
    "    headline['title'] = row.h3.text\n",
    "    headline['link'] = row.a['href']\n",
    "    headlines.append(headline)"
   ]
  },
  {
   "cell_type": "code",
   "execution_count": 30,
   "metadata": {
    "scrolled": true
   },
   "outputs": [
    {
     "data": {
      "text/plain": [
       "[{'title': 'WHO Warns of Reopening Too Soon Amid Pandemic',\n",
       "  'link': 'https://www.usnews.com/news/world-report/articles/2020-03-25/who-warns-of-reopening-businesses-schools-too-soon-amid-coronavirus-pandemic'},\n",
       " {'title': 'Senate Nearing $2 Trillion Stimulus Deal',\n",
       "  'link': 'https://www.usnews.com/news/politics/articles/2020-03-25/senate-reaches-deal-on-2t-coronavirus-stimulus-package'}]"
      ]
     },
     "execution_count": 30,
     "metadata": {},
     "output_type": "execute_result"
    }
   ],
   "source": [
    "headlines"
   ]
  },
  {
   "cell_type": "markdown",
   "metadata": {},
   "source": [
    "### The second current top story headline:"
   ]
  },
  {
   "cell_type": "code",
   "execution_count": 31,
   "metadata": {},
   "outputs": [
    {
     "name": "stdout",
     "output_type": "stream",
     "text": [
      "Senate Nearing $2 Trillion Stimulus Deal\n"
     ]
    }
   ],
   "source": [
    "print(headlines[1]['title'])"
   ]
  },
  {
   "cell_type": "markdown",
   "metadata": {},
   "source": [
    "### <span style=\"color:ORANGE\">The URL of the second current top story:</span>"
   ]
  },
  {
   "cell_type": "code",
   "execution_count": 32,
   "metadata": {},
   "outputs": [
    {
     "name": "stdout",
     "output_type": "stream",
     "text": [
      "https://www.usnews.com/news/politics/articles/2020-03-25/senate-reaches-deal-on-2t-coronavirus-stimulus-package\n"
     ]
    }
   ],
   "source": [
    "print(headlines[1]['link'])"
   ]
  },
  {
   "cell_type": "markdown",
   "metadata": {},
   "source": [
    "### Opening the link to the Second Current Top Story"
   ]
  },
  {
   "cell_type": "code",
   "execution_count": 33,
   "metadata": {},
   "outputs": [],
   "source": [
    "second_url = requests.get(headlines[1]['link'], headers = {'user-agent':'Mozilla/5.0'})"
   ]
  },
  {
   "cell_type": "code",
   "execution_count": 34,
   "metadata": {},
   "outputs": [
    {
     "name": "stdout",
     "output_type": "stream",
     "text": [
      "\n",
      "\n",
      "\n",
      "\n",
      "\n",
      "\n",
      "\n",
      "\n",
      "\n",
      "\n",
      "    \n",
      "    \n",
      "        <!doctype html>\n",
      "<html lang=\"en\"  style=\"scroll-behavior:smooth\"><head>\n",
      "                <script type=\"text/javascript\">\n",
      "                (function(){\n",
      "                    // check for IE\n",
      "                    if (navigator.userAgent.indexOf(\"Trident\") !== -1) {\n",
      "                        var k=document.createElement('script');k.type='text/javascript';\n",
      "                        k.src=(location.protocol==='https:'?'https:':'http:')+'//cdnjs.cloudflare.com/ajax/libs/babel-polyfill/7.6.0/polyfill.min.js';\n",
      "                        var s=document.getElementsByTagName('script')[0];s.parentNode.insertBefore(k,s);\n",
      "                    }\n",
      "                }());\n",
      "                </script>\n",
      "                <title data-rh=\"true\">Senate Reaches Deal on $2T Coronavirus Stimulus Package | Politics | US News</title><meta data-rh=\"true\" charset=\"utf-8\"/><meta data-rh=\"true\" name=\"viewport\" content=\"width=device-width, initial-scale=1.0, maximum-scale=1.0, user-scalable=0\"/><meta data-rh=\"tru\n"
     ]
    }
   ],
   "source": [
    "print(second_url.text[:1000])"
   ]
  },
  {
   "cell_type": "markdown",
   "metadata": {},
   "source": [
    "### Creating BeautifulSoup object using second URL"
   ]
  },
  {
   "cell_type": "code",
   "execution_count": 35,
   "metadata": {},
   "outputs": [],
   "source": [
    "soup2 = BeautifulSoup(second_url.content)"
   ]
  },
  {
   "cell_type": "markdown",
   "metadata": {},
   "source": [
    "### Finding the tag that contains the Header"
   ]
  },
  {
   "cell_type": "code",
   "execution_count": 38,
   "metadata": {},
   "outputs": [],
   "source": [
    "second_header = soup2.find('h1')"
   ]
  },
  {
   "cell_type": "code",
   "execution_count": 39,
   "metadata": {},
   "outputs": [
    {
     "data": {
      "text/plain": [
       "bs4.element.Tag"
      ]
     },
     "execution_count": 39,
     "metadata": {},
     "output_type": "execute_result"
    }
   ],
   "source": [
    "type(second_header)"
   ]
  },
  {
   "cell_type": "markdown",
   "metadata": {},
   "source": [
    "### Printing the header of the page"
   ]
  },
  {
   "cell_type": "code",
   "execution_count": 41,
   "metadata": {},
   "outputs": [
    {
     "name": "stdout",
     "output_type": "stream",
     "text": [
      "Senate Reaches Deal on $2T Coronavirus Stimulus Package\n"
     ]
    }
   ],
   "source": [
    "print(second_header.text)"
   ]
  },
  {
   "cell_type": "markdown",
   "metadata": {},
   "source": [
    "### Finding container that has all the paragraphs and sentences"
   ]
  },
  {
   "cell_type": "code",
   "execution_count": 49,
   "metadata": {},
   "outputs": [],
   "source": [
    "paragraph_container = soup2.find('div', attrs = {'id':'ad-in-text-target'})"
   ]
  },
  {
   "cell_type": "code",
   "execution_count": 50,
   "metadata": {},
   "outputs": [
    {
     "data": {
      "text/plain": [
       "bs4.element.Tag"
      ]
     },
     "execution_count": 50,
     "metadata": {},
     "output_type": "execute_result"
    }
   ],
   "source": [
    "type(paragraph_container)"
   ]
  },
  {
   "cell_type": "markdown",
   "metadata": {},
   "source": [
    "### Saving all the sentences in 1 string"
   ]
  },
  {
   "cell_type": "code",
   "execution_count": 60,
   "metadata": {},
   "outputs": [],
   "source": [
    "all_sentences = \"\""
   ]
  },
  {
   "cell_type": "code",
   "execution_count": 61,
   "metadata": {},
   "outputs": [],
   "source": [
    "for row in paragraph_container.findAll('div', attrs = {'class':'Raw-s14xcvr1-0 jkSsZN'}):\n",
    "    sent = \"\"\n",
    "    sent = row.p.text\n",
    "    all_sentences = sent if all_sentences == \"\" else all_sentences + \" \" +sent"
   ]
  },
  {
   "cell_type": "code",
   "execution_count": 62,
   "metadata": {},
   "outputs": [
    {
     "data": {
      "text/plain": [
       "'The Senate will vote Wednesday on a $2 trillion coronavirus stimulus package after securing an overnight deal, a major breakthrough after days of tense negotiations on one of the broadest and largest pieces of legislation ever to provide major relief for workers, families and businesses amid a widening pandemic. Senate Minority Leader Chuck Schumer of New York and Treasury Secretary Steven Mnuchin worked through Tuesday to address the final issues of the third relief bill to combat the novel coronavirus. Republicans and Democrats signaled all day that a bipartisan agreement was within reach on legislation that sends direct payments to Americans, provides relief to small businesses and loans to corporations and boosts funding for hospitals and health care workers. Schumer and Senate Majority Leader Mitch McConnell of Kentucky both announced from the Senate floor around 1 a.m. that a deal had been reached, though the final legislative text will be released later on Wednesday. A vote is planned for later in the day once the Senate comes back into session, but the timing is uncertain. \"After five days of arduous negotiations, after sleep-deprived nights and marathon negotiating sessions, we have a bipartisan agreement on the largest rescue package in American history,\" Schumer said from the Senate floor early Wednesday. Schumer touted that Democrats were able to implement many of their requests which includes a four-month extension of unemployment insurance, an additional $55 billion for the health care system and $150 billion for a state and local relief fund. Schumer said the bill also prevents businesses controlled by President Donald Trump, Vice President Mike Pence, members of Congress and heads of executive departments from receiving a loan from a program controlled by the Treasury Department. [SEE: Mapping the Spread of Coronavirus.] Democrats were pushing for increased oversight on the $500 billion in loans that would be provided to struggling corporations like the airline industry. The legislation also creates an inspector general in the Treasury Department and a congressional board to oversee the loan program – similar to how it worked during the 2008 financial crisis. And companies receiving government loans would be banned from buying back stock for a year. As proposed by Republicans, the bill would send $1,200 checks to Americans making under $75,000 a year and start to phase out for individuals who make between $75,000 and $99,000. Couples that make up to $150,000 would receive a payment of $2,400 and $500 for each dependent child. \"In effect, this is a wartime level of investment into our nation,\" McConnell said from the Senate floor. \"The men and women of the greatest country on earth are going to defeat this coronavirus and reclaim our future.\" President Donald Trump signaled in a Tuesday tweet that he wants Congress to approve the legislation \"without all of the nonsense.\" In a Wednesday morning statement, House Speaker Nancy Pelosi of California said House Democrats will look over the final bill, but indicated that the final version of the bill is much closer to what they envisioned. \"While the compromise does not go as far as our Take Responsibility for Workers and Families Act, thanks to the unity and insistence of Senate and House Democrats, the bill has moved a great deal closer to America\\'s workers,\" Pelosi said. \"House Democrats will now review the final provisions and legislative text of the agreement to determine the course of action.\" The bipartisan agreement comes after Democrats blocked the stimulus package from advancing in procedural votes on Sunday and Monday. Democrats argued the bill didn\\'t appropriately address the needs of American workers. That had ignited fiery debate between members with accusations of partisanship and screaming monologues from the chamber. Meanwhile, the Democrats and Republicans in the House are weighing their options about how to vote on the Senate bill without doing so in person and exposing more members. At least two House members have been diagnosed with COVID-19, the disease caused by the coronavirus, prompting members in close contact with them to self-quarantine out of caution. Currently, the House has only two options: unanimous consent – though it takes only one member to object – or by voice vote and both require at least some members to be in the chamber. '"
      ]
     },
     "execution_count": 62,
     "metadata": {},
     "output_type": "execute_result"
    }
   ],
   "source": [
    "all_sentences"
   ]
  },
  {
   "cell_type": "markdown",
   "metadata": {},
   "source": [
    "### Breaking the string 'all_sentences' into sentences using NLTK library"
   ]
  },
  {
   "cell_type": "markdown",
   "metadata": {},
   "source": [
    "### Importing NLTK and downloading required files for a Windows User"
   ]
  },
  {
   "cell_type": "code",
   "execution_count": 54,
   "metadata": {},
   "outputs": [
    {
     "name": "stderr",
     "output_type": "stream",
     "text": [
      "[nltk_data] Downloading package punkt to\n",
      "[nltk_data]     C:\\Users\\mites\\AppData\\Roaming\\nltk_data...\n",
      "[nltk_data]   Package punkt is already up-to-date!\n"
     ]
    },
    {
     "data": {
      "text/plain": [
       "True"
      ]
     },
     "execution_count": 54,
     "metadata": {},
     "output_type": "execute_result"
    }
   ],
   "source": [
    "import nltk\n",
    "nltk.download('punkt')"
   ]
  },
  {
   "cell_type": "code",
   "execution_count": 55,
   "metadata": {},
   "outputs": [],
   "source": [
    "from nltk import sent_tokenize"
   ]
  },
  {
   "cell_type": "markdown",
   "metadata": {},
   "source": [
    "### Breaking the string 'all_sentences' into different sentences and storing it in the list 'sentences'"
   ]
  },
  {
   "cell_type": "code",
   "execution_count": 63,
   "metadata": {},
   "outputs": [],
   "source": [
    "sentences = sent_tokenize(all_sentences)"
   ]
  },
  {
   "cell_type": "markdown",
   "metadata": {},
   "source": [
    "### Printing the first 3 sentences"
   ]
  },
  {
   "cell_type": "code",
   "execution_count": 64,
   "metadata": {},
   "outputs": [
    {
     "name": "stdout",
     "output_type": "stream",
     "text": [
      "The Senate will vote Wednesday on a $2 trillion coronavirus stimulus package after securing an overnight deal, a major breakthrough after days of tense negotiations on one of the broadest and largest pieces of legislation ever to provide major relief for workers, families and businesses amid a widening pandemic.Senate Minority Leader Chuck Schumer of New York and Treasury Secretary Steven Mnuchin worked through Tuesday to address the final issues of the third relief bill to combat the novel coronavirus.Republicans and Democrats signaled all day that a bipartisan agreement was within reach on legislation that sends direct payments to Americans, provides relief to small businesses and loans to corporations and boosts funding for hospitals and health care workers.\n"
     ]
    }
   ],
   "source": [
    "print(sentences[0]+sentences[1]+sentences[2])"
   ]
  },
  {
   "cell_type": "code",
   "execution_count": 65,
   "metadata": {},
   "outputs": [
    {
     "name": "stdout",
     "output_type": "stream",
     "text": [
      "The first sentence is: \n",
      "The Senate will vote Wednesday on a $2 trillion coronavirus stimulus package after securing an overnight deal, a major breakthrough after days of tense negotiations on one of the broadest and largest pieces of legislation ever to provide major relief for workers, families and businesses amid a widening pandemic.\n",
      "\n",
      "The second sentence is: \n",
      "Senate Minority Leader Chuck Schumer of New York and Treasury Secretary Steven Mnuchin worked through Tuesday to address the final issues of the third relief bill to combat the novel coronavirus.\n",
      "\n",
      "The second sentence is: \n",
      "Republicans and Democrats signaled all day that a bipartisan agreement was within reach on legislation that sends direct payments to Americans, provides relief to small businesses and loans to corporations and boosts funding for hospitals and health care workers.\n"
     ]
    }
   ],
   "source": [
    "print(\"The first sentence is: \\n\"+sentences[0]+\n",
    "      \"\\n\\nThe second sentence is: \\n\"+sentences[1]+\n",
    "      \"\\n\\nThe second sentence is: \\n\"+sentences[2])"
   ]
  },
  {
   "cell_type": "markdown",
   "metadata": {},
   "source": [
    "### The first sentence is:"
   ]
  },
  {
   "cell_type": "code",
   "execution_count": 66,
   "metadata": {},
   "outputs": [
    {
     "name": "stdout",
     "output_type": "stream",
     "text": [
      "The first sentence is: \n",
      "The Senate will vote Wednesday on a $2 trillion coronavirus stimulus package after securing an overnight deal, a major breakthrough after days of tense negotiations on one of the broadest and largest pieces of legislation ever to provide major relief for workers, families and businesses amid a widening pandemic.\n"
     ]
    }
   ],
   "source": [
    "print(\"The first sentence is: \\n\"+sentences[0])"
   ]
  },
  {
   "cell_type": "markdown",
   "metadata": {},
   "source": [
    "### The second sentence is:"
   ]
  },
  {
   "cell_type": "code",
   "execution_count": 67,
   "metadata": {},
   "outputs": [
    {
     "name": "stdout",
     "output_type": "stream",
     "text": [
      "The second sentence is: \n",
      "Senate Minority Leader Chuck Schumer of New York and Treasury Secretary Steven Mnuchin worked through Tuesday to address the final issues of the third relief bill to combat the novel coronavirus.\n"
     ]
    }
   ],
   "source": [
    "print(\"The second sentence is: \\n\"+sentences[1])"
   ]
  },
  {
   "cell_type": "markdown",
   "metadata": {},
   "source": [
    "### The third sentence is:"
   ]
  },
  {
   "cell_type": "code",
   "execution_count": 68,
   "metadata": {},
   "outputs": [
    {
     "name": "stdout",
     "output_type": "stream",
     "text": [
      "The third sentence is: \n",
      "Republicans and Democrats signaled all day that a bipartisan agreement was within reach on legislation that sends direct payments to Americans, provides relief to small businesses and loans to corporations and boosts funding for hospitals and health care workers.\n"
     ]
    }
   ],
   "source": [
    "print(\"The third sentence is: \\n\"+sentences[2])"
   ]
  }
 ],
 "metadata": {
  "kernelspec": {
   "display_name": "Python 3",
   "language": "python",
   "name": "python3"
  },
  "language_info": {
   "codemirror_mode": {
    "name": "ipython",
    "version": 3
   },
   "file_extension": ".py",
   "mimetype": "text/x-python",
   "name": "python",
   "nbconvert_exporter": "python",
   "pygments_lexer": "ipython3",
   "version": "3.7.4"
  }
 },
 "nbformat": 4,
 "nbformat_minor": 2
}
