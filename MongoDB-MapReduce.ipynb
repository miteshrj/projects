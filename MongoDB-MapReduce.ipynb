{
 "cells": [
  {
   "cell_type": "markdown",
   "metadata": {},
   "source": [
    "### Importing libraries"
   ]
  },
  {
   "cell_type": "code",
   "execution_count": 1,
   "metadata": {},
   "outputs": [],
   "source": [
    "import pymongo\n",
    "from pymongo import MongoClient\n",
    "import json\n",
    "import requests\n",
    "from bson.code import Code"
   ]
  },
  {
   "cell_type": "markdown",
   "metadata": {},
   "source": [
    "#### Establishing connetion with mongoDB"
   ]
  },
  {
   "cell_type": "code",
   "execution_count": 2,
   "metadata": {},
   "outputs": [],
   "source": [
    "client = MongoClient(\"mongodb://localhost:27017/\")"
   ]
  },
  {
   "cell_type": "markdown",
   "metadata": {},
   "source": [
    "# Reads \"reviews_electronics.16.json\" and uploads each review as a separate document to the collection \"reviews\" in the database \"amazon\"."
   ]
  },
  {
   "cell_type": "markdown",
   "metadata": {},
   "source": [
    "#### Creating a database called 'amazon'"
   ]
  },
  {
   "cell_type": "code",
   "execution_count": 3,
   "metadata": {},
   "outputs": [],
   "source": [
    "amazon_db = client[\"amazon\"]"
   ]
  },
  {
   "cell_type": "markdown",
   "metadata": {},
   "source": [
    "#### Creating a collection called \"reviews\""
   ]
  },
  {
   "cell_type": "code",
   "execution_count": 4,
   "metadata": {},
   "outputs": [],
   "source": [
    "reviews_collection = amazon_db[\"reviews\"]"
   ]
  },
  {
   "cell_type": "markdown",
   "metadata": {},
   "source": [
    "#### Loading the data into a list of dictionaries"
   ]
  },
  {
   "cell_type": "code",
   "execution_count": 21,
   "metadata": {
    "scrolled": true
   },
   "outputs": [],
   "source": [
    "reviews_list = []\n",
    "for line in open('reviews_electronics.16.json', 'r'):\n",
    "    reviews_list.append(json.loads(line))"
   ]
  },
  {
   "cell_type": "code",
   "execution_count": 22,
   "metadata": {},
   "outputs": [
    {
     "data": {
      "text/plain": [
       "list"
      ]
     },
     "execution_count": 22,
     "metadata": {},
     "output_type": "execute_result"
    }
   ],
   "source": [
    "type(reviews_list)"
   ]
  },
  {
   "cell_type": "markdown",
   "metadata": {},
   "source": [
    "#### Saving the data into mongoDB amazon database reviews collection"
   ]
  },
  {
   "cell_type": "code",
   "execution_count": 23,
   "metadata": {},
   "outputs": [
    {
     "data": {
      "text/plain": [
       "<pymongo.results.InsertManyResult at 0x16431293f88>"
      ]
     },
     "execution_count": 23,
     "metadata": {},
     "output_type": "execute_result"
    }
   ],
   "source": [
    "reviews_collection.insert_many(reviews_list)"
   ]
  },
  {
   "cell_type": "code",
   "execution_count": 25,
   "metadata": {},
   "outputs": [
    {
     "data": {
      "text/plain": [
       "{'reviewerID': 'ATM6RRB90D8DV',\n",
       " 'asin': 'B00E4KP4W6',\n",
       " 'reviewerName': 'Matthew D. Irmen \"Jazz Fan\"',\n",
       " 'helpful': [1, 2],\n",
       " 'reviewText': \"I bought this screen protector because I was unimpressed with the Otterbox Defender attached screen protector. If I have a retina display iPad, I want it to look like it has retina display, not a hazy iPad 2. So... I started researching and came across this tempered glass screen protector with promises of easy installation and beautiful retina quality display. I have to admit that I am very impressed with the picture quality and the ease of installation. Best of all, I was able to tear out the plastic screen protector from my Otterbox defender case and use the case without issue. So why did I give it 4 stars? Because of the home button sticker! The sticker is a lame plastic blob that sits on the home button and looks ugly. I thought little of it because I would bury it under the frame of the Otterbox case. Unfortunately it causes slight problems with the use of the home button. If I press for slightly too long (a second) it activates siri. Believe me it's not the end of the world and I love how the screen looks it's just a minor issue that justifies 4 stars.\",\n",
       " 'overall': 4.0,\n",
       " 'summary': 'Nice looking, easy to install glass screen protector that works beautifully with the Otterbox Defender.',\n",
       " 'unixReviewTime': 1393891200,\n",
       " 'reviewTime': '03 4, 2014',\n",
       " '_id': ObjectId('5e4dbdc77201695d2ee870d5')}"
      ]
     },
     "execution_count": 25,
     "metadata": {},
     "output_type": "execute_result"
    }
   ],
   "source": [
    "reviews_list[3]"
   ]
  },
  {
   "cell_type": "markdown",
   "metadata": {},
   "source": [
    "### Uses MongoDB's map reduce function to build a new collection \"avg_scores\" that averages review scores by product (\"asin\"). Print the first 100 entries of \"avg_scores\" to screen."
   ]
  },
  {
   "cell_type": "markdown",
   "metadata": {},
   "source": [
    "#### Making the Map function for finding average"
   ]
  },
  {
   "cell_type": "code",
   "execution_count": 27,
   "metadata": {},
   "outputs": [],
   "source": [
    "map_1 = Code( \"function () { emit(this.asin, this.overall) }\")"
   ]
  },
  {
   "cell_type": "markdown",
   "metadata": {},
   "source": [
    "#### Making the Reduce function for finding average"
   ]
  },
  {
   "cell_type": "code",
   "execution_count": 28,
   "metadata": {},
   "outputs": [],
   "source": [
    "reduce_1 = Code(\"function(asin, overall) { return Array.avg(overall) }\")"
   ]
  },
  {
   "cell_type": "markdown",
   "metadata": {},
   "source": [
    "#### Running the MapReduce function"
   ]
  },
  {
   "cell_type": "code",
   "execution_count": 29,
   "metadata": {},
   "outputs": [],
   "source": [
    "results_1 = reviews_collection.map_reduce(map_1, reduce_1, out=\"avg_scores\")"
   ]
  },
  {
   "cell_type": "markdown",
   "metadata": {},
   "source": [
    "#### Checking the collection names in the database"
   ]
  },
  {
   "cell_type": "code",
   "execution_count": 30,
   "metadata": {},
   "outputs": [
    {
     "name": "stderr",
     "output_type": "stream",
     "text": [
      "C:\\Users\\mites\\Anaconda3\\lib\\site-packages\\ipykernel_launcher.py:1: DeprecationWarning: collection_names is deprecated. Use list_collection_names instead.\n",
      "  \"\"\"Entry point for launching an IPython kernel.\n"
     ]
    },
    {
     "data": {
      "text/plain": [
       "['reviews', 'avg_scores']"
      ]
     },
     "execution_count": 30,
     "metadata": {},
     "output_type": "execute_result"
    }
   ],
   "source": [
    "amazon_db.collection_names()"
   ]
  },
  {
   "cell_type": "code",
   "execution_count": 58,
   "metadata": {},
   "outputs": [],
   "source": [
    "resul1_first100 = amazon_db.avg_scores.find({}).limit(100)"
   ]
  },
  {
   "cell_type": "markdown",
   "metadata": {},
   "source": [
    "#### Printing the first 100 averages"
   ]
  },
  {
   "cell_type": "code",
   "execution_count": 59,
   "metadata": {},
   "outputs": [
    {
     "name": "stdout",
     "output_type": "stream",
     "text": [
      "Product = 0132793040 \n",
      "  Average Score5.0\n",
      "\n",
      "Product = B00E4KP4W6 \n",
      "  Average Score4.545454545454546\n",
      "\n",
      "Product = B00E4KP8VI \n",
      "  Average Score5.0\n",
      "\n",
      "Product = B00E4KPMC8 \n",
      "  Average Score2.0\n",
      "\n",
      "Product = B00E4KQ5C4 \n",
      "  Average Score5.0\n",
      "\n",
      "Product = B00E4KQ9GG \n",
      "  Average Score3.2857142857142856\n",
      "\n",
      "Product = B00E4KQ9K2 \n",
      "  Average Score5.0\n",
      "\n",
      "Product = B00E4KQD4E \n",
      "  Average Score4.0\n",
      "\n",
      "Product = B00E4KZBX8 \n",
      "  Average Score4.0\n",
      "\n",
      "Product = B00E4KZDJ0 \n",
      "  Average Score5.0\n",
      "\n",
      "Product = B00E4L35DA \n",
      "  Average Score4.0\n",
      "\n",
      "Product = B00E4L3N9Q \n",
      "  Average Score4.0\n",
      "\n",
      "Product = B00E4L48EA \n",
      "  Average Score5.0\n",
      "\n",
      "Product = B00E4L7FLI \n",
      "  Average Score1.0\n",
      "\n",
      "Product = B00E4L7TS2 \n",
      "  Average Score4.0\n",
      "\n",
      "Product = B00E4LAL82 \n",
      "  Average Score3.0\n",
      "\n",
      "Product = B00E4LBZZK \n",
      "  Average Score5.0\n",
      "\n",
      "Product = B00E4LF2Z4 \n",
      "  Average Score4.333333333333333\n",
      "\n",
      "Product = B00E4LFP0G \n",
      "  Average Score4.444444444444445\n",
      "\n",
      "Product = B00E4LFWWW \n",
      "  Average Score4.4\n",
      "\n",
      "Product = B00E4LGTVU \n",
      "  Average Score4.195658625514055\n",
      "\n",
      "Product = B00E4LGTXS \n",
      "  Average Score3.923076923076923\n",
      "\n",
      "Product = B00E4LGVYA \n",
      "  Average Score3.272727272727273\n",
      "\n",
      "Product = B00E4LGWLW \n",
      "  Average Score3.5\n",
      "\n",
      "Product = B00E4LGXL6 \n",
      "  Average Score5.0\n",
      "\n",
      "Product = B00E4LGY88 \n",
      "  Average Score3.8421052631578947\n",
      "\n",
      "Product = B00E4LI86O \n",
      "  Average Score1.0\n",
      "\n",
      "Product = B00E4LJ8VI \n",
      "  Average Score1.6666666666666667\n",
      "\n",
      "Product = B00E4LQ9B0 \n",
      "  Average Score1.0\n",
      "\n",
      "Product = B00E4M2K08 \n",
      "  Average Score5.0\n",
      "\n",
      "Product = B00E4M3KW0 \n",
      "  Average Score4.0\n",
      "\n",
      "Product = B00E4M9H40 \n",
      "  Average Score3.3333333333333335\n",
      "\n",
      "Product = B00E4MC3LO \n",
      "  Average Score2.0\n",
      "\n",
      "Product = B00E4MHBOI \n",
      "  Average Score3.0\n",
      "\n",
      "Product = B00E4ML766 \n",
      "  Average Score5.0\n",
      "\n",
      "Product = B00E4MNXYA \n",
      "  Average Score5.0\n",
      "\n",
      "Product = B00E4MQO8C \n",
      "  Average Score4.933333333333334\n",
      "\n",
      "Product = B00E4MQODW \n",
      "  Average Score2.6666666666666665\n",
      "\n",
      "Product = B00E4MQOE6 \n",
      "  Average Score4.611111111111111\n",
      "\n",
      "Product = B00E4MT07Y \n",
      "  Average Score1.6\n",
      "\n",
      "Product = B00E4MVHTI \n",
      "  Average Score3.9\n",
      "\n",
      "Product = B00E4MYDTY \n",
      "  Average Score4.538461538461538\n",
      "\n",
      "Product = B00E4NC912 \n",
      "  Average Score5.0\n",
      "\n",
      "Product = B00E4O3CD0 \n",
      "  Average Score4.0\n",
      "\n",
      "Product = B00E4O7EO8 \n",
      "  Average Score4.2\n",
      "\n",
      "Product = B00E4OCCJK \n",
      "  Average Score5.0\n",
      "\n",
      "Product = B00E4OCECU \n",
      "  Average Score3.0\n",
      "\n",
      "Product = B00E4OHBNM \n",
      "  Average Score4.0\n",
      "\n",
      "Product = B00E4OHRJ0 \n",
      "  Average Score4.0\n",
      "\n",
      "Product = B00E4OI5H8 \n",
      "  Average Score5.0\n",
      "\n",
      "Product = B00E4OKJKY \n",
      "  Average Score5.0\n",
      "\n",
      "Product = B00E4OKJUE \n",
      "  Average Score1.0\n",
      "\n",
      "Product = B00E4OKZA8 \n",
      "  Average Score5.0\n",
      "\n",
      "Product = B00E4ON1YK \n",
      "  Average Score5.0\n",
      "\n",
      "Product = B00E4OSIO8 \n",
      "  Average Score5.0\n",
      "\n",
      "Product = B00E4PM406 \n",
      "  Average Score4.0\n",
      "\n",
      "Product = B00E4PMDIO \n",
      "  Average Score5.0\n",
      "\n",
      "Product = B00E4POW42 \n",
      "  Average Score5.0\n",
      "\n",
      "Product = B00E4PP8PY \n",
      "  Average Score4.0\n",
      "\n",
      "Product = B00E4QD7D8 \n",
      "  Average Score4.0\n",
      "\n",
      "Product = B00E4QM3TC \n",
      "  Average Score1.0\n",
      "\n",
      "Product = B00E4QX5J4 \n",
      "  Average Score2.0\n",
      "\n",
      "Product = B00E4RD4VC \n",
      "  Average Score4.375\n",
      "\n",
      "Product = B00E4RIYPI \n",
      "  Average Score4.5\n",
      "\n",
      "Product = B00E4RKKVY \n",
      "  Average Score4.0\n",
      "\n",
      "Product = B00E4RS3DG \n",
      "  Average Score4.5\n",
      "\n",
      "Product = B00E4RUZGO \n",
      "  Average Score2.0\n",
      "\n",
      "Product = B00E4RZOQ0 \n",
      "  Average Score5.0\n",
      "\n",
      "Product = B00E4RZQM2 \n",
      "  Average Score2.6\n",
      "\n",
      "Product = B00E4RZU00 \n",
      "  Average Score4.0\n",
      "\n",
      "Product = B00E4RZV6S \n",
      "  Average Score3.75\n",
      "\n",
      "Product = B00E4RZW44 \n",
      "  Average Score3.0\n",
      "\n",
      "Product = B00E4RZYMO \n",
      "  Average Score1.0\n",
      "\n",
      "Product = B00E4S5BQ2 \n",
      "  Average Score5.0\n",
      "\n",
      "Product = B00E4SDU0Q \n",
      "  Average Score1.0\n",
      "\n",
      "Product = B00E4SEBAY \n",
      "  Average Score5.0\n",
      "\n",
      "Product = B00E4SPPHW \n",
      "  Average Score3.6666666666666665\n",
      "\n",
      "Product = B00E4T58NC \n",
      "  Average Score2.676470588235294\n",
      "\n",
      "Product = B00E4T699E \n",
      "  Average Score3.0\n",
      "\n",
      "Product = B00E4T69DK \n",
      "  Average Score5.0\n",
      "\n",
      "Product = B00E4T6MWI \n",
      "  Average Score2.0\n",
      "\n",
      "Product = B00E4T7GP0 \n",
      "  Average Score2.0\n",
      "\n",
      "Product = B00E4T7VOG \n",
      "  Average Score5.0\n",
      "\n",
      "Product = B00E4T8XZC \n",
      "  Average Score4.666666666666667\n",
      "\n",
      "Product = B00E4TADN2 \n",
      "  Average Score3.0\n",
      "\n",
      "Product = B00E4TASKK \n",
      "  Average Score3.5\n",
      "\n",
      "Product = B00E4TBST0 \n",
      "  Average Score5.0\n",
      "\n",
      "Product = B00E4TEKC2 \n",
      "  Average Score5.0\n",
      "\n",
      "Product = B00E4TKYOU \n",
      "  Average Score5.0\n",
      "\n",
      "Product = B00E4TN3MA \n",
      "  Average Score1.0\n",
      "\n",
      "Product = B00E4TOWR0 \n",
      "  Average Score3.0\n",
      "\n",
      "Product = B00E4TV36I \n",
      "  Average Score5.0\n",
      "\n",
      "Product = B00E4TWMWC \n",
      "  Average Score1.0\n",
      "\n",
      "Product = B00E4U83B0 \n",
      "  Average Score3.1333333333333333\n",
      "\n",
      "Product = B00E4UA7SW \n",
      "  Average Score4.571428571428571\n",
      "\n",
      "Product = B00E4UD9TQ \n",
      "  Average Score4.666666666666667\n",
      "\n",
      "Product = B00E4UGIVC \n",
      "  Average Score3.0\n",
      "\n",
      "Product = B00E4UGJV6 \n",
      "  Average Score4.0\n",
      "\n",
      "Product = B00E4UIU1I \n",
      "  Average Score5.0\n",
      "\n",
      "Product = B00E4UVVYG \n",
      "  Average Score5.0\n",
      "\n"
     ]
    }
   ],
   "source": [
    "for x in resul1_first100:\n",
    "    print('Product = {0} \\n  Average Score = {1}\\n'.format(x['_id'], x['value']))"
   ]
  },
  {
   "cell_type": "markdown",
   "metadata": {},
   "source": [
    "### Uses MongoDB's map reduce function to build a new collection \"weighted_avg_scores\" that averages review scores by product (\"asin\"), weighted by the number of helpful votes (The base weight is 1 and for every additional helpful vote add 1 to weight. e.g. a \"[3, 5]\" value on \"helpful\" column should use 3 + 1 = 4 as weight, 3 being the additional votes and 1 being the base weight). Print the first 100 entries of \"weighted_avg_scores\" to screen."
   ]
  },
  {
   "cell_type": "markdown",
   "metadata": {},
   "source": [
    "#### Making the Map function for finding weighted average"
   ]
  },
  {
   "cell_type": "code",
   "execution_count": 5,
   "metadata": {},
   "outputs": [],
   "source": [
    "map_2 = Code('''function(){\n",
    "    var wtp1=this.helpful[0]+1;\n",
    "    var value= {\n",
    "        oa: wtp1*this.overall,\n",
    "        wt: wtp1\n",
    "    };\n",
    "    emit(this.asin,value);\n",
    "};''')"
   ]
  },
  {
   "cell_type": "markdown",
   "metadata": {},
   "source": [
    "#### Making the Reduce function for finding weighted average"
   ]
  },
  {
   "cell_type": "code",
   "execution_count": 6,
   "metadata": {},
   "outputs": [],
   "source": [
    "reduce_2 = Code('''function (key, values) {\n",
    "    reducedVal= { oa: 0, wt: 0};\n",
    "    for (var i=0; i<values.length; i++) {\n",
    "        \n",
    "        reducedVal.oa+=values[i].oa;\n",
    "        reducedVal.wt+=values[i].wt;\n",
    "    }\n",
    "    return reducedVal;\n",
    "};''')"
   ]
  },
  {
   "cell_type": "markdown",
   "metadata": {},
   "source": [
    "#### Making the Finalize function for finding weighted average"
   ]
  },
  {
   "cell_type": "code",
   "execution_count": 9,
   "metadata": {},
   "outputs": [],
   "source": [
    "finalize_2 = Code('''function (key, reducedVal) {\n",
    "    reducedVal.wtavg= reducedVal.oa/reducedVal.wt;\n",
    "    return reducedVal.wtavg;\n",
    "};''')"
   ]
  },
  {
   "cell_type": "markdown",
   "metadata": {},
   "source": [
    "#### Running the MapReduce function to calculate weighted average"
   ]
  },
  {
   "cell_type": "code",
   "execution_count": 10,
   "metadata": {},
   "outputs": [],
   "source": [
    "results_2 = reviews_collection.map_reduce(map_2, reduce_2, out=\"weighted_avg_score\", finalize=finalize_2)"
   ]
  },
  {
   "cell_type": "markdown",
   "metadata": {},
   "source": [
    "#### Checking the collection names in the database"
   ]
  },
  {
   "cell_type": "code",
   "execution_count": 13,
   "metadata": {},
   "outputs": [
    {
     "name": "stderr",
     "output_type": "stream",
     "text": [
      "C:\\Users\\mites\\Anaconda3\\lib\\site-packages\\ipykernel_launcher.py:1: DeprecationWarning: collection_names is deprecated. Use list_collection_names instead.\n",
      "  \"\"\"Entry point for launching an IPython kernel.\n"
     ]
    },
    {
     "data": {
      "text/plain": [
       "['weighted_avg_score', 'reviews', 'avg_scores']"
      ]
     },
     "execution_count": 13,
     "metadata": {},
     "output_type": "execute_result"
    }
   ],
   "source": [
    "amazon_db.collection_names()"
   ]
  },
  {
   "cell_type": "code",
   "execution_count": 11,
   "metadata": {},
   "outputs": [],
   "source": [
    "result2_first100 = amazon_db.weighted_avg_score.find({}).limit(100)"
   ]
  },
  {
   "cell_type": "markdown",
   "metadata": {},
   "source": [
    "#### Printing the first 100 averages"
   ]
  },
  {
   "cell_type": "code",
   "execution_count": 12,
   "metadata": {},
   "outputs": [
    {
     "name": "stdout",
     "output_type": "stream",
     "text": [
      "Product = 0132793040 \n",
      "  Weighted Average Score = 5.0\n",
      "\n",
      "Product = B00E4KP4W6 \n",
      "  Weighted Average Score = 4.684210526315789\n",
      "\n",
      "Product = B00E4KP8VI \n",
      "  Weighted Average Score = 5.0\n",
      "\n",
      "Product = B00E4KPMC8 \n",
      "  Weighted Average Score = 2.0\n",
      "\n",
      "Product = B00E4KQ5C4 \n",
      "  Weighted Average Score = 5.0\n",
      "\n",
      "Product = B00E4KQ9GG \n",
      "  Weighted Average Score = 3.6875\n",
      "\n",
      "Product = B00E4KQ9K2 \n",
      "  Weighted Average Score = 5.0\n",
      "\n",
      "Product = B00E4KQD4E \n",
      "  Weighted Average Score = 4.0\n",
      "\n",
      "Product = B00E4KZBX8 \n",
      "  Weighted Average Score = 4.0\n",
      "\n",
      "Product = B00E4KZDJ0 \n",
      "  Weighted Average Score = 5.0\n",
      "\n",
      "Product = B00E4L35DA \n",
      "  Weighted Average Score = 3.0\n",
      "\n",
      "Product = B00E4L3N9Q \n",
      "  Weighted Average Score = 4.0\n",
      "\n",
      "Product = B00E4L48EA \n",
      "  Weighted Average Score = 5.0\n",
      "\n",
      "Product = B00E4L7FLI \n",
      "  Weighted Average Score = 1.0\n",
      "\n",
      "Product = B00E4L7TS2 \n",
      "  Weighted Average Score = 4.0\n",
      "\n",
      "Product = B00E4LAL82 \n",
      "  Weighted Average Score = 3.0\n",
      "\n",
      "Product = B00E4LBZZK \n",
      "  Weighted Average Score = 5.0\n",
      "\n",
      "Product = B00E4LF2Z4 \n",
      "  Weighted Average Score = 4.153846153846154\n",
      "\n",
      "Product = B00E4LFP0G \n",
      "  Weighted Average Score = 4.434782608695652\n",
      "\n",
      "Product = B00E4LFWWW \n",
      "  Weighted Average Score = 4.4\n",
      "\n",
      "Product = B00E4LGTVU \n",
      "  Weighted Average Score = 3.9064516129032256\n",
      "\n",
      "Product = B00E4LGTXS \n",
      "  Weighted Average Score = 4.0\n",
      "\n",
      "Product = B00E4LGVYA \n",
      "  Weighted Average Score = 3.8\n",
      "\n",
      "Product = B00E4LGWLW \n",
      "  Weighted Average Score = 3.8181818181818183\n",
      "\n",
      "Product = B00E4LGXL6 \n",
      "  Weighted Average Score = 5.0\n",
      "\n",
      "Product = B00E4LGY88 \n",
      "  Weighted Average Score = 4.248407643312102\n",
      "\n",
      "Product = B00E4LI86O \n",
      "  Weighted Average Score = 1.0\n",
      "\n",
      "Product = B00E4LJ8VI \n",
      "  Weighted Average Score = 1.6666666666666667\n",
      "\n",
      "Product = B00E4LQ9B0 \n",
      "  Weighted Average Score = 1.0\n",
      "\n",
      "Product = B00E4M2K08 \n",
      "  Weighted Average Score = 5.0\n",
      "\n",
      "Product = B00E4M3KW0 \n",
      "  Weighted Average Score = 4.0\n",
      "\n",
      "Product = B00E4M9H40 \n",
      "  Weighted Average Score = 3.25\n",
      "\n",
      "Product = B00E4MC3LO \n",
      "  Weighted Average Score = 2.0\n",
      "\n",
      "Product = B00E4MHBOI \n",
      "  Weighted Average Score = 3.0\n",
      "\n",
      "Product = B00E4ML766 \n",
      "  Weighted Average Score = 5.0\n",
      "\n",
      "Product = B00E4MNXYA \n",
      "  Weighted Average Score = 5.0\n",
      "\n",
      "Product = B00E4MQO8C \n",
      "  Weighted Average Score = 4.978260869565218\n",
      "\n",
      "Product = B00E4MQODW \n",
      "  Weighted Average Score = 2.6470588235294117\n",
      "\n",
      "Product = B00E4MQOE6 \n",
      "  Weighted Average Score = 4.674418604651163\n",
      "\n",
      "Product = B00E4MT07Y \n",
      "  Weighted Average Score = 1.3125\n",
      "\n",
      "Product = B00E4MVHTI \n",
      "  Weighted Average Score = 4.0\n",
      "\n",
      "Product = B00E4MYDTY \n",
      "  Weighted Average Score = 4.133333333333334\n",
      "\n",
      "Product = B00E4NC912 \n",
      "  Weighted Average Score = 5.0\n",
      "\n",
      "Product = B00E4O3CD0 \n",
      "  Weighted Average Score = 4.0\n",
      "\n",
      "Product = B00E4O7EO8 \n",
      "  Weighted Average Score = 4.230769230769231\n",
      "\n",
      "Product = B00E4OCCJK \n",
      "  Weighted Average Score = 5.0\n",
      "\n",
      "Product = B00E4OCECU \n",
      "  Weighted Average Score = 3.5\n",
      "\n",
      "Product = B00E4OHBNM \n",
      "  Weighted Average Score = 4.0\n",
      "\n",
      "Product = B00E4OHRJ0 \n",
      "  Weighted Average Score = 4.0\n",
      "\n",
      "Product = B00E4OI5H8 \n",
      "  Weighted Average Score = 5.0\n",
      "\n",
      "Product = B00E4OKJKY \n",
      "  Weighted Average Score = 5.0\n",
      "\n",
      "Product = B00E4OKJUE \n",
      "  Weighted Average Score = 1.0\n",
      "\n",
      "Product = B00E4OKZA8 \n",
      "  Weighted Average Score = 5.0\n",
      "\n",
      "Product = B00E4ON1YK \n",
      "  Weighted Average Score = 5.0\n",
      "\n",
      "Product = B00E4OSIO8 \n",
      "  Weighted Average Score = 5.0\n",
      "\n",
      "Product = B00E4PM406 \n",
      "  Weighted Average Score = 4.0\n",
      "\n",
      "Product = B00E4PMDIO \n",
      "  Weighted Average Score = 5.0\n",
      "\n",
      "Product = B00E4POW42 \n",
      "  Weighted Average Score = 5.0\n",
      "\n",
      "Product = B00E4PP8PY \n",
      "  Weighted Average Score = 4.0\n",
      "\n",
      "Product = B00E4QD7D8 \n",
      "  Weighted Average Score = 4.0\n",
      "\n",
      "Product = B00E4QM3TC \n",
      "  Weighted Average Score = 1.0\n",
      "\n",
      "Product = B00E4QX5J4 \n",
      "  Weighted Average Score = 2.0\n",
      "\n",
      "Product = B00E4RD4VC \n",
      "  Weighted Average Score = 4.545454545454546\n",
      "\n",
      "Product = B00E4RIYPI \n",
      "  Weighted Average Score = 4.333333333333333\n",
      "\n",
      "Product = B00E4RKKVY \n",
      "  Weighted Average Score = 4.0\n",
      "\n",
      "Product = B00E4RS3DG \n",
      "  Weighted Average Score = 4.5\n",
      "\n",
      "Product = B00E4RUZGO \n",
      "  Weighted Average Score = 2.2941176470588234\n",
      "\n",
      "Product = B00E4RZOQ0 \n",
      "  Weighted Average Score = 5.0\n",
      "\n",
      "Product = B00E4RZQM2 \n",
      "  Weighted Average Score = 2.4285714285714284\n",
      "\n",
      "Product = B00E4RZU00 \n",
      "  Weighted Average Score = 3.7857142857142856\n",
      "\n",
      "Product = B00E4RZV6S \n",
      "  Weighted Average Score = 3.75\n",
      "\n",
      "Product = B00E4RZW44 \n",
      "  Weighted Average Score = 3.0\n",
      "\n",
      "Product = B00E4RZYMO \n",
      "  Weighted Average Score = 1.0\n",
      "\n",
      "Product = B00E4S5BQ2 \n",
      "  Weighted Average Score = 5.0\n",
      "\n",
      "Product = B00E4SDU0Q \n",
      "  Weighted Average Score = 1.0\n",
      "\n",
      "Product = B00E4SEBAY \n",
      "  Weighted Average Score = 5.0\n",
      "\n",
      "Product = B00E4SPPHW \n",
      "  Weighted Average Score = 2.689655172413793\n",
      "\n",
      "Product = B00E4T58NC \n",
      "  Weighted Average Score = 3.206060606060606\n",
      "\n",
      "Product = B00E4T699E \n",
      "  Weighted Average Score = 3.0\n",
      "\n",
      "Product = B00E4T69DK \n",
      "  Weighted Average Score = 5.0\n",
      "\n",
      "Product = B00E4T6MWI \n",
      "  Weighted Average Score = 2.0\n",
      "\n",
      "Product = B00E4T7GP0 \n",
      "  Weighted Average Score = 2.0\n",
      "\n",
      "Product = B00E4T7VOG \n",
      "  Weighted Average Score = 5.0\n",
      "\n",
      "Product = B00E4T8XZC \n",
      "  Weighted Average Score = 4.75\n",
      "\n",
      "Product = B00E4TADN2 \n",
      "  Weighted Average Score = 3.0\n",
      "\n",
      "Product = B00E4TASKK \n",
      "  Weighted Average Score = 3.5\n",
      "\n",
      "Product = B00E4TBST0 \n",
      "  Weighted Average Score = 5.0\n",
      "\n",
      "Product = B00E4TEKC2 \n",
      "  Weighted Average Score = 5.0\n",
      "\n",
      "Product = B00E4TKYOU \n",
      "  Weighted Average Score = 5.0\n",
      "\n",
      "Product = B00E4TN3MA \n",
      "  Weighted Average Score = 1.0\n",
      "\n",
      "Product = B00E4TOWR0 \n",
      "  Weighted Average Score = 3.0\n",
      "\n",
      "Product = B00E4TV36I \n",
      "  Weighted Average Score = 5.0\n",
      "\n",
      "Product = B00E4TWMWC \n",
      "  Weighted Average Score = 1.0\n",
      "\n",
      "Product = B00E4U83B0 \n",
      "  Weighted Average Score = 2.7\n",
      "\n",
      "Product = B00E4UA7SW \n",
      "  Weighted Average Score = 4.769230769230769\n",
      "\n",
      "Product = B00E4UD9TQ \n",
      "  Weighted Average Score = 4.666666666666667\n",
      "\n",
      "Product = B00E4UGIVC \n",
      "  Weighted Average Score = 3.0\n",
      "\n",
      "Product = B00E4UGJV6 \n",
      "  Weighted Average Score = 4.0\n",
      "\n",
      "Product = B00E4UIU1I \n",
      "  Weighted Average Score = 5.0\n",
      "\n",
      "Product = B00E4UVVYG \n",
      "  Weighted Average Score = 5.0\n",
      "\n"
     ]
    }
   ],
   "source": [
    "for y in result2_first100:\n",
    "    print('Product = {0} \\n  Weighted Average Score = {1}\\n'.format(y['_id'], y['value']))"
   ]
  }
 ],
 "metadata": {
  "kernelspec": {
   "display_name": "Python 3",
   "language": "python",
   "name": "python3"
  },
  "language_info": {
   "codemirror_mode": {
    "name": "ipython",
    "version": 3
   },
   "file_extension": ".py",
   "mimetype": "text/x-python",
   "name": "python",
   "nbconvert_exporter": "python",
   "pygments_lexer": "ipython3",
   "version": "3.7.4"
  }
 },
 "nbformat": 4,
 "nbformat_minor": 2
}
