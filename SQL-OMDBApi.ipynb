{
 "cells": [
  {
   "cell_type": "markdown",
   "metadata": {},
   "source": [
    "### Importing libraries"
   ]
  },
  {
   "cell_type": "code",
   "execution_count": 1,
   "metadata": {},
   "outputs": [],
   "source": [
    "import requests\n",
    "import time\n",
    "from bs4 import BeautifulSoup\n",
    "import re\n",
    "import pandas as pd\n",
    "import numpy as np\n",
    "import collections as cl\n",
    "import json\n",
    "import codecs\n",
    "import warnings\n",
    "import mysql.connector\n",
    "import warnings"
   ]
  },
  {
   "cell_type": "markdown",
   "metadata": {},
   "source": [
    "### OMDB API for movie containing the word \"blade\" and parameters as  \"Plot: Short\" and \"Response: JSON\""
   ]
  },
  {
   "cell_type": "code",
   "execution_count": 2,
   "metadata": {},
   "outputs": [],
   "source": [
    "blade_url = \"http://www.omdbapi.com/?s=blade&apikey=4e414ece&type=movie&plot=short&r=json\""
   ]
  },
  {
   "cell_type": "markdown",
   "metadata": {},
   "source": [
    "### Connecting to the API and getting data"
   ]
  },
  {
   "cell_type": "code",
   "execution_count": 3,
   "metadata": {},
   "outputs": [],
   "source": [
    "response = requests.get(blade_url)"
   ]
  },
  {
   "cell_type": "markdown",
   "metadata": {},
   "source": [
    "### Printing data of the response"
   ]
  },
  {
   "cell_type": "code",
   "execution_count": 4,
   "metadata": {},
   "outputs": [
    {
     "name": "stdout",
     "output_type": "stream",
     "text": [
      "{\"Search\":[{\"Title\":\"Blade Runner\",\"Year\":\"1982\",\"imdbID\":\"tt0083658\",\"Type\":\"movie\",\"Poster\":\"https://m.media-amazon.com/images/M/MV5BNzQzMzJhZTEtOWM4NS00MTdhLTg0YjgtMjM4MDRkZjUwZDBlXkEyXkFqcGdeQXVyNjU0OTQ0OTY@._V1_SX300.jpg\"},{\"Title\":\"Blade Runner 2049\",\"Year\":\"2017\",\"imdbID\":\"tt1856101\",\"Type\":\"movie\",\"Poster\":\"https://m.media-amazon.com/images/M/MV5BNzA1Njg4NzYxOV5BMl5BanBnXkFtZTgwODk5NjU3MzI@._V1_SX300.jpg\"},{\"Title\":\"Blade\",\"Year\":\"1998\",\"imdbID\":\"tt0120611\",\"Type\":\"movie\",\"Poster\":\"https://m.media-amazon.com/images/M/MV5BOTk2NDNjZWQtMGY0Mi00YTY2LWE5MzctMGRhZmNlYzljYTg5XkEyXkFqcGdeQXVyMTAyNjg4NjE0._V1_SX300.jpg\"},{\"Title\":\"Blade II\",\"Year\":\"2002\",\"imdbID\":\"tt0187738\",\"Type\":\"movie\",\"Poster\":\"https://m.media-amazon.com/images/M/MV5BOWVjZTIzNDYtNTBlNC00NTJjLTkzOTEtOTE0MjlhYzI2YTcyXkEyXkFqcGdeQXVyNTAyODkwOQ@@._V1_SX300.jpg\"},{\"Title\":\"Blade: Trinity\",\"Year\":\"2004\",\"imdbID\":\"tt0359013\",\"Type\":\"movie\",\"Poster\":\"https://m.media-amazon.com/images/M/MV5BMjE0Nzg2MzI3MF5BMl5BanBnXkFtZTYwMjExODQ3._V1_SX300.jpg\"},{\"Title\":\"Sling Blade\",\"Year\":\"1996\",\"imdbID\":\"tt0117666\",\"Type\":\"movie\",\"Poster\":\"https://m.media-amazon.com/images/M/MV5BNGY5NWIxMjAtODBjNC00MmZhLTk1ZTAtNGRhYThlOTNjMTQwXkEyXkFqcGdeQXVyNTc1NTQxODI@._V1_SX300.jpg\"},{\"Title\":\"Dragon Blade\",\"Year\":\"2015\",\"imdbID\":\"tt3672840\",\"Type\":\"movie\",\"Poster\":\"https://m.media-amazon.com/images/M/MV5BMTk0MjgxOTQ5MF5BMl5BanBnXkFtZTgwODA3NTUwNjE@._V1_SX300.jpg\"},{\"Title\":\"Blade of the Immortal\",\"Year\":\"2017\",\"imdbID\":\"tt5084170\",\"Type\":\"movie\",\"Poster\":\"https://m.media-amazon.com/images/M/MV5BYzIwYmJlMjktMzJiMy00YmQzLThmNWYtNWY3NGViZjc4MzYwXkEyXkFqcGdeQXVyNDQxNjcxNQ@@._V1_SX300.jpg\"},{\"Title\":\"Shinobi: Heart Under Blade\",\"Year\":\"2005\",\"imdbID\":\"tt0475723\",\"Type\":\"movie\",\"Poster\":\"https://m.media-amazon.com/images/M/MV5BNjZhMTNmMTItNmU4Mi00YTdkLWFkZWUtOGExNTQ3MGRiYWYyXkEyXkFqcGdeQXVyNzI1NzMxNzM@._V1_SX300.jpg\"},{\"Title\":\"Blade Runner: Black Out 2022\",\"Year\":\"2017\",\"imdbID\":\"tt7428594\",\"Type\":\"movie\",\"Poster\":\"https://m.media-amazon.com/images/M/MV5BZGNiNmNiMTctMDI4OS00OWYxLWE4ZWEtZjFkZjU4ZmY5YzEyXkEyXkFqcGdeQXVyMzgxODM4NjM@._V1_SX300.jpg\"}],\"totalResults\":\"171\",\"Response\":\"True\"}\n"
     ]
    }
   ],
   "source": [
    "print(response.text)"
   ]
  },
  {
   "cell_type": "markdown",
   "metadata": {},
   "source": [
    "### Printing the JSON in a pretty format"
   ]
  },
  {
   "cell_type": "code",
   "execution_count": 5,
   "metadata": {},
   "outputs": [
    {
     "name": "stdout",
     "output_type": "stream",
     "text": [
      "{\n",
      "    \"Search\": [\n",
      "        {\n",
      "            \"Title\": \"Blade Runner\",\n",
      "            \"Year\": \"1982\",\n",
      "            \"imdbID\": \"tt0083658\",\n",
      "            \"Type\": \"movie\",\n",
      "            \"Poster\": \"https://m.media-amazon.com/images/M/MV5BNzQzMzJhZTEtOWM4NS00MTdhLTg0YjgtMjM4MDRkZjUwZDBlXkEyXkFqcGdeQXVyNjU0OTQ0OTY@._V1_SX300.jpg\"\n",
      "        },\n",
      "        {\n",
      "            \"Title\": \"Blade Runner 2049\",\n",
      "            \"Year\": \"2017\",\n",
      "            \"imdbID\": \"tt1856101\",\n",
      "            \"Type\": \"movie\",\n",
      "            \"Poster\": \"https://m.media-amazon.com/images/M/MV5BNzA1Njg4NzYxOV5BMl5BanBnXkFtZTgwODk5NjU3MzI@._V1_SX300.jpg\"\n",
      "        },\n",
      "        {\n",
      "            \"Title\": \"Blade\",\n",
      "            \"Year\": \"1998\",\n",
      "            \"imdbID\": \"tt0120611\",\n",
      "            \"Type\": \"movie\",\n",
      "            \"Poster\": \"https://m.media-amazon.com/images/M/MV5BOTk2NDNjZWQtMGY0Mi00YTY2LWE5MzctMGRhZmNlYzljYTg5XkEyXkFqcGdeQXVyMTAyNjg4NjE0._V1_SX300.jpg\"\n",
      "        },\n",
      "        {\n",
      "            \"Title\": \"Blade II\",\n",
      "            \"Year\": \"2002\",\n",
      "            \"imdbID\": \"tt0187738\",\n",
      "            \"Type\": \"movie\",\n",
      "            \"Poster\": \"https://m.media-amazon.com/images/M/MV5BOWVjZTIzNDYtNTBlNC00NTJjLTkzOTEtOTE0MjlhYzI2YTcyXkEyXkFqcGdeQXVyNTAyODkwOQ@@._V1_SX300.jpg\"\n",
      "        },\n",
      "        {\n",
      "            \"Title\": \"Blade: Trinity\",\n",
      "            \"Year\": \"2004\",\n",
      "            \"imdbID\": \"tt0359013\",\n",
      "            \"Type\": \"movie\",\n",
      "            \"Poster\": \"https://m.media-amazon.com/images/M/MV5BMjE0Nzg2MzI3MF5BMl5BanBnXkFtZTYwMjExODQ3._V1_SX300.jpg\"\n",
      "        },\n",
      "        {\n",
      "            \"Title\": \"Sling Blade\",\n",
      "            \"Year\": \"1996\",\n",
      "            \"imdbID\": \"tt0117666\",\n",
      "            \"Type\": \"movie\",\n",
      "            \"Poster\": \"https://m.media-amazon.com/images/M/MV5BNGY5NWIxMjAtODBjNC00MmZhLTk1ZTAtNGRhYThlOTNjMTQwXkEyXkFqcGdeQXVyNTc1NTQxODI@._V1_SX300.jpg\"\n",
      "        },\n",
      "        {\n",
      "            \"Title\": \"Dragon Blade\",\n",
      "            \"Year\": \"2015\",\n",
      "            \"imdbID\": \"tt3672840\",\n",
      "            \"Type\": \"movie\",\n",
      "            \"Poster\": \"https://m.media-amazon.com/images/M/MV5BMTk0MjgxOTQ5MF5BMl5BanBnXkFtZTgwODA3NTUwNjE@._V1_SX300.jpg\"\n",
      "        },\n",
      "        {\n",
      "            \"Title\": \"Blade of the Immortal\",\n",
      "            \"Year\": \"2017\",\n",
      "            \"imdbID\": \"tt5084170\",\n",
      "            \"Type\": \"movie\",\n",
      "            \"Poster\": \"https://m.media-amazon.com/images/M/MV5BYzIwYmJlMjktMzJiMy00YmQzLThmNWYtNWY3NGViZjc4MzYwXkEyXkFqcGdeQXVyNDQxNjcxNQ@@._V1_SX300.jpg\"\n",
      "        },\n",
      "        {\n",
      "            \"Title\": \"Shinobi: Heart Under Blade\",\n",
      "            \"Year\": \"2005\",\n",
      "            \"imdbID\": \"tt0475723\",\n",
      "            \"Type\": \"movie\",\n",
      "            \"Poster\": \"https://m.media-amazon.com/images/M/MV5BNjZhMTNmMTItNmU4Mi00YTdkLWFkZWUtOGExNTQ3MGRiYWYyXkEyXkFqcGdeQXVyNzI1NzMxNzM@._V1_SX300.jpg\"\n",
      "        },\n",
      "        {\n",
      "            \"Title\": \"Blade Runner: Black Out 2022\",\n",
      "            \"Year\": \"2017\",\n",
      "            \"imdbID\": \"tt7428594\",\n",
      "            \"Type\": \"movie\",\n",
      "            \"Poster\": \"https://m.media-amazon.com/images/M/MV5BZGNiNmNiMTctMDI4OS00OWYxLWE4ZWEtZjFkZjU4ZmY5YzEyXkEyXkFqcGdeQXVyMzgxODM4NjM@._V1_SX300.jpg\"\n",
      "        }\n",
      "    ],\n",
      "    \"totalResults\": \"171\",\n",
      "    \"Response\": \"True\"\n",
      "}\n"
     ]
    }
   ],
   "source": [
    "print(json.dumps(json.loads(response.text), indent=4))"
   ]
  },
  {
   "cell_type": "markdown",
   "metadata": {},
   "source": [
    "__Parse the JSON string from above to an internal Python or Java object for further handling. The code then iterates through the search results and prints the imdbID results to the screen.__"
   ]
  },
  {
   "cell_type": "markdown",
   "metadata": {},
   "source": [
    "### Parsing the data as JSON"
   ]
  },
  {
   "cell_type": "code",
   "execution_count": 6,
   "metadata": {},
   "outputs": [],
   "source": [
    "parsed = json.loads(response.text)"
   ]
  },
  {
   "cell_type": "markdown",
   "metadata": {},
   "source": [
    "### Storing only the list of search results"
   ]
  },
  {
   "cell_type": "code",
   "execution_count": 7,
   "metadata": {},
   "outputs": [],
   "source": [
    "search_results = parsed[\"Search\"]"
   ]
  },
  {
   "cell_type": "markdown",
   "metadata": {},
   "source": [
    "### For loop to print title and iMDb rating"
   ]
  },
  {
   "cell_type": "code",
   "execution_count": 8,
   "metadata": {},
   "outputs": [
    {
     "name": "stdout",
     "output_type": "stream",
     "text": [
      "Title: Blade Runner\n",
      "imdbID: tt0083658\n",
      "\n",
      "Title: Blade Runner 2049\n",
      "imdbID: tt1856101\n",
      "\n",
      "Title: Blade\n",
      "imdbID: tt0120611\n",
      "\n",
      "Title: Blade II\n",
      "imdbID: tt0187738\n",
      "\n",
      "Title: Blade: Trinity\n",
      "imdbID: tt0359013\n",
      "\n",
      "Title: Sling Blade\n",
      "imdbID: tt0117666\n",
      "\n",
      "Title: Dragon Blade\n",
      "imdbID: tt3672840\n",
      "\n",
      "Title: Blade of the Immortal\n",
      "imdbID: tt5084170\n",
      "\n",
      "Title: Shinobi: Heart Under Blade\n",
      "imdbID: tt0475723\n",
      "\n",
      "Title: Blade Runner: Black Out 2022\n",
      "imdbID: tt7428594\n",
      "\n"
     ]
    }
   ],
   "source": [
    "for x in range(len(search_results)):\n",
    "    print(\"Title: \"+search_results[x]['Title']+\"\\nimdbID: \"+search_results[x]['imdbID']+\"\\n\")"
   ]
  },
  {
   "cell_type": "markdown",
   "metadata": {},
   "source": [
    "## Saving the data in MySQL"
   ]
  },
  {
   "cell_type": "markdown",
   "metadata": {},
   "source": [
    "| Variable | Data Type   |\n",
    "|------|------|\n",
    "|   imdb_id  | varchar(25)|\n",
    "|  title  | varchar(100)|\n",
    "|   year  | int|"
   ]
  },
  {
   "cell_type": "markdown",
   "metadata": {},
   "source": [
    "### Connecting to the local instance and creating Database called \"ucdavis\""
   ]
  },
  {
   "cell_type": "code",
   "execution_count": 9,
   "metadata": {},
   "outputs": [
    {
     "data": {
      "text/plain": [
       "<bound method MySQLConnection.close of <mysql.connector.connection.MySQLConnection object at 0x00000229ECEA5688>>"
      ]
     },
     "execution_count": 9,
     "metadata": {},
     "output_type": "execute_result"
    }
   ],
   "source": [
    "mydb = mysql.connector.connect(\n",
    "  host=\"localhost\",\n",
    "  user=\"root\",\n",
    "  passwd=\"\"\n",
    ")\n",
    "\n",
    "mycursor = mydb.cursor()\n",
    "\n",
    "mycursor.execute(\"CREATE DATABASE IF NOT EXISTS ucdavis\")\n",
    "\n",
    "mycursor.close()\n",
    "\n",
    "mydb.close"
   ]
  },
  {
   "cell_type": "markdown",
   "metadata": {},
   "source": [
    "### Connecting to the local instance and creating a table called \"omdb_test\" with columns \"imdb_id\", \"title\" and \"year\""
   ]
  },
  {
   "cell_type": "code",
   "execution_count": 10,
   "metadata": {},
   "outputs": [
    {
     "data": {
      "text/plain": [
       "<bound method MySQLConnection.close of <mysql.connector.connection.MySQLConnection object at 0x00000229ECE97E08>>"
      ]
     },
     "execution_count": 10,
     "metadata": {},
     "output_type": "execute_result"
    }
   ],
   "source": [
    "mydb = mysql.connector.connect(\n",
    "  host=\"localhost\",\n",
    "  user=\"root\",\n",
    "  passwd=\"\",\n",
    "  database=\"ucdavis\"\n",
    ")\n",
    "\n",
    "mycursor = mydb.cursor()\n",
    "\n",
    "mycursor.execute(\"CREATE TABLE IF NOT EXISTS omdb_test (imdb_id VARCHAR(255) PRIMARY KEY NOT NULL, title VARCHAR(255), year int)\")\n",
    "\n",
    "mycursor.close()\n",
    "\n",
    "mydb.close"
   ]
  },
  {
   "cell_type": "markdown",
   "metadata": {},
   "source": [
    "### Checking all the tables in the \"ucdavis\" database"
   ]
  },
  {
   "cell_type": "code",
   "execution_count": 11,
   "metadata": {},
   "outputs": [
    {
     "name": "stdout",
     "output_type": "stream",
     "text": [
      "('omdb_test',)\n"
     ]
    },
    {
     "data": {
      "text/plain": [
       "<bound method MySQLConnection.close of <mysql.connector.connection.MySQLConnection object at 0x00000229ECEBD048>>"
      ]
     },
     "execution_count": 11,
     "metadata": {},
     "output_type": "execute_result"
    }
   ],
   "source": [
    "mydb = mysql.connector.connect(\n",
    "    host=\"localhost\",\n",
    "    user=\"root\",\n",
    "    passwd=\"\",\n",
    "    database=\"ucdavis\"\n",
    ")\n",
    "\n",
    "mycursor = mydb.cursor()\n",
    "\n",
    "mycursor.execute(\"SHOW TABLES\")\n",
    "\n",
    "for x in mycursor:\n",
    "  print(x)\n",
    "\n",
    "mycursor.close()\n",
    "\n",
    "mydb.close"
   ]
  },
  {
   "cell_type": "markdown",
   "metadata": {},
   "source": [
    "__Write a program in Python or Java that uses the OMDb API to lookup/search _your_ top 10 choices of movie titles and extract their imdbIDs. Print the movie titles along with their imdbID to the screen. (E.g., search for \"Dangal\" or \"Wolf Warrior 2\" and record the imdbID that corresponds to the exact movie you have in mind).__"
   ]
  },
  {
   "cell_type": "markdown",
   "metadata": {},
   "source": [
    "### Creating a list of the top 10 movies"
   ]
  },
  {
   "cell_type": "code",
   "execution_count": 12,
   "metadata": {},
   "outputs": [],
   "source": [
    "top_movies = [\"Dangal\", \n",
    "               \"Golmaal 3\",\n",
    "               \"Housefull\",\n",
    "               \"Ek Tha Tiger\",\n",
    "               \"Hangover\",\n",
    "               \"Tropic Thunder\",\n",
    "               \"Gentlemen\",\n",
    "               \"Eternal Sunshine of the Spotless Mind\",\n",
    "               \"No Country for Old Men\",\n",
    "               \"Catch Me if You Can\"\n",
    "             ]"
   ]
  },
  {
   "cell_type": "markdown",
   "metadata": {},
   "source": [
    "### Creating an empty list to store the imDb IDs of the movies"
   ]
  },
  {
   "cell_type": "code",
   "execution_count": 13,
   "metadata": {},
   "outputs": [],
   "source": [
    "movies_imdbID = []"
   ]
  },
  {
   "cell_type": "markdown",
   "metadata": {},
   "source": [
    "### Creating a for loop to iterate through the \"top_movies\" list and retrieve data for the movie using the omdb API, and saving their imDb ID in \"movies_imdbID\""
   ]
  },
  {
   "cell_type": "code",
   "execution_count": 14,
   "metadata": {},
   "outputs": [],
   "source": [
    "for x in range(len(top_movies)):\n",
    "    movie_url = \"http://www.omdbapi.com/?apikey=4e414ece&type=movie&t=\"+top_movies[x]\n",
    "    movie_response = requests.get(movie_url)\n",
    "    movie_parsed = json.loads(movie_response.text)\n",
    "    movies_imdbID.append(movie_parsed['imdbID'])"
   ]
  },
  {
   "cell_type": "markdown",
   "metadata": {},
   "source": [
    "### Printing the imdb IDs"
   ]
  },
  {
   "cell_type": "code",
   "execution_count": 15,
   "metadata": {},
   "outputs": [
    {
     "data": {
      "text/plain": [
       "['tt5074352',\n",
       " 'tt1562859',\n",
       " 'tt1573072',\n",
       " 'tt2016894',\n",
       " 'tt1737174',\n",
       " 'tt0942385',\n",
       " 'tt2058617',\n",
       " 'tt0338013',\n",
       " 'tt0477348',\n",
       " 'tt0264464']"
      ]
     },
     "execution_count": 15,
     "metadata": {},
     "output_type": "execute_result"
    }
   ],
   "source": [
    "movies_imdbID"
   ]
  },
  {
   "cell_type": "markdown",
   "metadata": {},
   "source": [
    "### Printing the Movie Titles along with imDb IDs"
   ]
  },
  {
   "cell_type": "code",
   "execution_count": 16,
   "metadata": {},
   "outputs": [
    {
     "name": "stdout",
     "output_type": "stream",
     "text": [
      "                             Movie Title    IMDB ID\n",
      "0                                 Dangal  tt5074352\n",
      "1                              Golmaal 3  tt1562859\n",
      "2                              Housefull  tt1573072\n",
      "3                           Ek Tha Tiger  tt2016894\n",
      "4                               Hangover  tt1737174\n",
      "5                         Tropic Thunder  tt0942385\n",
      "6                              Gentlemen  tt2058617\n",
      "7  Eternal Sunshine of the Spotless Mind  tt0338013\n",
      "8                 No Country for Old Men  tt0477348\n",
      "9                    Catch Me if You Can  tt0264464\n"
     ]
    }
   ],
   "source": [
    "print(pd.DataFrame({'Movie Title':top_movies, 'IMDB ID':movies_imdbID}))"
   ]
  },
  {
   "cell_type": "markdown",
   "metadata": {},
   "source": [
    "### For loop to iterate throught the \"movies_imdbID\" list and using it to print data for the movie related to that imdb ID"
   ]
  },
  {
   "cell_type": "code",
   "execution_count": 17,
   "metadata": {
    "scrolled": true
   },
   "outputs": [
    {
     "name": "stdout",
     "output_type": "stream",
     "text": [
      "imDb ID: tt5074352\n",
      "Movie Details are:\n",
      "{\n",
      "    \"Title\": \"Dangal\",\n",
      "    \"Year\": \"2016\",\n",
      "    \"Rated\": \"Not Rated\",\n",
      "    \"Released\": \"21 Dec 2016\",\n",
      "    \"Runtime\": \"161 min\",\n",
      "    \"Genre\": \"Action, Biography, Drama, Sport\",\n",
      "    \"Director\": \"Nitesh Tiwari\",\n",
      "    \"Writer\": \"Piyush Gupta, Shreyas Jain, Nikhil Mehrotra, Rajshri Sudhakar (Dialogue Writer: Telugu), Nitesh Tiwari\",\n",
      "    \"Actors\": \"Aamir Khan, Fatima Sana Shaikh, Sanya Malhotra, Sakshi Tanwar\",\n",
      "    \"Plot\": \"Former wrestler Mahavir Singh Phogat and his two wrestler daughters struggle towards glory at the Commonwealth Games in the face of societal oppression.\",\n",
      "    \"Language\": \"Hindi, Tamil, Telugu\",\n",
      "    \"Country\": \"India\",\n",
      "    \"Awards\": \"23 wins & 6 nominations.\",\n",
      "    \"Poster\": \"https://m.media-amazon.com/images/M/MV5BMTQ4MzQzMzM2Nl5BMl5BanBnXkFtZTgwMTQ1NzU3MDI@._V1_SX300.jpg\",\n",
      "    \"Ratings\": [\n",
      "        {\n",
      "            \"Source\": \"Internet Movie Database\",\n",
      "            \"Value\": \"8.4/10\"\n",
      "        },\n",
      "        {\n",
      "            \"Source\": \"Rotten Tomatoes\",\n",
      "            \"Value\": \"88%\"\n",
      "        }\n",
      "    ],\n",
      "    \"Metascore\": \"N/A\",\n",
      "    \"imdbRating\": \"8.4\",\n",
      "    \"imdbVotes\": \"133,098\",\n",
      "    \"imdbID\": \"tt5074352\",\n",
      "    \"Type\": \"movie\",\n",
      "    \"DVD\": \"N/A\",\n",
      "    \"BoxOffice\": \"$12,382,287\",\n",
      "    \"Production\": \"Aamir Khan Productions\",\n",
      "    \"Website\": \"N/A\",\n",
      "    \"Response\": \"True\"\n",
      "}\n",
      "\n",
      "*******\n",
      "\n",
      "imDb ID: tt1562859\n",
      "Movie Details are:\n",
      "{\n",
      "    \"Title\": \"Golmaal 3\",\n",
      "    \"Year\": \"2010\",\n",
      "    \"Rated\": \"Not Rated\",\n",
      "    \"Released\": \"05 Nov 2010\",\n",
      "    \"Runtime\": \"155 min\",\n",
      "    \"Genre\": \"Action, Comedy\",\n",
      "    \"Director\": \"Rohit Shetty\",\n",
      "    \"Writer\": \"Bunty Rathore (additional dialogue), Yunus Sajawal (screenplay), Sajid (dialogue), Farhad Samji (dialogue)\",\n",
      "    \"Actors\": \"Mithun Chakraborty, Ajay Devgn, Kareena Kapoor, Tusshar Kapoor\",\n",
      "    \"Plot\": \"In Goa, Pritam meets his love Geeta after many years. They decide to get married but the feud between their respective children creates tension in their marriage.\",\n",
      "    \"Language\": \"Hindi\",\n",
      "    \"Country\": \"India\",\n",
      "    \"Awards\": \"3 wins & 12 nominations.\",\n",
      "    \"Poster\": \"https://m.media-amazon.com/images/M/MV5BMTllZDJhMTAtMjhmZi00MzBjLTljMmQtMmNlYTAwYmY0Y2Q0XkEyXkFqcGdeQXVyNDUzOTQ5MjY@._V1_SX300.jpg\",\n",
      "    \"Ratings\": [\n",
      "        {\n",
      "            \"Source\": \"Internet Movie Database\",\n",
      "            \"Value\": \"5.4/10\"\n",
      "        },\n",
      "        {\n",
      "            \"Source\": \"Rotten Tomatoes\",\n",
      "            \"Value\": \"38%\"\n",
      "        }\n",
      "    ],\n",
      "    \"Metascore\": \"N/A\",\n",
      "    \"imdbRating\": \"5.4\",\n",
      "    \"imdbVotes\": \"6,848\",\n",
      "    \"imdbID\": \"tt1562859\",\n",
      "    \"Type\": \"movie\",\n",
      "    \"DVD\": \"15 Feb 2011\",\n",
      "    \"BoxOffice\": \"$1,132,192\",\n",
      "    \"Production\": \"Eros International\",\n",
      "    \"Website\": \"N/A\",\n",
      "    \"Response\": \"True\"\n",
      "}\n",
      "\n",
      "*******\n",
      "\n",
      "imDb ID: tt1573072\n",
      "Movie Details are:\n",
      "{\n",
      "    \"Title\": \"Housefull\",\n",
      "    \"Year\": \"2010\",\n",
      "    \"Rated\": \"Not Rated\",\n",
      "    \"Released\": \"30 Apr 2010\",\n",
      "    \"Runtime\": \"144 min\",\n",
      "    \"Genre\": \"Comedy\",\n",
      "    \"Director\": \"Sajid Khan\",\n",
      "    \"Writer\": \"Anvita Dutt Guptan (dialogues), Sajid Khan (screenplay), Sajid Nadiadwala (story), Sameer (lyrics), Vibha Singh (screenplay), Milap Zaveri (screenplay)\",\n",
      "    \"Actors\": \"Akshay Kumar, Deepika Padukone, Riteish Deshmukh, Lara Dutta\",\n",
      "    \"Plot\": \"Believing himself to be jinxed, a man attempts to find true love, but instead gets caught in a web of lies.\",\n",
      "    \"Language\": \"Hindi, Gujarati\",\n",
      "    \"Country\": \"India\",\n",
      "    \"Awards\": \"5 wins & 11 nominations.\",\n",
      "    \"Poster\": \"https://m.media-amazon.com/images/M/MV5BMDlkMmRkM2QtYmZiMi00NWYzLThmMjEtN2IwMTNhMDFkODA0XkEyXkFqcGdeQXVyNjQ2MjQ5NzM@._V1_SX300.jpg\",\n",
      "    \"Ratings\": [\n",
      "        {\n",
      "            \"Source\": \"Internet Movie Database\",\n",
      "            \"Value\": \"5.4/10\"\n",
      "        }\n",
      "    ],\n",
      "    \"Metascore\": \"N/A\",\n",
      "    \"imdbRating\": \"5.4\",\n",
      "    \"imdbVotes\": \"11,762\",\n",
      "    \"imdbID\": \"tt1573072\",\n",
      "    \"Type\": \"movie\",\n",
      "    \"DVD\": \"19 Oct 2010\",\n",
      "    \"BoxOffice\": \"$642,156\",\n",
      "    \"Production\": \"Eros Entertainment\",\n",
      "    \"Website\": \"N/A\",\n",
      "    \"Response\": \"True\"\n",
      "}\n",
      "\n",
      "*******\n",
      "\n",
      "imDb ID: tt2016894\n",
      "Movie Details are:\n",
      "{\n",
      "    \"Title\": \"Ek Tha Tiger\",\n",
      "    \"Year\": \"2012\",\n",
      "    \"Rated\": \"Not Rated\",\n",
      "    \"Released\": \"15 Aug 2012\",\n",
      "    \"Runtime\": \"132 min\",\n",
      "    \"Genre\": \"Action, Romance, Thriller\",\n",
      "    \"Director\": \"Kabir Khan\",\n",
      "    \"Writer\": \"Aditya Chopra, Kabir Khan (dialogue), Kabir Khan (screenplay), Neelesh Misra (dialogue), Neelesh Misra (screenplay)\",\n",
      "    \"Actors\": \"Salman Khan, Katrina Kaif, Girish Karnad, Roshan Seth\",\n",
      "    \"Plot\": \"India's top spy Tiger and his love Zoya battle the dark world of intelligence and espionage that forbids its soldiers from loving the enemy.\",\n",
      "    \"Language\": \"Hindi, English\",\n",
      "    \"Country\": \"India\",\n",
      "    \"Awards\": \"15 wins & 7 nominations.\",\n",
      "    \"Poster\": \"https://m.media-amazon.com/images/M/MV5BZTEyMTlmYTUtMDE0My00NWJmLWJlZmEtNzhjNGI0Mzk0NTA4XkEyXkFqcGdeQXVyNTkzNDQ4ODc@._V1_SX300.jpg\",\n",
      "    \"Ratings\": [\n",
      "        {\n",
      "            \"Source\": \"Internet Movie Database\",\n",
      "            \"Value\": \"5.5/10\"\n",
      "        },\n",
      "        {\n",
      "            \"Source\": \"Rotten Tomatoes\",\n",
      "            \"Value\": \"69%\"\n",
      "        }\n",
      "    ],\n",
      "    \"Metascore\": \"N/A\",\n",
      "    \"imdbRating\": \"5.5\",\n",
      "    \"imdbVotes\": \"27,257\",\n",
      "    \"imdbID\": \"tt2016894\",\n",
      "    \"Type\": \"movie\",\n",
      "    \"DVD\": \"N/A\",\n",
      "    \"BoxOffice\": \"$2,437,447\",\n",
      "    \"Production\": \"Yash Raj Films\",\n",
      "    \"Website\": \"N/A\",\n",
      "    \"Response\": \"True\"\n",
      "}\n",
      "\n",
      "*******\n",
      "\n",
      "imDb ID: tt1737174\n",
      "Movie Details are:\n",
      "{\n",
      "    \"Title\": \"Hangover\",\n",
      "    \"Year\": \"2010\",\n",
      "    \"Rated\": \"N/A\",\n",
      "    \"Released\": \"18 Jun 2010\",\n",
      "    \"Runtime\": \"135 min\",\n",
      "    \"Genre\": \"Comedy\",\n",
      "    \"Director\": \"Prabhat Roy\",\n",
      "    \"Writer\": \"Prabhat Roy (story)\",\n",
      "    \"Actors\": \"Sayantika Banerjee, Biplab Chatterjee, Prasenjit Chatterjee, Supriyo Dutta\",\n",
      "    \"Plot\": \"A man with a roving eye battles his midlife crisis.\",\n",
      "    \"Language\": \"Bengali\",\n",
      "    \"Country\": \"India\",\n",
      "    \"Awards\": \"N/A\",\n",
      "    \"Poster\": \"https://m.media-amazon.com/images/M/MV5BZWYwYjE2NWQtZmMwMi00YWVhLTgwOGMtODQ4NDQ2NTA4Y2ZkXkEyXkFqcGdeQXVyNjA3OTI5MjA@._V1_SX300.jpg\",\n",
      "    \"Ratings\": [\n",
      "        {\n",
      "            \"Source\": \"Internet Movie Database\",\n",
      "            \"Value\": \"6.1/10\"\n",
      "        }\n",
      "    ],\n",
      "    \"Metascore\": \"N/A\",\n",
      "    \"imdbRating\": \"6.1\",\n",
      "    \"imdbVotes\": \"129\",\n",
      "    \"imdbID\": \"tt1737174\",\n",
      "    \"Type\": \"movie\",\n",
      "    \"DVD\": \"N/A\",\n",
      "    \"BoxOffice\": \"N/A\",\n",
      "    \"Production\": \"N/A\",\n",
      "    \"Website\": \"N/A\",\n",
      "    \"Response\": \"True\"\n",
      "}\n",
      "\n",
      "*******\n",
      "\n",
      "imDb ID: tt0942385\n",
      "Movie Details are:\n",
      "{\n",
      "    \"Title\": \"Tropic Thunder\",\n",
      "    \"Year\": \"2008\",\n",
      "    \"Rated\": \"R\",\n",
      "    \"Released\": \"13 Aug 2008\",\n",
      "    \"Runtime\": \"107 min\",\n",
      "    \"Genre\": \"Action, Comedy, War\",\n",
      "    \"Director\": \"Ben Stiller\",\n",
      "    \"Writer\": \"Justin Theroux (screenplay), Ben Stiller (screenplay), Etan Cohen (screenplay), Ben Stiller (story), Justin Theroux (story)\",\n",
      "    \"Actors\": \"Jeff Kahn, Robert Downey Jr., Anthony Ruivivar, Jack Black\",\n",
      "    \"Plot\": \"Through a series of freak occurrences, a group of actors shooting a big-budget war movie are forced to become the soldiers they are portraying.\",\n",
      "    \"Language\": \"English, Mandarin\",\n",
      "    \"Country\": \"USA, UK, Germany\",\n",
      "    \"Awards\": \"Nominated for 1 Oscar. Another 10 wins & 46 nominations.\",\n",
      "    \"Poster\": \"https://m.media-amazon.com/images/M/MV5BNDE5NjQzMDkzOF5BMl5BanBnXkFtZTcwODI3ODI3MQ@@._V1_SX300.jpg\",\n",
      "    \"Ratings\": [\n",
      "        {\n",
      "            \"Source\": \"Internet Movie Database\",\n",
      "            \"Value\": \"7.0/10\"\n",
      "        },\n",
      "        {\n",
      "            \"Source\": \"Rotten Tomatoes\",\n",
      "            \"Value\": \"81%\"\n",
      "        },\n",
      "        {\n",
      "            \"Source\": \"Metacritic\",\n",
      "            \"Value\": \"71/100\"\n",
      "        }\n",
      "    ],\n",
      "    \"Metascore\": \"71\",\n",
      "    \"imdbRating\": \"7.0\",\n",
      "    \"imdbVotes\": \"360,664\",\n",
      "    \"imdbID\": \"tt0942385\",\n",
      "    \"Type\": \"movie\",\n",
      "    \"DVD\": \"18 Nov 2008\",\n",
      "    \"BoxOffice\": \"$110,416,702\",\n",
      "    \"Production\": \"DreamWorks/Paramount Studios\",\n",
      "    \"Website\": \"N/A\",\n",
      "    \"Response\": \"True\"\n",
      "}\n",
      "\n",
      "*******\n",
      "\n",
      "imDb ID: tt2058617\n",
      "Movie Details are:\n",
      "{\n",
      "    \"Title\": \"Gentlemen\",\n",
      "    \"Year\": \"2014\",\n",
      "    \"Rated\": \"N/A\",\n",
      "    \"Released\": \"05 Dec 2014\",\n",
      "    \"Runtime\": \"141 min\",\n",
      "    \"Genre\": \"Drama, Romance, Thriller\",\n",
      "    \"Director\": \"Mikael Marcimain\",\n",
      "    \"Writer\": \"Klas \\u00d6stergren (novel), Klas \\u00d6stergren (screenplay), Mikael Marcimain (screenplay in collaboration with)\",\n",
      "    \"Actors\": \"David Dencik, Sverrir Gudnason, David Fukamachi Regnfors, Ruth Vega Fernandez\",\n",
      "    \"Plot\": \"Beaten up, bruised, and scared, a young writer hides in a Stockholm apartment, writing the story of its disappeared inhabitants: the flamboyant and charismatic Morgan brothers.\",\n",
      "    \"Language\": \"Swedish\",\n",
      "    \"Country\": \"Sweden, Norway\",\n",
      "    \"Awards\": \"3 wins & 15 nominations.\",\n",
      "    \"Poster\": \"https://m.media-amazon.com/images/M/MV5BMTAwNjYwNTM4OTdeQTJeQWpwZ15BbWU4MDgyODE1NDMx._V1_SX300.jpg\",\n",
      "    \"Ratings\": [\n",
      "        {\n",
      "            \"Source\": \"Internet Movie Database\",\n",
      "            \"Value\": \"6.3/10\"\n",
      "        }\n",
      "    ],\n",
      "    \"Metascore\": \"N/A\",\n",
      "    \"imdbRating\": \"6.3\",\n",
      "    \"imdbVotes\": \"600\",\n",
      "    \"imdbID\": \"tt2058617\",\n",
      "    \"Type\": \"movie\",\n",
      "    \"DVD\": \"N/A\",\n",
      "    \"BoxOffice\": \"N/A\",\n",
      "    \"Production\": \"N/A\",\n",
      "    \"Website\": \"N/A\",\n",
      "    \"Response\": \"True\"\n",
      "}\n",
      "\n",
      "*******\n",
      "\n"
     ]
    },
    {
     "name": "stdout",
     "output_type": "stream",
     "text": [
      "imDb ID: tt0338013\n",
      "Movie Details are:\n",
      "{\n",
      "    \"Title\": \"Eternal Sunshine of the Spotless Mind\",\n",
      "    \"Year\": \"2004\",\n",
      "    \"Rated\": \"R\",\n",
      "    \"Released\": \"19 Mar 2004\",\n",
      "    \"Runtime\": \"108 min\",\n",
      "    \"Genre\": \"Drama, Romance, Sci-Fi\",\n",
      "    \"Director\": \"Michel Gondry\",\n",
      "    \"Writer\": \"Charlie Kaufman (story), Michel Gondry (story), Pierre Bismuth (story), Charlie Kaufman (screenplay)\",\n",
      "    \"Actors\": \"Jim Carrey, Kate Winslet, Gerry Robert Byrne, Elijah Wood\",\n",
      "    \"Plot\": \"When their relationship turns sour, a couple undergoes a medical procedure to have each other erased from their memories.\",\n",
      "    \"Language\": \"English\",\n",
      "    \"Country\": \"USA\",\n",
      "    \"Awards\": \"Won 1 Oscar. Another 72 wins & 110 nominations.\",\n",
      "    \"Poster\": \"https://m.media-amazon.com/images/M/MV5BMTY4NzcwODg3Nl5BMl5BanBnXkFtZTcwNTEwOTMyMw@@._V1_SX300.jpg\",\n",
      "    \"Ratings\": [\n",
      "        {\n",
      "            \"Source\": \"Internet Movie Database\",\n",
      "            \"Value\": \"8.3/10\"\n",
      "        },\n",
      "        {\n",
      "            \"Source\": \"Rotten Tomatoes\",\n",
      "            \"Value\": \"93%\"\n",
      "        },\n",
      "        {\n",
      "            \"Source\": \"Metacritic\",\n",
      "            \"Value\": \"89/100\"\n",
      "        }\n",
      "    ],\n",
      "    \"Metascore\": \"89\",\n",
      "    \"imdbRating\": \"8.3\",\n",
      "    \"imdbVotes\": \"852,730\",\n",
      "    \"imdbID\": \"tt0338013\",\n",
      "    \"Type\": \"movie\",\n",
      "    \"DVD\": \"28 Sep 2004\",\n",
      "    \"BoxOffice\": \"$34,126,138\",\n",
      "    \"Production\": \"Focus Features\",\n",
      "    \"Website\": \"N/A\",\n",
      "    \"Response\": \"True\"\n",
      "}\n",
      "\n",
      "*******\n",
      "\n",
      "imDb ID: tt0477348\n",
      "Movie Details are:\n",
      "{\n",
      "    \"Title\": \"No Country for Old Men\",\n",
      "    \"Year\": \"2007\",\n",
      "    \"Rated\": \"R\",\n",
      "    \"Released\": \"21 Nov 2007\",\n",
      "    \"Runtime\": \"122 min\",\n",
      "    \"Genre\": \"Crime, Drama, Thriller\",\n",
      "    \"Director\": \"Ethan Coen, Joel Coen\",\n",
      "    \"Writer\": \"Joel Coen (screenplay), Ethan Coen (screenplay), Cormac McCarthy (novel)\",\n",
      "    \"Actors\": \"Tommy Lee Jones, Javier Bardem, Josh Brolin, Woody Harrelson\",\n",
      "    \"Plot\": \"Violence and mayhem ensue after a hunter stumbles upon a drug deal gone wrong and more than two million dollars in cash near the Rio Grande.\",\n",
      "    \"Language\": \"English, Spanish\",\n",
      "    \"Country\": \"USA, Mexico\",\n",
      "    \"Awards\": \"Won 4 Oscars. Another 159 wins & 137 nominations.\",\n",
      "    \"Poster\": \"https://m.media-amazon.com/images/M/MV5BMjA5Njk3MjM4OV5BMl5BanBnXkFtZTcwMTc5MTE1MQ@@._V1_SX300.jpg\",\n",
      "    \"Ratings\": [\n",
      "        {\n",
      "            \"Source\": \"Internet Movie Database\",\n",
      "            \"Value\": \"8.1/10\"\n",
      "        },\n",
      "        {\n",
      "            \"Source\": \"Rotten Tomatoes\",\n",
      "            \"Value\": \"93%\"\n",
      "        },\n",
      "        {\n",
      "            \"Source\": \"Metacritic\",\n",
      "            \"Value\": \"91/100\"\n",
      "        }\n",
      "    ],\n",
      "    \"Metascore\": \"91\",\n",
      "    \"imdbRating\": \"8.1\",\n",
      "    \"imdbVotes\": \"794,614\",\n",
      "    \"imdbID\": \"tt0477348\",\n",
      "    \"Type\": \"movie\",\n",
      "    \"DVD\": \"07 Apr 2009\",\n",
      "    \"BoxOffice\": \"$74,223,625\",\n",
      "    \"Production\": \"Miramax Films\",\n",
      "    \"Website\": \"N/A\",\n",
      "    \"Response\": \"True\"\n",
      "}\n",
      "\n",
      "*******\n",
      "\n",
      "imDb ID: tt0264464\n",
      "Movie Details are:\n",
      "{\n",
      "    \"Title\": \"Catch Me If You Can\",\n",
      "    \"Year\": \"2002\",\n",
      "    \"Rated\": \"PG-13\",\n",
      "    \"Released\": \"25 Dec 2002\",\n",
      "    \"Runtime\": \"141 min\",\n",
      "    \"Genre\": \"Biography, Crime, Drama\",\n",
      "    \"Director\": \"Steven Spielberg\",\n",
      "    \"Writer\": \"Jeff Nathanson (screenplay), Frank Abagnale Jr. (book), Stan Redding (book)\",\n",
      "    \"Actors\": \"Leonardo DiCaprio, Tom Hanks, Christopher Walken, Martin Sheen\",\n",
      "    \"Plot\": \"A seasoned FBI agent pursues Frank Abagnale Jr. who, before his 19th birthday, successfully forged millions of dollars' worth of checks while posing as a Pan Am pilot, a doctor, and a legal prosecutor.\",\n",
      "    \"Language\": \"English, French\",\n",
      "    \"Country\": \"USA, Canada\",\n",
      "    \"Awards\": \"Nominated for 2 Oscars. Another 16 wins & 44 nominations.\",\n",
      "    \"Poster\": \"https://m.media-amazon.com/images/M/MV5BMTY5MzYzNjc5NV5BMl5BanBnXkFtZTYwNTUyNTc2._V1_SX300.jpg\",\n",
      "    \"Ratings\": [\n",
      "        {\n",
      "            \"Source\": \"Internet Movie Database\",\n",
      "            \"Value\": \"8.1/10\"\n",
      "        },\n",
      "        {\n",
      "            \"Source\": \"Rotten Tomatoes\",\n",
      "            \"Value\": \"96%\"\n",
      "        },\n",
      "        {\n",
      "            \"Source\": \"Metacritic\",\n",
      "            \"Value\": \"75/100\"\n",
      "        }\n",
      "    ],\n",
      "    \"Metascore\": \"75\",\n",
      "    \"imdbRating\": \"8.1\",\n",
      "    \"imdbVotes\": \"755,717\",\n",
      "    \"imdbID\": \"tt0264464\",\n",
      "    \"Type\": \"movie\",\n",
      "    \"DVD\": \"06 May 2003\",\n",
      "    \"BoxOffice\": \"$164,400,000\",\n",
      "    \"Production\": \"DreamWorks SKG\",\n",
      "    \"Website\": \"N/A\",\n",
      "    \"Response\": \"True\"\n",
      "}\n",
      "\n",
      "*******\n",
      "\n"
     ]
    }
   ],
   "source": [
    "for x in range(len(top_movies)):\n",
    "    movie_url = \"http://www.omdbapi.com/?apikey=4e414ece&type=movie&i=\"+movies_imdbID[x]\n",
    "    movie_response = requests.get(movie_url)\n",
    "    movie_parsed = json.loads(movie_response.text)\n",
    "    print(\"imDb ID: \"+movies_imdbID[x]+\"\\n\"+\"Movie Details are:\\n\"+json.dumps(movie_parsed, indent=4)+\"\\n\\n*******\\n\")"
   ]
  },
  {
   "cell_type": "markdown",
   "metadata": {},
   "source": [
    "### Conneting to MySQL database \"ucdavis\" and creating a new table \"omdb\" if it does not exist"
   ]
  },
  {
   "cell_type": "code",
   "execution_count": 18,
   "metadata": {},
   "outputs": [],
   "source": [
    "mydb = mysql.connector.connect(\n",
    "host=\"localhost\",\n",
    "    user=\"root\",\n",
    "    passwd=\"\",\n",
    "    database=\"ucdavis\"\n",
    ")\n",
    "\n",
    "mycursor = mydb.cursor()\n",
    "\n",
    "mycursor.execute(\"CREATE TABLE IF NOT EXISTS omdb (ID INT AUTO_INCREMENT PRIMARY KEY NOT NULL, title VARCHAR(255),year INT, genre VARCHAR(100), director VARCHAR(100), imdb_rating INT, rotten_tomatoes INT,metacritic INT, plot VARCHAR(1000), box_office VARCHAR(20))\")"
   ]
  },
  {
   "cell_type": "markdown",
   "metadata": {},
   "source": [
    "### Displaying all the tables in the ucdavis database to check whether the omdb database was created or not"
   ]
  },
  {
   "cell_type": "code",
   "execution_count": 19,
   "metadata": {},
   "outputs": [
    {
     "name": "stdout",
     "output_type": "stream",
     "text": [
      "('omdb',)\n",
      "('omdb_test',)\n"
     ]
    },
    {
     "data": {
      "text/plain": [
       "<bound method MySQLConnection.close of <mysql.connector.connection.MySQLConnection object at 0x00000229ECED3F08>>"
      ]
     },
     "execution_count": 19,
     "metadata": {},
     "output_type": "execute_result"
    }
   ],
   "source": [
    "mydb = mysql.connector.connect(\n",
    "    host=\"localhost\",\n",
    "    user=\"root\",\n",
    "    passwd=\"\",\n",
    "    database=\"ucdavis\"\n",
    ")\n",
    "\n",
    "mycursor = mydb.cursor()\n",
    "\n",
    "mycursor.execute(\"SHOW TABLES\")\n",
    "\n",
    "for x in mycursor:\n",
    "    print(x)\n",
    "\n",
    "mycursor.close()\n",
    "\n",
    "mydb.close"
   ]
  },
  {
   "cell_type": "markdown",
   "metadata": {},
   "source": [
    "### Displaying the columns of the table omdb"
   ]
  },
  {
   "cell_type": "code",
   "execution_count": 20,
   "metadata": {},
   "outputs": [
    {
     "name": "stdout",
     "output_type": "stream",
     "text": [
      "('ID', 'int(11)', 'NO', 'PRI', None, 'auto_increment')\n",
      "('title', 'varchar(255)', 'YES', '', None, '')\n",
      "('year', 'int(11)', 'YES', '', None, '')\n",
      "('genre', 'varchar(100)', 'YES', '', None, '')\n",
      "('director', 'varchar(100)', 'YES', '', None, '')\n",
      "('imdb_rating', 'int(11)', 'YES', '', None, '')\n",
      "('rotten_tomatoes', 'int(11)', 'YES', '', None, '')\n",
      "('metacritic', 'int(11)', 'YES', '', None, '')\n",
      "('plot', 'varchar(1000)', 'YES', '', None, '')\n",
      "('box_office', 'varchar(20)', 'YES', '', None, '')\n"
     ]
    }
   ],
   "source": [
    "mydb = mysql.connector.connect(\n",
    "    host=\"localhost\",\n",
    "    user=\"root\",\n",
    "    passwd=\"\",\n",
    "    database=\"ucdavis\"\n",
    ")\n",
    "\n",
    "mycursor = mydb.cursor()\n",
    "\n",
    "mycursor.execute(\"SHOW columns FROM omdb\")\n",
    "\n",
    "for x in mycursor:\n",
    "    print(x)\n",
    "\n",
    "mycursor.close()\n",
    "\n",
    "mydb.close()"
   ]
  },
  {
   "cell_type": "markdown",
   "metadata": {},
   "source": [
    "### Creating a function to take the various details to be saved as parameters and inserting them into the omdb table"
   ]
  },
  {
   "cell_type": "code",
   "execution_count": 21,
   "metadata": {},
   "outputs": [],
   "source": [
    "def insert_movie_details(title, year, genre, director, IMDB_rating, RT_rating, Metacritic_rating, plot, Box_Office):\n",
    "    query = \"INSERT INTO omdb(title,year,genre,director,imdb_rating,rotten_tomatoes,metacritic,plot,box_office) VALUES(%s, %s, %s, %s, %s, %s, %s, %s, %s);\"\n",
    "    \n",
    "    values = (title, year, genre, director, IMDB_rating, RT_rating, Metacritic_rating, plot, Box_Office)\n",
    "    \n",
    "    try:\n",
    "        mydb = mysql.connector.connect(\n",
    "            host=\"localhost\",\n",
    "            user=\"root\",\n",
    "            passwd=\"\",\n",
    "            database=\"ucdavis\"\n",
    "        )\n",
    "        \n",
    "        mycursor = mydb.cursor()\n",
    "        \n",
    "        mycursor.execute(query, values)\n",
    "        \n",
    "        if mycursor.lastrowid:\n",
    "            print('last insert id', mycursor.lastrowid)\n",
    "        else:\n",
    "            print('last insert id not found')\n",
    "        \n",
    "        mydb.commit()\n",
    "    \n",
    "    except Error as error:\n",
    "        print(error)\n",
    "        \n",
    "    finally:\n",
    "        mycursor.close()\n",
    "        mydb.close()"
   ]
  },
  {
   "cell_type": "markdown",
   "metadata": {},
   "source": [
    "### Collecting the required data on movies using the IMDB ID and inserting it into the omdb table using the insert_movie_details function"
   ]
  },
  {
   "cell_type": "code",
   "execution_count": 22,
   "metadata": {},
   "outputs": [
    {
     "name": "stdout",
     "output_type": "stream",
     "text": [
      "last insert id 1\n",
      "last insert id 2\n",
      "last insert id 3\n",
      "last insert id 4\n",
      "last insert id 5\n",
      "last insert id 6\n",
      "last insert id 7\n",
      "last insert id 8\n",
      "last insert id 9\n",
      "last insert id 10\n"
     ]
    }
   ],
   "source": [
    "for x in range(len(top_movies)):\n",
    "    movie_url = \"http://www.omdbapi.com/?apikey=4e414ece&type=movie&i=\"+movies_imdbID[x]\n",
    "    movie_response = requests.get(movie_url)\n",
    "    movie_parsed = json.loads(movie_response.text)\n",
    "    movie_title = movie_parsed['Title']\n",
    "    movie_year = movie_parsed['Year']\n",
    "    movie_genre = movie_parsed['Genre']\n",
    "\n",
    "    movie_director = movie_parsed['Director']\n",
    "\n",
    "    movie_IMDB_rating = str(int(float(movie_parsed['imdbRating'])*10))\n",
    "\n",
    "    movie_plot = movie_parsed['Plot']\n",
    "\n",
    "    movie_Box_Office = movie_parsed['BoxOffice']\n",
    "\n",
    "    Ratings = movie_parsed['Ratings']\n",
    "\n",
    "    movie_RT_rating = None\n",
    "\n",
    "    for i,v in enumerate(Ratings):\n",
    "        if('Rotten Tomatoes' in v['Source']): movie_RT_rating = str(int((v['Value']).rstrip('%')))\n",
    "\n",
    "    movie_Metacritic_rating = None if(\"N/A\" in movie_parsed['Metascore']) else(str(int(movie_parsed['Metascore'])))\n",
    "    \n",
    "    def main():\n",
    "        insert_movie_details(movie_title, movie_year, movie_genre, movie_director, movie_IMDB_rating, movie_RT_rating, movie_Metacritic_rating, movie_plot, movie_Box_Office)\n",
    "    \n",
    "    if __name__ == '__main__':\n",
    "        main()"
   ]
  },
  {
   "cell_type": "markdown",
   "metadata": {},
   "source": [
    "### Printing all the rows from the omdb table to check whether everything was inserted or not"
   ]
  },
  {
   "cell_type": "code",
   "execution_count": 23,
   "metadata": {},
   "outputs": [
    {
     "name": "stdout",
     "output_type": "stream",
     "text": [
      "(1, 'Dangal', 2016, 'Action, Biography, Drama, Sport', 'Nitesh Tiwari', 84, 88, None, 'Former wrestler Mahavir Singh Phogat and his two wrestler daughters struggle towards glory at the Commonwealth Games in the face of societal oppression.', '$12,382,287')\n",
      "\n",
      "\n",
      "(2, 'Golmaal 3', 2010, 'Action, Comedy', 'Rohit Shetty', 54, 38, None, 'In Goa, Pritam meets his love Geeta after many years. They decide to get married but the feud between their respective children creates tension in their marriage.', '$1,132,192')\n",
      "\n",
      "\n",
      "(3, 'Housefull', 2010, 'Comedy', 'Sajid Khan', 54, None, None, 'Believing himself to be jinxed, a man attempts to find true love, but instead gets caught in a web of lies.', '$642,156')\n",
      "\n",
      "\n",
      "(4, 'Ek Tha Tiger', 2012, 'Action, Romance, Thriller', 'Kabir Khan', 55, 69, None, \"India's top spy Tiger and his love Zoya battle the dark world of intelligence and espionage that forbids its soldiers from loving the enemy.\", '$2,437,447')\n",
      "\n",
      "\n",
      "(5, 'Hangover', 2010, 'Comedy', 'Prabhat Roy', 61, None, None, 'A man with a roving eye battles his midlife crisis.', 'N/A')\n",
      "\n",
      "\n",
      "(6, 'Tropic Thunder', 2008, 'Action, Comedy, War', 'Ben Stiller', 70, 81, 71, 'Through a series of freak occurrences, a group of actors shooting a big-budget war movie are forced to become the soldiers they are portraying.', '$110,416,702')\n",
      "\n",
      "\n",
      "(7, 'Gentlemen', 2014, 'Drama, Romance, Thriller', 'Mikael Marcimain', 63, None, None, 'Beaten up, bruised, and scared, a young writer hides in a Stockholm apartment, writing the story of its disappeared inhabitants: the flamboyant and charismatic Morgan brothers.', 'N/A')\n",
      "\n",
      "\n",
      "(8, 'Eternal Sunshine of the Spotless Mind', 2004, 'Drama, Romance, Sci-Fi', 'Michel Gondry', 83, 93, 89, 'When their relationship turns sour, a couple undergoes a medical procedure to have each other erased from their memories.', '$34,126,138')\n",
      "\n",
      "\n",
      "(9, 'No Country for Old Men', 2007, 'Crime, Drama, Thriller', 'Ethan Coen, Joel Coen', 81, 93, 91, 'Violence and mayhem ensue after a hunter stumbles upon a drug deal gone wrong and more than two million dollars in cash near the Rio Grande.', '$74,223,625')\n",
      "\n",
      "\n",
      "(10, 'Catch Me If You Can', 2002, 'Biography, Crime, Drama', 'Steven Spielberg', 81, 96, 75, \"A seasoned FBI agent pursues Frank Abagnale Jr. who, before his 19th birthday, successfully forged millions of dollars' worth of checks while posing as a Pan Am pilot, a doctor, and a legal prosecutor.\", '$164,400,000')\n",
      "\n",
      "\n"
     ]
    }
   ],
   "source": [
    "try:\n",
    "    mydb = mysql.connector.connect(\n",
    "        host=\"localhost\",\n",
    "        user=\"root\",\n",
    "        passwd=\"\",\n",
    "        database=\"ucdavis\"\n",
    "    )\n",
    "    \n",
    "    mycursor = mydb.cursor()\n",
    "    \n",
    "    mycursor.execute(\"SELECT * FROM omdb\")\n",
    "    \n",
    "    saved_data = mycursor.fetchall()\n",
    "    \n",
    "    for x in saved_data:\n",
    "        print(x)\n",
    "        print(\"\\n\")\n",
    "\n",
    "        \n",
    "finally:\n",
    "        mycursor.close()\n",
    "        mydb.close()"
   ]
  }
 ],
 "metadata": {
  "kernelspec": {
   "display_name": "Python 3",
   "language": "python",
   "name": "python3"
  },
  "language_info": {
   "codemirror_mode": {
    "name": "ipython",
    "version": 3
   },
   "file_extension": ".py",
   "mimetype": "text/x-python",
   "name": "python",
   "nbconvert_exporter": "python",
   "pygments_lexer": "ipython3",
   "version": "3.7.4"
  }
 },
 "nbformat": 4,
 "nbformat_minor": 2
}
