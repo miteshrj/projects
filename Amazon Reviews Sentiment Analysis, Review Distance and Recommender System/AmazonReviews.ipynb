{
 "cells": [
  {
   "cell_type": "markdown",
   "metadata": {},
   "source": [
    "***This notebook is intended for the development of a future feature on the website related to a centralized research repository with search.***"
   ]
  },
  {
   "cell_type": "markdown",
   "metadata": {},
   "source": [
    "## Import Packages"
   ]
  },
  {
   "cell_type": "code",
   "execution_count": 1,
   "metadata": {},
   "outputs": [],
   "source": [
    "import io\n",
    "import ijson\n",
    "import datetime\n",
    "import pandas as pd\n",
    "from os import listdir\n",
    "from os.path import isfile, join\n",
    "import json\n",
    "from pymongo import MongoClient\n",
    "from tqdm import tqdm_notebook as tqdm\n",
    "from nltk.tokenize import word_tokenize\n",
    "import gensim\n",
    "from pprint import pprint\n",
    "from sklearn.decomposition import PCA\n",
    "import matplotlib.pyplot as plt\n",
    "import spacy\n",
    "from nltk.corpus import stopwords\n",
    "from sklearn.feature_extraction.text import CountVectorizer\n",
    "from sklearn.decomposition import LatentDirichletAllocation\n",
    "from textblob import TextBlob"
   ]
  },
  {
   "cell_type": "code",
   "execution_count": 19,
   "metadata": {},
   "outputs": [],
   "source": [
    "import numpy as np"
   ]
  },
  {
   "cell_type": "markdown",
   "metadata": {},
   "source": [
    "## Load the JSON file"
   ]
  },
  {
   "cell_type": "code",
   "execution_count": 2,
   "metadata": {},
   "outputs": [
    {
     "name": "stdout",
     "output_type": "stream",
     "text": [
      "28\n"
     ]
    }
   ],
   "source": [
    "\n",
    "cols = [\"reviewerID\", \"asin\", \"reviewerName\", \"helpful_start\",\n",
    "        \"helpful_end\", \"reviewText\", \"overall\", \"summary\",\n",
    "        \"unixReviewTime\", \"reviewTime\"]\n",
    "\n",
    "reviewerID = []\n",
    "asin = []\n",
    "reviewerName = []\n",
    "helpful_start = []\n",
    "helpful_end = []\n",
    "reviewText = []\n",
    "overall = []\n",
    "summary = []\n",
    "unixReviewTime = []\n",
    "reviewTime = []\n",
    "helpful = []\n",
    "\n",
    "a = datetime.datetime.now()\n",
    "\n",
    "with open('Health_and_Personal_Care_5.json', encoding=\"UTF-8\") as json_file:\n",
    "    cursor = 0\n",
    "    for line_number, line in enumerate(json_file):\n",
    "        #print (\"Processing line\", line_number + 1,\"at cursor index:\", cursor)\n",
    "        line_as_file = io.StringIO(line)\n",
    "        # Use a new parser for each line\n",
    "        json_parser = ijson.parse(line_as_file)\n",
    "        for prefix, type, value in json_parser:\n",
    "            if (type == 'string') | (type == 'number'):\n",
    "                if prefix.strip() == 'reviewerID':\n",
    "                    reviewerID.append(value)\n",
    "                    #print(value)\n",
    "                elif prefix.strip() == 'asin':\n",
    "                    asin.append(value)\n",
    "                elif prefix.strip() == 'reviewerName':\n",
    "                    reviewerName.append(value)\n",
    "                elif prefix.strip() == 'helpful.item':\n",
    "                    helpful.append(value)\n",
    "                elif prefix.strip() == 'reviewText':\n",
    "                    reviewText.append(value)\n",
    "                elif prefix.strip() == 'overall':\n",
    "                    overall.append(value)\n",
    "                elif prefix.strip() == 'summary':\n",
    "                    summary.append(value)\n",
    "                elif prefix.strip() == 'unixReviewTime':\n",
    "                    unixReviewTime.append(value)\n",
    "                elif prefix.strip() == 'reviewTime':\n",
    "                    reviewTime.append(value)\n",
    "        cursor += len(line)\n",
    "\n",
    "        \n",
    "b = datetime.datetime.now()\n",
    "       \n",
    "helpful_start = [helpful[i] for i in range(len(helpful)) if i%2 == 0]\n",
    "helpful_end = [helpful[i] for i in range(len(helpful)) if i%2 == 1]\n",
    "\n",
    "review = pd.DataFrame(list(zip(reviewerID, asin, reviewerName, helpful_start, helpful_end,\n",
    "                           reviewText, overall, summary, unixReviewTime, reviewTime)),\n",
    "               columns =cols)\n",
    "c=b-a\n",
    "print(c.seconds)"
   ]
  },
  {
   "cell_type": "code",
   "execution_count": 3,
   "metadata": {},
   "outputs": [
    {
     "data": {
      "text/html": [
       "<div>\n",
       "<style scoped>\n",
       "    .dataframe tbody tr th:only-of-type {\n",
       "        vertical-align: middle;\n",
       "    }\n",
       "\n",
       "    .dataframe tbody tr th {\n",
       "        vertical-align: top;\n",
       "    }\n",
       "\n",
       "    .dataframe thead th {\n",
       "        text-align: right;\n",
       "    }\n",
       "</style>\n",
       "<table border=\"1\" class=\"dataframe\">\n",
       "  <thead>\n",
       "    <tr style=\"text-align: right;\">\n",
       "      <th></th>\n",
       "      <th>reviewerID</th>\n",
       "      <th>asin</th>\n",
       "      <th>reviewerName</th>\n",
       "      <th>helpful_start</th>\n",
       "      <th>helpful_end</th>\n",
       "      <th>reviewText</th>\n",
       "      <th>overall</th>\n",
       "      <th>summary</th>\n",
       "      <th>unixReviewTime</th>\n",
       "      <th>reviewTime</th>\n",
       "    </tr>\n",
       "  </thead>\n",
       "  <tbody>\n",
       "    <tr>\n",
       "      <td>0</td>\n",
       "      <td>ALC5GH8CAMAI7</td>\n",
       "      <td>159985130X</td>\n",
       "      <td>AnnN</td>\n",
       "      <td>1</td>\n",
       "      <td>1</td>\n",
       "      <td>This is a great little gadget to have around. ...</td>\n",
       "      <td>5.0</td>\n",
       "      <td>Handy little gadget</td>\n",
       "      <td>1294185600</td>\n",
       "      <td>01 5, 2011</td>\n",
       "    </tr>\n",
       "    <tr>\n",
       "      <td>1</td>\n",
       "      <td>AHKSURW85PJUE</td>\n",
       "      <td>159985130X</td>\n",
       "      <td>AZ buyer \"AZ buyer\"</td>\n",
       "      <td>1</td>\n",
       "      <td>1</td>\n",
       "      <td>I would recommend this for a travel magnifier ...</td>\n",
       "      <td>4.0</td>\n",
       "      <td>Small &amp; may need to encourage battery</td>\n",
       "      <td>1329523200</td>\n",
       "      <td>02 18, 2012</td>\n",
       "    </tr>\n",
       "    <tr>\n",
       "      <td>2</td>\n",
       "      <td>A38RMU1Y5TDP9</td>\n",
       "      <td>159985130X</td>\n",
       "      <td>Bob Tobias \"Robert Tobias\"</td>\n",
       "      <td>75</td>\n",
       "      <td>77</td>\n",
       "      <td>What I liked was the quality of the lens and t...</td>\n",
       "      <td>4.0</td>\n",
       "      <td>Very good but not great</td>\n",
       "      <td>1275955200</td>\n",
       "      <td>06 8, 2010</td>\n",
       "    </tr>\n",
       "    <tr>\n",
       "      <td>3</td>\n",
       "      <td>A1XZUG7DFXXOS4</td>\n",
       "      <td>159985130X</td>\n",
       "      <td>Cat lover</td>\n",
       "      <td>56</td>\n",
       "      <td>60</td>\n",
       "      <td>Love the Great point light pocket magnifier!  ...</td>\n",
       "      <td>4.0</td>\n",
       "      <td>great addition to your purse</td>\n",
       "      <td>1202428800</td>\n",
       "      <td>02 8, 2008</td>\n",
       "    </tr>\n",
       "    <tr>\n",
       "      <td>4</td>\n",
       "      <td>A1MS3M7M7AM13X</td>\n",
       "      <td>159985130X</td>\n",
       "      <td>Cricketoes</td>\n",
       "      <td>1</td>\n",
       "      <td>1</td>\n",
       "      <td>This is very nice. You pull out on the magnifi...</td>\n",
       "      <td>5.0</td>\n",
       "      <td>Very nice and convenient.</td>\n",
       "      <td>1313452800</td>\n",
       "      <td>08 16, 2011</td>\n",
       "    </tr>\n",
       "    <tr>\n",
       "      <td>...</td>\n",
       "      <td>...</td>\n",
       "      <td>...</td>\n",
       "      <td>...</td>\n",
       "      <td>...</td>\n",
       "      <td>...</td>\n",
       "      <td>...</td>\n",
       "      <td>...</td>\n",
       "      <td>...</td>\n",
       "      <td>...</td>\n",
       "      <td>...</td>\n",
       "    </tr>\n",
       "    <tr>\n",
       "      <td>343299</td>\n",
       "      <td>ABEAUXVVB2E1M</td>\n",
       "      <td>B00J42G2UW</td>\n",
       "      <td>Karinna Ball</td>\n",
       "      <td>1</td>\n",
       "      <td>1</td>\n",
       "      <td>I am a big fan of electric toothbrushes, and t...</td>\n",
       "      <td>4.0</td>\n",
       "      <td>I love this!</td>\n",
       "      <td>1403136000</td>\n",
       "      <td>06 19, 2014</td>\n",
       "    </tr>\n",
       "    <tr>\n",
       "      <td>343300</td>\n",
       "      <td>AEC90GPFKLAAW</td>\n",
       "      <td>B00J42G2UW</td>\n",
       "      <td>Laura hogan</td>\n",
       "      <td>1</td>\n",
       "      <td>1</td>\n",
       "      <td>Our kids have used Crest SpinBrushes for sever...</td>\n",
       "      <td>4.0</td>\n",
       "      <td>Cleans well, but it's not amazing</td>\n",
       "      <td>1401580800</td>\n",
       "      <td>06 1, 2014</td>\n",
       "    </tr>\n",
       "    <tr>\n",
       "      <td>343301</td>\n",
       "      <td>A1JBUBTQ48ITN4</td>\n",
       "      <td>B00J42G2UW</td>\n",
       "      <td>Onlinesalesgirl</td>\n",
       "      <td>1</td>\n",
       "      <td>1</td>\n",
       "      <td>I have some wisdom teeth and they are awkward ...</td>\n",
       "      <td>5.0</td>\n",
       "      <td>great for cleaning wisdom teeth</td>\n",
       "      <td>1401321600</td>\n",
       "      <td>05 29, 2014</td>\n",
       "    </tr>\n",
       "    <tr>\n",
       "      <td>343302</td>\n",
       "      <td>ANEEEFP4BL7ZX</td>\n",
       "      <td>B00J42G2UW</td>\n",
       "      <td>SJ Blouse \"Stacey\"</td>\n",
       "      <td>1</td>\n",
       "      <td>1</td>\n",
       "      <td>Honestly, I almost didn't choose this from Vin...</td>\n",
       "      <td>4.0</td>\n",
       "      <td>Works well and whitens teeth!</td>\n",
       "      <td>1402272000</td>\n",
       "      <td>06 9, 2014</td>\n",
       "    </tr>\n",
       "    <tr>\n",
       "      <td>343303</td>\n",
       "      <td>A2QW4HHHC6XWH4</td>\n",
       "      <td>B00J42G2UW</td>\n",
       "      <td>theresa</td>\n",
       "      <td>0</td>\n",
       "      <td>0</td>\n",
       "      <td>I've been using the Spinbrush for about 3 week...</td>\n",
       "      <td>5.0</td>\n",
       "      <td>Not a Bad Power Brush</td>\n",
       "      <td>1403740800</td>\n",
       "      <td>06 26, 2014</td>\n",
       "    </tr>\n",
       "  </tbody>\n",
       "</table>\n",
       "<p>343304 rows × 10 columns</p>\n",
       "</div>"
      ],
      "text/plain": [
       "            reviewerID        asin                reviewerName  helpful_start  \\\n",
       "0        ALC5GH8CAMAI7  159985130X                        AnnN              1   \n",
       "1        AHKSURW85PJUE  159985130X         AZ buyer \"AZ buyer\"              1   \n",
       "2        A38RMU1Y5TDP9  159985130X  Bob Tobias \"Robert Tobias\"             75   \n",
       "3       A1XZUG7DFXXOS4  159985130X                   Cat lover             56   \n",
       "4       A1MS3M7M7AM13X  159985130X                  Cricketoes              1   \n",
       "...                ...         ...                         ...            ...   \n",
       "343299   ABEAUXVVB2E1M  B00J42G2UW                Karinna Ball              1   \n",
       "343300   AEC90GPFKLAAW  B00J42G2UW                 Laura hogan              1   \n",
       "343301  A1JBUBTQ48ITN4  B00J42G2UW             Onlinesalesgirl              1   \n",
       "343302   ANEEEFP4BL7ZX  B00J42G2UW          SJ Blouse \"Stacey\"              1   \n",
       "343303  A2QW4HHHC6XWH4  B00J42G2UW                     theresa              0   \n",
       "\n",
       "        helpful_end                                         reviewText  \\\n",
       "0                 1  This is a great little gadget to have around. ...   \n",
       "1                 1  I would recommend this for a travel magnifier ...   \n",
       "2                77  What I liked was the quality of the lens and t...   \n",
       "3                60  Love the Great point light pocket magnifier!  ...   \n",
       "4                 1  This is very nice. You pull out on the magnifi...   \n",
       "...             ...                                                ...   \n",
       "343299            1  I am a big fan of electric toothbrushes, and t...   \n",
       "343300            1  Our kids have used Crest SpinBrushes for sever...   \n",
       "343301            1  I have some wisdom teeth and they are awkward ...   \n",
       "343302            1  Honestly, I almost didn't choose this from Vin...   \n",
       "343303            0  I've been using the Spinbrush for about 3 week...   \n",
       "\n",
       "       overall                                summary  unixReviewTime  \\\n",
       "0          5.0                    Handy little gadget      1294185600   \n",
       "1          4.0  Small & may need to encourage battery      1329523200   \n",
       "2          4.0                Very good but not great      1275955200   \n",
       "3          4.0           great addition to your purse      1202428800   \n",
       "4          5.0              Very nice and convenient.      1313452800   \n",
       "...        ...                                    ...             ...   \n",
       "343299     4.0                           I love this!      1403136000   \n",
       "343300     4.0      Cleans well, but it's not amazing      1401580800   \n",
       "343301     5.0        great for cleaning wisdom teeth      1401321600   \n",
       "343302     4.0          Works well and whitens teeth!      1402272000   \n",
       "343303     5.0                  Not a Bad Power Brush      1403740800   \n",
       "\n",
       "         reviewTime  \n",
       "0        01 5, 2011  \n",
       "1       02 18, 2012  \n",
       "2        06 8, 2010  \n",
       "3        02 8, 2008  \n",
       "4       08 16, 2011  \n",
       "...             ...  \n",
       "343299  06 19, 2014  \n",
       "343300   06 1, 2014  \n",
       "343301  05 29, 2014  \n",
       "343302   06 9, 2014  \n",
       "343303  06 26, 2014  \n",
       "\n",
       "[343304 rows x 10 columns]"
      ]
     },
     "execution_count": 3,
     "metadata": {},
     "output_type": "execute_result"
    }
   ],
   "source": [
    "review"
   ]
  },
  {
   "cell_type": "code",
   "execution_count": 4,
   "metadata": {},
   "outputs": [
    {
     "data": {
      "text/html": [
       "<div>\n",
       "<style scoped>\n",
       "    .dataframe tbody tr th:only-of-type {\n",
       "        vertical-align: middle;\n",
       "    }\n",
       "\n",
       "    .dataframe tbody tr th {\n",
       "        vertical-align: top;\n",
       "    }\n",
       "\n",
       "    .dataframe thead th {\n",
       "        text-align: right;\n",
       "    }\n",
       "</style>\n",
       "<table border=\"1\" class=\"dataframe\">\n",
       "  <thead>\n",
       "    <tr style=\"text-align: right;\">\n",
       "      <th></th>\n",
       "      <th>reviewerID</th>\n",
       "      <th>asin</th>\n",
       "      <th>reviewerName</th>\n",
       "      <th>helpful_start</th>\n",
       "      <th>helpful_end</th>\n",
       "      <th>reviewText</th>\n",
       "      <th>overall</th>\n",
       "      <th>summary</th>\n",
       "      <th>unixReviewTime</th>\n",
       "      <th>reviewTime</th>\n",
       "    </tr>\n",
       "  </thead>\n",
       "  <tbody>\n",
       "    <tr>\n",
       "      <td>0</td>\n",
       "      <td>ALC5GH8CAMAI7</td>\n",
       "      <td>159985130X</td>\n",
       "      <td>AnnN</td>\n",
       "      <td>1</td>\n",
       "      <td>1</td>\n",
       "      <td>This is a great little gadget to have around. ...</td>\n",
       "      <td>5.0</td>\n",
       "      <td>Handy little gadget</td>\n",
       "      <td>1294185600</td>\n",
       "      <td>01 5, 2011</td>\n",
       "    </tr>\n",
       "    <tr>\n",
       "      <td>1</td>\n",
       "      <td>AHKSURW85PJUE</td>\n",
       "      <td>159985130X</td>\n",
       "      <td>AZ buyer \"AZ buyer\"</td>\n",
       "      <td>1</td>\n",
       "      <td>1</td>\n",
       "      <td>I would recommend this for a travel magnifier ...</td>\n",
       "      <td>4.0</td>\n",
       "      <td>Small &amp; may need to encourage battery</td>\n",
       "      <td>1329523200</td>\n",
       "      <td>02 18, 2012</td>\n",
       "    </tr>\n",
       "    <tr>\n",
       "      <td>2</td>\n",
       "      <td>A38RMU1Y5TDP9</td>\n",
       "      <td>159985130X</td>\n",
       "      <td>Bob Tobias \"Robert Tobias\"</td>\n",
       "      <td>75</td>\n",
       "      <td>77</td>\n",
       "      <td>What I liked was the quality of the lens and t...</td>\n",
       "      <td>4.0</td>\n",
       "      <td>Very good but not great</td>\n",
       "      <td>1275955200</td>\n",
       "      <td>06 8, 2010</td>\n",
       "    </tr>\n",
       "    <tr>\n",
       "      <td>3</td>\n",
       "      <td>A1XZUG7DFXXOS4</td>\n",
       "      <td>159985130X</td>\n",
       "      <td>Cat lover</td>\n",
       "      <td>56</td>\n",
       "      <td>60</td>\n",
       "      <td>Love the Great point light pocket magnifier!  ...</td>\n",
       "      <td>4.0</td>\n",
       "      <td>great addition to your purse</td>\n",
       "      <td>1202428800</td>\n",
       "      <td>02 8, 2008</td>\n",
       "    </tr>\n",
       "    <tr>\n",
       "      <td>4</td>\n",
       "      <td>A1MS3M7M7AM13X</td>\n",
       "      <td>159985130X</td>\n",
       "      <td>Cricketoes</td>\n",
       "      <td>1</td>\n",
       "      <td>1</td>\n",
       "      <td>This is very nice. You pull out on the magnifi...</td>\n",
       "      <td>5.0</td>\n",
       "      <td>Very nice and convenient.</td>\n",
       "      <td>1313452800</td>\n",
       "      <td>08 16, 2011</td>\n",
       "    </tr>\n",
       "  </tbody>\n",
       "</table>\n",
       "</div>"
      ],
      "text/plain": [
       "       reviewerID        asin                reviewerName  helpful_start  \\\n",
       "0   ALC5GH8CAMAI7  159985130X                        AnnN              1   \n",
       "1   AHKSURW85PJUE  159985130X         AZ buyer \"AZ buyer\"              1   \n",
       "2   A38RMU1Y5TDP9  159985130X  Bob Tobias \"Robert Tobias\"             75   \n",
       "3  A1XZUG7DFXXOS4  159985130X                   Cat lover             56   \n",
       "4  A1MS3M7M7AM13X  159985130X                  Cricketoes              1   \n",
       "\n",
       "   helpful_end                                         reviewText overall  \\\n",
       "0            1  This is a great little gadget to have around. ...     5.0   \n",
       "1            1  I would recommend this for a travel magnifier ...     4.0   \n",
       "2           77  What I liked was the quality of the lens and t...     4.0   \n",
       "3           60  Love the Great point light pocket magnifier!  ...     4.0   \n",
       "4            1  This is very nice. You pull out on the magnifi...     5.0   \n",
       "\n",
       "                                 summary  unixReviewTime   reviewTime  \n",
       "0                    Handy little gadget      1294185600   01 5, 2011  \n",
       "1  Small & may need to encourage battery      1329523200  02 18, 2012  \n",
       "2                Very good but not great      1275955200   06 8, 2010  \n",
       "3           great addition to your purse      1202428800   02 8, 2008  \n",
       "4              Very nice and convenient.      1313452800  08 16, 2011  "
      ]
     },
     "execution_count": 4,
     "metadata": {},
     "output_type": "execute_result"
    }
   ],
   "source": [
    "# display metadata\n",
    "review.head()"
   ]
  },
  {
   "cell_type": "code",
   "execution_count": 5,
   "metadata": {},
   "outputs": [
    {
     "data": {
      "text/plain": [
       "\"This is a great little gadget to have around.  We've already used it to look for splinters and a few other uses.  The light is great.  It's a handy size.  However, I do wish I'd bought one with a little higher magnification.\""
      ]
     },
     "execution_count": 5,
     "metadata": {},
     "output_type": "execute_result"
    }
   ],
   "source": [
    "review.loc[0]['reviewText']"
   ]
  },
  {
   "cell_type": "code",
   "execution_count": 6,
   "metadata": {},
   "outputs": [
    {
     "data": {
      "text/plain": [
       "reviewerID        object\n",
       "asin              object\n",
       "reviewerName      object\n",
       "helpful_start      int64\n",
       "helpful_end        int64\n",
       "reviewText        object\n",
       "overall           object\n",
       "summary           object\n",
       "unixReviewTime     int64\n",
       "reviewTime        object\n",
       "dtype: object"
      ]
     },
     "execution_count": 6,
     "metadata": {},
     "output_type": "execute_result"
    }
   ],
   "source": [
    "review.dtypes"
   ]
  },
  {
   "cell_type": "code",
   "execution_count": 7,
   "metadata": {},
   "outputs": [],
   "source": [
    "# do some data cleaning\n",
    "full_data = review.copy()\n",
    "full_data = full_data.drop_duplicates(['reviewerID', 'asin'], keep='first')\n",
    "full_data = full_data.dropna()"
   ]
  },
  {
   "cell_type": "code",
   "execution_count": 8,
   "metadata": {},
   "outputs": [
    {
     "data": {
      "text/plain": [
       "(343304, 10)"
      ]
     },
     "execution_count": 8,
     "metadata": {},
     "output_type": "execute_result"
    }
   ],
   "source": [
    "full_data.shape"
   ]
  },
  {
   "cell_type": "code",
   "execution_count": 9,
   "metadata": {},
   "outputs": [],
   "source": [
    "# compute the sentiment rating for reviews\n",
    "def compute_sentiment_rating(reviews):\n",
    "    blob = TextBlob(reviews)\n",
    "    sentiment_rating = blob.sentiment[0]\n",
    "        \n",
    "    return sentiment_rating"
   ]
  },
  {
   "cell_type": "code",
   "execution_count": 10,
   "metadata": {},
   "outputs": [],
   "source": [
    "def get_sentiment(ratings):\n",
    "    is_positive = []\n",
    "    if type(ratings) is list: \n",
    "        for i in ratings:\n",
    "            if i > 0:\n",
    "                is_positive.append(True)\n",
    "            else:\n",
    "                is_positive.append(False)\n",
    "    else: \n",
    "        is_positive = True if ratings > 0 else False \n",
    "\n",
    "    return is_positive"
   ]
  },
  {
   "cell_type": "code",
   "execution_count": 11,
   "metadata": {},
   "outputs": [],
   "source": [
    "full_data['sentiment_rating']=full_data['reviewText'].apply(lambda x: compute_sentiment_rating(x))"
   ]
  },
  {
   "cell_type": "code",
   "execution_count": 12,
   "metadata": {},
   "outputs": [
    {
     "data": {
      "text/html": [
       "<div>\n",
       "<style scoped>\n",
       "    .dataframe tbody tr th:only-of-type {\n",
       "        vertical-align: middle;\n",
       "    }\n",
       "\n",
       "    .dataframe tbody tr th {\n",
       "        vertical-align: top;\n",
       "    }\n",
       "\n",
       "    .dataframe thead th {\n",
       "        text-align: right;\n",
       "    }\n",
       "</style>\n",
       "<table border=\"1\" class=\"dataframe\">\n",
       "  <thead>\n",
       "    <tr style=\"text-align: right;\">\n",
       "      <th></th>\n",
       "      <th>reviewerID</th>\n",
       "      <th>asin</th>\n",
       "      <th>reviewerName</th>\n",
       "      <th>helpful_start</th>\n",
       "      <th>helpful_end</th>\n",
       "      <th>reviewText</th>\n",
       "      <th>overall</th>\n",
       "      <th>summary</th>\n",
       "      <th>unixReviewTime</th>\n",
       "      <th>reviewTime</th>\n",
       "      <th>sentiment_rating</th>\n",
       "    </tr>\n",
       "  </thead>\n",
       "  <tbody>\n",
       "    <tr>\n",
       "      <td>0</td>\n",
       "      <td>ALC5GH8CAMAI7</td>\n",
       "      <td>159985130X</td>\n",
       "      <td>AnnN</td>\n",
       "      <td>1</td>\n",
       "      <td>1</td>\n",
       "      <td>This is a great little gadget to have around. ...</td>\n",
       "      <td>5.0</td>\n",
       "      <td>Handy little gadget</td>\n",
       "      <td>1294185600</td>\n",
       "      <td>01 5, 2011</td>\n",
       "      <td>0.238889</td>\n",
       "    </tr>\n",
       "    <tr>\n",
       "      <td>1</td>\n",
       "      <td>AHKSURW85PJUE</td>\n",
       "      <td>159985130X</td>\n",
       "      <td>AZ buyer \"AZ buyer\"</td>\n",
       "      <td>1</td>\n",
       "      <td>1</td>\n",
       "      <td>I would recommend this for a travel magnifier ...</td>\n",
       "      <td>4.0</td>\n",
       "      <td>Small &amp; may need to encourage battery</td>\n",
       "      <td>1329523200</td>\n",
       "      <td>02 18, 2012</td>\n",
       "      <td>0.222222</td>\n",
       "    </tr>\n",
       "    <tr>\n",
       "      <td>2</td>\n",
       "      <td>A38RMU1Y5TDP9</td>\n",
       "      <td>159985130X</td>\n",
       "      <td>Bob Tobias \"Robert Tobias\"</td>\n",
       "      <td>75</td>\n",
       "      <td>77</td>\n",
       "      <td>What I liked was the quality of the lens and t...</td>\n",
       "      <td>4.0</td>\n",
       "      <td>Very good but not great</td>\n",
       "      <td>1275955200</td>\n",
       "      <td>06 8, 2010</td>\n",
       "      <td>0.320486</td>\n",
       "    </tr>\n",
       "    <tr>\n",
       "      <td>3</td>\n",
       "      <td>A1XZUG7DFXXOS4</td>\n",
       "      <td>159985130X</td>\n",
       "      <td>Cat lover</td>\n",
       "      <td>56</td>\n",
       "      <td>60</td>\n",
       "      <td>Love the Great point light pocket magnifier!  ...</td>\n",
       "      <td>4.0</td>\n",
       "      <td>great addition to your purse</td>\n",
       "      <td>1202428800</td>\n",
       "      <td>02 8, 2008</td>\n",
       "      <td>0.301923</td>\n",
       "    </tr>\n",
       "    <tr>\n",
       "      <td>4</td>\n",
       "      <td>A1MS3M7M7AM13X</td>\n",
       "      <td>159985130X</td>\n",
       "      <td>Cricketoes</td>\n",
       "      <td>1</td>\n",
       "      <td>1</td>\n",
       "      <td>This is very nice. You pull out on the magnifi...</td>\n",
       "      <td>5.0</td>\n",
       "      <td>Very nice and convenient.</td>\n",
       "      <td>1313452800</td>\n",
       "      <td>08 16, 2011</td>\n",
       "      <td>0.402667</td>\n",
       "    </tr>\n",
       "  </tbody>\n",
       "</table>\n",
       "</div>"
      ],
      "text/plain": [
       "       reviewerID        asin                reviewerName  helpful_start  \\\n",
       "0   ALC5GH8CAMAI7  159985130X                        AnnN              1   \n",
       "1   AHKSURW85PJUE  159985130X         AZ buyer \"AZ buyer\"              1   \n",
       "2   A38RMU1Y5TDP9  159985130X  Bob Tobias \"Robert Tobias\"             75   \n",
       "3  A1XZUG7DFXXOS4  159985130X                   Cat lover             56   \n",
       "4  A1MS3M7M7AM13X  159985130X                  Cricketoes              1   \n",
       "\n",
       "   helpful_end                                         reviewText overall  \\\n",
       "0            1  This is a great little gadget to have around. ...     5.0   \n",
       "1            1  I would recommend this for a travel magnifier ...     4.0   \n",
       "2           77  What I liked was the quality of the lens and t...     4.0   \n",
       "3           60  Love the Great point light pocket magnifier!  ...     4.0   \n",
       "4            1  This is very nice. You pull out on the magnifi...     5.0   \n",
       "\n",
       "                                 summary  unixReviewTime   reviewTime  \\\n",
       "0                    Handy little gadget      1294185600   01 5, 2011   \n",
       "1  Small & may need to encourage battery      1329523200  02 18, 2012   \n",
       "2                Very good but not great      1275955200   06 8, 2010   \n",
       "3           great addition to your purse      1202428800   02 8, 2008   \n",
       "4              Very nice and convenient.      1313452800  08 16, 2011   \n",
       "\n",
       "   sentiment_rating  \n",
       "0          0.238889  \n",
       "1          0.222222  \n",
       "2          0.320486  \n",
       "3          0.301923  \n",
       "4          0.402667  "
      ]
     },
     "execution_count": 12,
     "metadata": {},
     "output_type": "execute_result"
    }
   ],
   "source": [
    "full_data.head()"
   ]
  },
  {
   "cell_type": "code",
   "execution_count": 13,
   "metadata": {},
   "outputs": [],
   "source": [
    "full_data['is_positive']=full_data['sentiment_rating'].apply(lambda x: True if x > 0 else False)"
   ]
  },
  {
   "cell_type": "code",
   "execution_count": 14,
   "metadata": {},
   "outputs": [
    {
     "data": {
      "text/html": [
       "<div>\n",
       "<style scoped>\n",
       "    .dataframe tbody tr th:only-of-type {\n",
       "        vertical-align: middle;\n",
       "    }\n",
       "\n",
       "    .dataframe tbody tr th {\n",
       "        vertical-align: top;\n",
       "    }\n",
       "\n",
       "    .dataframe thead th {\n",
       "        text-align: right;\n",
       "    }\n",
       "</style>\n",
       "<table border=\"1\" class=\"dataframe\">\n",
       "  <thead>\n",
       "    <tr style=\"text-align: right;\">\n",
       "      <th></th>\n",
       "      <th>reviewerID</th>\n",
       "      <th>asin</th>\n",
       "      <th>reviewerName</th>\n",
       "      <th>helpful_start</th>\n",
       "      <th>helpful_end</th>\n",
       "      <th>reviewText</th>\n",
       "      <th>overall</th>\n",
       "      <th>summary</th>\n",
       "      <th>unixReviewTime</th>\n",
       "      <th>reviewTime</th>\n",
       "      <th>sentiment_rating</th>\n",
       "      <th>is_positive</th>\n",
       "    </tr>\n",
       "  </thead>\n",
       "  <tbody>\n",
       "    <tr>\n",
       "      <td>0</td>\n",
       "      <td>ALC5GH8CAMAI7</td>\n",
       "      <td>159985130X</td>\n",
       "      <td>AnnN</td>\n",
       "      <td>1</td>\n",
       "      <td>1</td>\n",
       "      <td>This is a great little gadget to have around. ...</td>\n",
       "      <td>5.0</td>\n",
       "      <td>Handy little gadget</td>\n",
       "      <td>1294185600</td>\n",
       "      <td>01 5, 2011</td>\n",
       "      <td>0.238889</td>\n",
       "      <td>True</td>\n",
       "    </tr>\n",
       "    <tr>\n",
       "      <td>1</td>\n",
       "      <td>AHKSURW85PJUE</td>\n",
       "      <td>159985130X</td>\n",
       "      <td>AZ buyer \"AZ buyer\"</td>\n",
       "      <td>1</td>\n",
       "      <td>1</td>\n",
       "      <td>I would recommend this for a travel magnifier ...</td>\n",
       "      <td>4.0</td>\n",
       "      <td>Small &amp; may need to encourage battery</td>\n",
       "      <td>1329523200</td>\n",
       "      <td>02 18, 2012</td>\n",
       "      <td>0.222222</td>\n",
       "      <td>True</td>\n",
       "    </tr>\n",
       "    <tr>\n",
       "      <td>2</td>\n",
       "      <td>A38RMU1Y5TDP9</td>\n",
       "      <td>159985130X</td>\n",
       "      <td>Bob Tobias \"Robert Tobias\"</td>\n",
       "      <td>75</td>\n",
       "      <td>77</td>\n",
       "      <td>What I liked was the quality of the lens and t...</td>\n",
       "      <td>4.0</td>\n",
       "      <td>Very good but not great</td>\n",
       "      <td>1275955200</td>\n",
       "      <td>06 8, 2010</td>\n",
       "      <td>0.320486</td>\n",
       "      <td>True</td>\n",
       "    </tr>\n",
       "    <tr>\n",
       "      <td>3</td>\n",
       "      <td>A1XZUG7DFXXOS4</td>\n",
       "      <td>159985130X</td>\n",
       "      <td>Cat lover</td>\n",
       "      <td>56</td>\n",
       "      <td>60</td>\n",
       "      <td>Love the Great point light pocket magnifier!  ...</td>\n",
       "      <td>4.0</td>\n",
       "      <td>great addition to your purse</td>\n",
       "      <td>1202428800</td>\n",
       "      <td>02 8, 2008</td>\n",
       "      <td>0.301923</td>\n",
       "      <td>True</td>\n",
       "    </tr>\n",
       "    <tr>\n",
       "      <td>4</td>\n",
       "      <td>A1MS3M7M7AM13X</td>\n",
       "      <td>159985130X</td>\n",
       "      <td>Cricketoes</td>\n",
       "      <td>1</td>\n",
       "      <td>1</td>\n",
       "      <td>This is very nice. You pull out on the magnifi...</td>\n",
       "      <td>5.0</td>\n",
       "      <td>Very nice and convenient.</td>\n",
       "      <td>1313452800</td>\n",
       "      <td>08 16, 2011</td>\n",
       "      <td>0.402667</td>\n",
       "      <td>True</td>\n",
       "    </tr>\n",
       "  </tbody>\n",
       "</table>\n",
       "</div>"
      ],
      "text/plain": [
       "       reviewerID        asin                reviewerName  helpful_start  \\\n",
       "0   ALC5GH8CAMAI7  159985130X                        AnnN              1   \n",
       "1   AHKSURW85PJUE  159985130X         AZ buyer \"AZ buyer\"              1   \n",
       "2   A38RMU1Y5TDP9  159985130X  Bob Tobias \"Robert Tobias\"             75   \n",
       "3  A1XZUG7DFXXOS4  159985130X                   Cat lover             56   \n",
       "4  A1MS3M7M7AM13X  159985130X                  Cricketoes              1   \n",
       "\n",
       "   helpful_end                                         reviewText overall  \\\n",
       "0            1  This is a great little gadget to have around. ...     5.0   \n",
       "1            1  I would recommend this for a travel magnifier ...     4.0   \n",
       "2           77  What I liked was the quality of the lens and t...     4.0   \n",
       "3           60  Love the Great point light pocket magnifier!  ...     4.0   \n",
       "4            1  This is very nice. You pull out on the magnifi...     5.0   \n",
       "\n",
       "                                 summary  unixReviewTime   reviewTime  \\\n",
       "0                    Handy little gadget      1294185600   01 5, 2011   \n",
       "1  Small & may need to encourage battery      1329523200  02 18, 2012   \n",
       "2                Very good but not great      1275955200   06 8, 2010   \n",
       "3           great addition to your purse      1202428800   02 8, 2008   \n",
       "4              Very nice and convenient.      1313452800  08 16, 2011   \n",
       "\n",
       "   sentiment_rating  is_positive  \n",
       "0          0.238889         True  \n",
       "1          0.222222         True  \n",
       "2          0.320486         True  \n",
       "3          0.301923         True  \n",
       "4          0.402667         True  "
      ]
     },
     "execution_count": 14,
     "metadata": {},
     "output_type": "execute_result"
    }
   ],
   "source": [
    "full_data.head()"
   ]
  },
  {
   "cell_type": "code",
   "execution_count": 16,
   "metadata": {},
   "outputs": [
    {
     "name": "stderr",
     "output_type": "stream",
     "text": [
      "C:\\Users\\mites\\Anaconda3\\lib\\site-packages\\ipykernel_launcher.py:5: SettingWithCopyWarning: \n",
      "A value is trying to be set on a copy of a slice from a DataFrame.\n",
      "Try using .loc[row_indexer,col_indexer] = value instead\n",
      "\n",
      "See the caveats in the documentation: http://pandas.pydata.org/pandas-docs/stable/user_guide/indexing.html#returning-a-view-versus-a-copy\n",
      "  \"\"\"\n",
      "C:\\Users\\mites\\Anaconda3\\lib\\site-packages\\ipykernel_launcher.py:7: SettingWithCopyWarning: \n",
      "A value is trying to be set on a copy of a slice from a DataFrame.\n",
      "Try using .loc[row_indexer,col_indexer] = value instead\n",
      "\n",
      "See the caveats in the documentation: http://pandas.pydata.org/pandas-docs/stable/user_guide/indexing.html#returning-a-view-versus-a-copy\n",
      "  import sys\n",
      "C:\\Users\\mites\\Anaconda3\\lib\\site-packages\\ipykernel_launcher.py:9: SettingWithCopyWarning: \n",
      "A value is trying to be set on a copy of a slice from a DataFrame.\n",
      "Try using .loc[row_indexer,col_indexer] = value instead\n",
      "\n",
      "See the caveats in the documentation: http://pandas.pydata.org/pandas-docs/stable/user_guide/indexing.html#returning-a-view-versus-a-copy\n",
      "  if __name__ == '__main__':\n",
      "C:\\Users\\mites\\Anaconda3\\lib\\site-packages\\ipykernel_launcher.py:12: SettingWithCopyWarning: \n",
      "A value is trying to be set on a copy of a slice from a DataFrame.\n",
      "Try using .loc[row_indexer,col_indexer] = value instead\n",
      "\n",
      "See the caveats in the documentation: http://pandas.pydata.org/pandas-docs/stable/user_guide/indexing.html#returning-a-view-versus-a-copy\n",
      "  if sys.path[0] == '':\n",
      "C:\\Users\\mites\\Anaconda3\\lib\\site-packages\\ipykernel_launcher.py:14: SettingWithCopyWarning: \n",
      "A value is trying to be set on a copy of a slice from a DataFrame.\n",
      "Try using .loc[row_indexer,col_indexer] = value instead\n",
      "\n",
      "See the caveats in the documentation: http://pandas.pydata.org/pandas-docs/stable/user_guide/indexing.html#returning-a-view-versus-a-copy\n",
      "  \n",
      "C:\\Users\\mites\\Anaconda3\\lib\\site-packages\\ipykernel_launcher.py:16: SettingWithCopyWarning: \n",
      "A value is trying to be set on a copy of a slice from a DataFrame.\n",
      "Try using .loc[row_indexer,col_indexer] = value instead\n",
      "\n",
      "See the caveats in the documentation: http://pandas.pydata.org/pandas-docs/stable/user_guide/indexing.html#returning-a-view-versus-a-copy\n",
      "  app.launch_new_instance()\n"
     ]
    }
   ],
   "source": [
    "# get the first 5000 articles for development\n",
    "subset = full_data.head(5000)\n",
    "\n",
    "# convert to lower case\n",
    "subset['lower_reviewText'] = subset['reviewText'].str.lower()\n",
    "# tokenize body of research articles\n",
    "subset['lower_reviewText_tokens'] = subset['lower_reviewText'].apply(lambda x: word_tokenize(str(x)))\n",
    "# remove non alphanumeric characters\n",
    "subset['lower_reviewText_tokens'] = subset['lower_reviewText_tokens'].apply(lambda x: [w for w in x if w.isalpha()])\n",
    "\n",
    "# convert to lower case\n",
    "subset['lower_summary'] = subset['summary'].str.lower()\n",
    "# tokenize body of research articles\n",
    "subset['lower_summary_tokens'] = subset['lower_summary'].apply(lambda x: word_tokenize(str(x)))\n",
    "# remove non alphanumeric characters\n",
    "subset['lower_summary_tokens'] = subset['lower_summary_tokens'].apply(lambda x: [w for w in x if w.isalpha()])"
   ]
  },
  {
   "cell_type": "code",
   "execution_count": 17,
   "metadata": {},
   "outputs": [
    {
     "data": {
      "text/html": [
       "<div>\n",
       "<style scoped>\n",
       "    .dataframe tbody tr th:only-of-type {\n",
       "        vertical-align: middle;\n",
       "    }\n",
       "\n",
       "    .dataframe tbody tr th {\n",
       "        vertical-align: top;\n",
       "    }\n",
       "\n",
       "    .dataframe thead th {\n",
       "        text-align: right;\n",
       "    }\n",
       "</style>\n",
       "<table border=\"1\" class=\"dataframe\">\n",
       "  <thead>\n",
       "    <tr style=\"text-align: right;\">\n",
       "      <th></th>\n",
       "      <th>reviewerID</th>\n",
       "      <th>asin</th>\n",
       "      <th>reviewerName</th>\n",
       "      <th>helpful_start</th>\n",
       "      <th>helpful_end</th>\n",
       "      <th>reviewText</th>\n",
       "      <th>overall</th>\n",
       "      <th>summary</th>\n",
       "      <th>unixReviewTime</th>\n",
       "      <th>reviewTime</th>\n",
       "      <th>sentiment_rating</th>\n",
       "      <th>is_positive</th>\n",
       "      <th>lower_reviewText</th>\n",
       "      <th>lower_reviewText_tokens</th>\n",
       "      <th>lower_summary</th>\n",
       "      <th>lower_summary_tokens</th>\n",
       "    </tr>\n",
       "  </thead>\n",
       "  <tbody>\n",
       "    <tr>\n",
       "      <td>0</td>\n",
       "      <td>ALC5GH8CAMAI7</td>\n",
       "      <td>159985130X</td>\n",
       "      <td>AnnN</td>\n",
       "      <td>1</td>\n",
       "      <td>1</td>\n",
       "      <td>This is a great little gadget to have around. ...</td>\n",
       "      <td>5.0</td>\n",
       "      <td>Handy little gadget</td>\n",
       "      <td>1294185600</td>\n",
       "      <td>01 5, 2011</td>\n",
       "      <td>0.238889</td>\n",
       "      <td>True</td>\n",
       "      <td>this is a great little gadget to have around. ...</td>\n",
       "      <td>[this, is, a, great, little, gadget, to, have,...</td>\n",
       "      <td>handy little gadget</td>\n",
       "      <td>[handy, little, gadget]</td>\n",
       "    </tr>\n",
       "    <tr>\n",
       "      <td>1</td>\n",
       "      <td>AHKSURW85PJUE</td>\n",
       "      <td>159985130X</td>\n",
       "      <td>AZ buyer \"AZ buyer\"</td>\n",
       "      <td>1</td>\n",
       "      <td>1</td>\n",
       "      <td>I would recommend this for a travel magnifier ...</td>\n",
       "      <td>4.0</td>\n",
       "      <td>Small &amp; may need to encourage battery</td>\n",
       "      <td>1329523200</td>\n",
       "      <td>02 18, 2012</td>\n",
       "      <td>0.222222</td>\n",
       "      <td>True</td>\n",
       "      <td>i would recommend this for a travel magnifier ...</td>\n",
       "      <td>[i, would, recommend, this, for, a, travel, ma...</td>\n",
       "      <td>small &amp; may need to encourage battery</td>\n",
       "      <td>[small, may, need, to, encourage, battery]</td>\n",
       "    </tr>\n",
       "    <tr>\n",
       "      <td>2</td>\n",
       "      <td>A38RMU1Y5TDP9</td>\n",
       "      <td>159985130X</td>\n",
       "      <td>Bob Tobias \"Robert Tobias\"</td>\n",
       "      <td>75</td>\n",
       "      <td>77</td>\n",
       "      <td>What I liked was the quality of the lens and t...</td>\n",
       "      <td>4.0</td>\n",
       "      <td>Very good but not great</td>\n",
       "      <td>1275955200</td>\n",
       "      <td>06 8, 2010</td>\n",
       "      <td>0.320486</td>\n",
       "      <td>True</td>\n",
       "      <td>what i liked was the quality of the lens and t...</td>\n",
       "      <td>[what, i, liked, was, the, quality, of, the, l...</td>\n",
       "      <td>very good but not great</td>\n",
       "      <td>[very, good, but, not, great]</td>\n",
       "    </tr>\n",
       "    <tr>\n",
       "      <td>3</td>\n",
       "      <td>A1XZUG7DFXXOS4</td>\n",
       "      <td>159985130X</td>\n",
       "      <td>Cat lover</td>\n",
       "      <td>56</td>\n",
       "      <td>60</td>\n",
       "      <td>Love the Great point light pocket magnifier!  ...</td>\n",
       "      <td>4.0</td>\n",
       "      <td>great addition to your purse</td>\n",
       "      <td>1202428800</td>\n",
       "      <td>02 8, 2008</td>\n",
       "      <td>0.301923</td>\n",
       "      <td>True</td>\n",
       "      <td>love the great point light pocket magnifier!  ...</td>\n",
       "      <td>[love, the, great, point, light, pocket, magni...</td>\n",
       "      <td>great addition to your purse</td>\n",
       "      <td>[great, addition, to, your, purse]</td>\n",
       "    </tr>\n",
       "    <tr>\n",
       "      <td>4</td>\n",
       "      <td>A1MS3M7M7AM13X</td>\n",
       "      <td>159985130X</td>\n",
       "      <td>Cricketoes</td>\n",
       "      <td>1</td>\n",
       "      <td>1</td>\n",
       "      <td>This is very nice. You pull out on the magnifi...</td>\n",
       "      <td>5.0</td>\n",
       "      <td>Very nice and convenient.</td>\n",
       "      <td>1313452800</td>\n",
       "      <td>08 16, 2011</td>\n",
       "      <td>0.402667</td>\n",
       "      <td>True</td>\n",
       "      <td>this is very nice. you pull out on the magnifi...</td>\n",
       "      <td>[this, is, very, nice, you, pull, out, on, the...</td>\n",
       "      <td>very nice and convenient.</td>\n",
       "      <td>[very, nice, and, convenient]</td>\n",
       "    </tr>\n",
       "  </tbody>\n",
       "</table>\n",
       "</div>"
      ],
      "text/plain": [
       "       reviewerID        asin                reviewerName  helpful_start  \\\n",
       "0   ALC5GH8CAMAI7  159985130X                        AnnN              1   \n",
       "1   AHKSURW85PJUE  159985130X         AZ buyer \"AZ buyer\"              1   \n",
       "2   A38RMU1Y5TDP9  159985130X  Bob Tobias \"Robert Tobias\"             75   \n",
       "3  A1XZUG7DFXXOS4  159985130X                   Cat lover             56   \n",
       "4  A1MS3M7M7AM13X  159985130X                  Cricketoes              1   \n",
       "\n",
       "   helpful_end                                         reviewText overall  \\\n",
       "0            1  This is a great little gadget to have around. ...     5.0   \n",
       "1            1  I would recommend this for a travel magnifier ...     4.0   \n",
       "2           77  What I liked was the quality of the lens and t...     4.0   \n",
       "3           60  Love the Great point light pocket magnifier!  ...     4.0   \n",
       "4            1  This is very nice. You pull out on the magnifi...     5.0   \n",
       "\n",
       "                                 summary  unixReviewTime   reviewTime  \\\n",
       "0                    Handy little gadget      1294185600   01 5, 2011   \n",
       "1  Small & may need to encourage battery      1329523200  02 18, 2012   \n",
       "2                Very good but not great      1275955200   06 8, 2010   \n",
       "3           great addition to your purse      1202428800   02 8, 2008   \n",
       "4              Very nice and convenient.      1313452800  08 16, 2011   \n",
       "\n",
       "   sentiment_rating  is_positive  \\\n",
       "0          0.238889         True   \n",
       "1          0.222222         True   \n",
       "2          0.320486         True   \n",
       "3          0.301923         True   \n",
       "4          0.402667         True   \n",
       "\n",
       "                                    lower_reviewText  \\\n",
       "0  this is a great little gadget to have around. ...   \n",
       "1  i would recommend this for a travel magnifier ...   \n",
       "2  what i liked was the quality of the lens and t...   \n",
       "3  love the great point light pocket magnifier!  ...   \n",
       "4  this is very nice. you pull out on the magnifi...   \n",
       "\n",
       "                             lower_reviewText_tokens  \\\n",
       "0  [this, is, a, great, little, gadget, to, have,...   \n",
       "1  [i, would, recommend, this, for, a, travel, ma...   \n",
       "2  [what, i, liked, was, the, quality, of, the, l...   \n",
       "3  [love, the, great, point, light, pocket, magni...   \n",
       "4  [this, is, very, nice, you, pull, out, on, the...   \n",
       "\n",
       "                           lower_summary  \\\n",
       "0                    handy little gadget   \n",
       "1  small & may need to encourage battery   \n",
       "2                very good but not great   \n",
       "3           great addition to your purse   \n",
       "4              very nice and convenient.   \n",
       "\n",
       "                         lower_summary_tokens  \n",
       "0                     [handy, little, gadget]  \n",
       "1  [small, may, need, to, encourage, battery]  \n",
       "2               [very, good, but, not, great]  \n",
       "3          [great, addition, to, your, purse]  \n",
       "4               [very, nice, and, convenient]  "
      ]
     },
     "execution_count": 17,
     "metadata": {},
     "output_type": "execute_result"
    }
   ],
   "source": [
    "subset.head()"
   ]
  },
  {
   "cell_type": "code",
   "execution_count": 22,
   "metadata": {},
   "outputs": [],
   "source": [
    "cluster_std = np.std(subset['sentiment_rating'].tolist())"
   ]
  },
  {
   "cell_type": "code",
   "execution_count": 24,
   "metadata": {},
   "outputs": [],
   "source": [
    "review_string = 'I hate this product it\\'s so bad'\n",
    "sentiment_rating = compute_sentiment_rating(review_string)\n",
    "if sentiment_rating < 0:\n",
    "    lower_limit = (abs(sentiment_rating) - cluster_std) if (abs(sentiment_rating) - cluster_std) > 0 else 0\n",
    "    upper_limit = abs(sentiment_rating) + cluster_std\n",
    "else:\n",
    "    lower_limit = sentiment_rating\n",
    "    upper_limit = sentiment_rating + (1.5 * cluster_std)"
   ]
  },
  {
   "cell_type": "code",
   "execution_count": 25,
   "metadata": {},
   "outputs": [
    {
     "data": {
      "text/plain": [
       "-0.75"
      ]
     },
     "execution_count": 25,
     "metadata": {},
     "output_type": "execute_result"
    }
   ],
   "source": [
    "sentiment_rating"
   ]
  },
  {
   "cell_type": "code",
   "execution_count": 26,
   "metadata": {},
   "outputs": [
    {
     "data": {
      "text/plain": [
       "0.531604680949491"
      ]
     },
     "execution_count": 26,
     "metadata": {},
     "output_type": "execute_result"
    }
   ],
   "source": [
    "lower_limit"
   ]
  },
  {
   "cell_type": "code",
   "execution_count": 27,
   "metadata": {},
   "outputs": [
    {
     "data": {
      "text/plain": [
       "0.968395319050509"
      ]
     },
     "execution_count": 27,
     "metadata": {},
     "output_type": "execute_result"
    }
   ],
   "source": [
    "upper_limit"
   ]
  },
  {
   "cell_type": "code",
   "execution_count": 15,
   "metadata": {},
   "outputs": [
    {
     "ename": "SyntaxError",
     "evalue": "invalid syntax (<ipython-input-15-d5bced4d2fd1>, line 1)",
     "output_type": "error",
     "traceback": [
      "\u001b[1;36m  File \u001b[1;32m\"<ipython-input-15-d5bced4d2fd1>\"\u001b[1;36m, line \u001b[1;32m1\u001b[0m\n\u001b[1;33m    stop na\u001b[0m\n\u001b[1;37m          ^\u001b[0m\n\u001b[1;31mSyntaxError\u001b[0m\u001b[1;31m:\u001b[0m invalid syntax\n"
     ]
    }
   ],
   "source": [
    "stop na"
   ]
  },
  {
   "cell_type": "code",
   "execution_count": null,
   "metadata": {},
   "outputs": [],
   "source": [
    "stop_words = stopwords.words('english')\n",
    "def remove_stopwords(word_tokens):\n",
    "    ''' helped function to remove stopwords '''\n",
    "    return [w for w in word_tokens if not w in stop_words]"
   ]
  },
  {
   "cell_type": "code",
   "execution_count": null,
   "metadata": {},
   "outputs": [],
   "source": [
    "subset['lower_reviewText_tokens'] = subset['lower_reviewText_tokens'].apply(lambda x: remove_stopwords(x))\n",
    "subset['lower_summary_tokens'] = subset['lower_summary_tokens'].apply(lambda x: remove_stopwords(x))"
   ]
  },
  {
   "cell_type": "code",
   "execution_count": null,
   "metadata": {},
   "outputs": [],
   "source": [
    "all_reviewText = list(subset['lower_reviewText_tokens'])\n",
    "model = gensim.models.Word2Vec(all_reviewText, size=100, window=5, min_count=1)\n",
    "word_vectors = model.wv"
   ]
  },
  {
   "cell_type": "code",
   "execution_count": null,
   "metadata": {},
   "outputs": [],
   "source": [
    "all_summary = list(subset['lower_summary_tokens'])\n",
    "model = gensim.models.Word2Vec(all_summary, size=100, window=5, min_count=1)\n",
    "word_vectors = model.wv"
   ]
  },
  {
   "cell_type": "code",
   "execution_count": null,
   "metadata": {},
   "outputs": [],
   "source": [
    "!pip install textblob\n",
    "from textblob import TextBlob"
   ]
  },
  {
   "cell_type": "code",
   "execution_count": null,
   "metadata": {},
   "outputs": [],
   "source": [
    "all_reviewText[0]"
   ]
  },
  {
   "cell_type": "code",
   "execution_count": null,
   "metadata": {},
   "outputs": [],
   "source": [
    "all_summary[0]"
   ]
  },
  {
   "cell_type": "code",
   "execution_count": null,
   "metadata": {},
   "outputs": [],
   "source": [
    "blob = TextBlob(review.loc[0]['reviewText'])\n",
    "sentiment_rating = blob.sentiment[0]"
   ]
  },
  {
   "cell_type": "code",
   "execution_count": null,
   "metadata": {},
   "outputs": [],
   "source": [
    "sentiment_rating"
   ]
  },
  {
   "cell_type": "code",
   "execution_count": null,
   "metadata": {},
   "outputs": [],
   "source": []
  },
  {
   "cell_type": "code",
   "execution_count": null,
   "metadata": {},
   "outputs": [],
   "source": []
  },
  {
   "cell_type": "code",
   "execution_count": null,
   "metadata": {},
   "outputs": [],
   "source": []
  },
  {
   "cell_type": "code",
   "execution_count": null,
   "metadata": {},
   "outputs": [],
   "source": []
  },
  {
   "cell_type": "code",
   "execution_count": null,
   "metadata": {},
   "outputs": [],
   "source": []
  },
  {
   "cell_type": "code",
   "execution_count": null,
   "metadata": {},
   "outputs": [],
   "source": []
  },
  {
   "cell_type": "code",
   "execution_count": null,
   "metadata": {},
   "outputs": [],
   "source": []
  },
  {
   "cell_type": "code",
   "execution_count": null,
   "metadata": {},
   "outputs": [],
   "source": []
  },
  {
   "cell_type": "code",
   "execution_count": null,
   "metadata": {},
   "outputs": [],
   "source": []
  },
  {
   "cell_type": "code",
   "execution_count": null,
   "metadata": {},
   "outputs": [],
   "source": [
    "model.most_similar(positive='coronavirus')"
   ]
  },
  {
   "cell_type": "code",
   "execution_count": null,
   "metadata": {},
   "outputs": [],
   "source": [
    "model.most_similar(positive='transmission')"
   ]
  },
  {
   "cell_type": "code",
   "execution_count": null,
   "metadata": {},
   "outputs": [],
   "source": [
    "# define a search string\n",
    "search_string = 'What do we know about the transmission of the virus?'"
   ]
  },
  {
   "cell_type": "code",
   "execution_count": null,
   "metadata": {},
   "outputs": [],
   "source": [
    "# get distances of each paper against the search string\n",
    "distances = [(i[1]['paper_id'], \n",
    "              model.wmdistance(search_string, \n",
    "                               i[1]['body'])) for i in full_data.iterrows()]"
   ]
  },
  {
   "cell_type": "code",
   "execution_count": null,
   "metadata": {},
   "outputs": [],
   "source": [
    "# get the first 5 elements\n",
    "sorted(distances,key=lambda x: x[1])[:5]"
   ]
  },
  {
   "cell_type": "code",
   "execution_count": null,
   "metadata": {},
   "outputs": [],
   "source": [
    "# sample and see research title\n",
    "full_data.loc[full_data['paper_id'] == 'PMC7121202']['title'].iloc[0]"
   ]
  },
  {
   "cell_type": "code",
   "execution_count": null,
   "metadata": {
    "scrolled": true
   },
   "outputs": [],
   "source": [
    "# randomly sample and see research text\n",
    "full_data.loc[full_data['paper_id'] == 'PMC7121202']['new_abstract'].iloc[0]"
   ]
  },
  {
   "cell_type": "code",
   "execution_count": null,
   "metadata": {},
   "outputs": [],
   "source": [
    "# perform LDA\n",
    "count_vect = CountVectorizer(max_df=0.8, min_df=2, stop_words='english')\n",
    "doc_term_matrix = count_vect.fit_transform(subset['body'].values.astype('U'))"
   ]
  },
  {
   "cell_type": "code",
   "execution_count": null,
   "metadata": {},
   "outputs": [],
   "source": [
    "LDA = LatentDirichletAllocation(n_components=5, random_state=42)\n",
    "LDA.partial_fit(doc_term_matrix)"
   ]
  },
  {
   "cell_type": "code",
   "execution_count": null,
   "metadata": {},
   "outputs": [],
   "source": [
    "doc_term_matrix"
   ]
  },
  {
   "cell_type": "code",
   "execution_count": null,
   "metadata": {},
   "outputs": [],
   "source": [
    "LDA"
   ]
  },
  {
   "cell_type": "code",
   "execution_count": null,
   "metadata": {},
   "outputs": [],
   "source": [
    "first_topic =LDA.components_[0]"
   ]
  },
  {
   "cell_type": "code",
   "execution_count": null,
   "metadata": {},
   "outputs": [],
   "source": [
    "for i in first_topic.argsort()[-20:]:\n",
    "    print(count_vect.get_feature_names()[i])"
   ]
  },
  {
   "cell_type": "code",
   "execution_count": null,
   "metadata": {},
   "outputs": [],
   "source": [
    "count_vect.get_feature_names()[i]"
   ]
  },
  {
   "cell_type": "code",
   "execution_count": null,
   "metadata": {},
   "outputs": [],
   "source": [
    "for i,topic in enumerate(LDA.components_):\n",
    "    print(f'Top 10 words for topic #{i}:')\n",
    "    print([count_vect.get_feature_names()[i] for i in topic.argsort()[-10:]])\n",
    "    print('\\n')"
   ]
  },
  {
   "cell_type": "code",
   "execution_count": null,
   "metadata": {},
   "outputs": [],
   "source": [
    "topic_values = LDA.transform(doc_term_matrix)\n",
    "topic_values.shape"
   ]
  },
  {
   "cell_type": "code",
   "execution_count": null,
   "metadata": {},
   "outputs": [],
   "source": [
    "subset['Topic'] = topic_values.argmax(axis=1)"
   ]
  },
  {
   "cell_type": "code",
   "execution_count": null,
   "metadata": {},
   "outputs": [],
   "source": [
    "subset['Topic'].unique()"
   ]
  },
  {
   "cell_type": "code",
   "execution_count": null,
   "metadata": {},
   "outputs": [],
   "source": [
    "subset.head()"
   ]
  }
 ],
 "metadata": {
  "kernelspec": {
   "display_name": "Python 3",
   "language": "python",
   "name": "python3"
  },
  "language_info": {
   "codemirror_mode": {
    "name": "ipython",
    "version": 3
   },
   "file_extension": ".py",
   "mimetype": "text/x-python",
   "name": "python",
   "nbconvert_exporter": "python",
   "pygments_lexer": "ipython3",
   "version": "3.7.4"
  },
  "toc": {
   "base_numbering": 1,
   "nav_menu": {},
   "number_sections": true,
   "sideBar": true,
   "skip_h1_title": false,
   "title_cell": "Table of Contents",
   "title_sidebar": "Contents",
   "toc_cell": false,
   "toc_position": {},
   "toc_section_display": true,
   "toc_window_display": false
  },
  "varInspector": {
   "cols": {
    "lenName": 16,
    "lenType": 16,
    "lenVar": 40
   },
   "kernels_config": {
    "python": {
     "delete_cmd_postfix": "",
     "delete_cmd_prefix": "del ",
     "library": "var_list.py",
     "varRefreshCmd": "print(var_dic_list())"
    },
    "r": {
     "delete_cmd_postfix": ") ",
     "delete_cmd_prefix": "rm(",
     "library": "var_list.r",
     "varRefreshCmd": "cat(var_dic_list()) "
    }
   },
   "oldHeight": 258,
   "position": {
    "height": "40px",
    "left": "1027px",
    "right": "20px",
    "top": "116px",
    "width": "393px"
   },
   "types_to_exclude": [
    "module",
    "function",
    "builtin_function_or_method",
    "instance",
    "_Feature"
   ],
   "varInspector_section_display": "none",
   "window_display": false
  }
 },
 "nbformat": 4,
 "nbformat_minor": 2
}
